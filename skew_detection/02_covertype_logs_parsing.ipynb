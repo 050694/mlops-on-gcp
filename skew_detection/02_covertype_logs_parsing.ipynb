{
  "nbformat": 4,
  "nbformat_minor": 0,
  "metadata": {
    "colab": {
      "name": "02-covertype-logs-parsing-analysis.ipynb",
      "provenance": [],
      "toc_visible": true
    },
    "kernelspec": {
      "name": "python3",
      "display_name": "Python 3"
    }
  },
  "cells": [
    {
      "cell_type": "markdown",
      "metadata": {
        "id": "0AR0idu9xk14",
        "colab_type": "text"
      },
      "source": [
        "# Parsing and Querying AI Platform Prediction request-response logs in BigQuery\n",
        "\n",
        "This tutorial shows you how to create a view to parse the raw request instances and response predictions logged from AI Platfrom Prediction to BigQuery. The tutorial covers the following steps:\n",
        "\n",
        "1. Define dataset metadata\n",
        "2. Generate the CREATE VIEW script that parse the raw data\n",
        "3. Execute the script\n",
        "4. Query the view to retreive the parsed data"
      ]
    },
    {
      "cell_type": "markdown",
      "metadata": {
        "id": "2rvRgsRbyyBI",
        "colab_type": "text"
      },
      "source": [
        "## Setup"
      ]
    },
    {
      "cell_type": "markdown",
      "metadata": {
        "id": "CeB3g3pjy1CF",
        "colab_type": "text"
      },
      "source": [
        "### Install packages and dependencies"
      ]
    },
    {
      "cell_type": "code",
      "metadata": {
        "id": "4vRZ7XqFv2xl",
        "colab_type": "code",
        "colab": {}
      },
      "source": [
        "!pip install -U -q google-api-python-client\n",
        "!pip install -U -q pandas"
      ],
      "execution_count": 0,
      "outputs": []
    },
    {
      "cell_type": "code",
      "metadata": {
        "id": "ABw3oBE7y4mh",
        "colab_type": "code",
        "colab": {}
      },
      "source": [
        "# Automatically restart kernel after installs\n",
        "import IPython\n",
        "app = IPython.Application.instance()\n",
        "app.kernel.do_shutdown(True)  "
      ],
      "execution_count": 0,
      "outputs": []
    },
    {
      "cell_type": "markdown",
      "metadata": {
        "id": "qmF7xyWiy865",
        "colab_type": "text"
      },
      "source": [
        "### Set your GCP project\n"
      ]
    },
    {
      "cell_type": "code",
      "metadata": {
        "id": "ABuA_CMfy5_y",
        "colab_type": "code",
        "colab": {}
      },
      "source": [
        "PROJECT_ID = \"sa-data-validation\"\n",
        "MODEL_NAME = 'covertype_classifier'\n",
        "VERSION_NAME = 'v1' \n",
        "BQ_DATASET_NAME = 'prediction_logs'\n",
        "BQ_TABLE_NAME = 'covertype_classifier_logs'  \n",
        "!gcloud config set project $PROJECT_ID"
      ],
      "execution_count": 0,
      "outputs": []
    },
    {
      "cell_type": "markdown",
      "metadata": {
        "id": "UbclsuyHzb9l",
        "colab_type": "text"
      },
      "source": [
        "### Authenticate your GCP account\n",
        "This is required if you run the notebook in Colab"
      ]
    },
    {
      "cell_type": "code",
      "metadata": {
        "id": "wBwj__DYzYZb",
        "colab_type": "code",
        "colab": {}
      },
      "source": [
        "try:\n",
        "  from google.colab import auth\n",
        "  auth.authenticate_user()\n",
        "  print(\"Colab user is authenticated.\")\n",
        "except: pass"
      ],
      "execution_count": 0,
      "outputs": []
    },
    {
      "cell_type": "markdown",
      "metadata": {
        "id": "8jf7IAgzzjcD",
        "colab_type": "text"
      },
      "source": [
        "### Import libraries"
      ]
    },
    {
      "cell_type": "code",
      "metadata": {
        "id": "oKSWHV5Ozekh",
        "colab_type": "code",
        "colab": {}
      },
      "source": [
        "from __future__ import absolute_import\n",
        "from __future__ import division\n",
        "from __future__ import print_function\n",
        "\n",
        "import os\n",
        "import pandas as pd\n",
        "from google.cloud import bigquery\n"
      ],
      "execution_count": 0,
      "outputs": []
    },
    {
      "cell_type": "markdown",
      "metadata": {
        "id": "aWBC2QGyzrzK",
        "colab_type": "text"
      },
      "source": [
        "## 1. Define Dataset Metadata"
      ]
    },
    {
      "cell_type": "code",
      "metadata": {
        "id": "DP1X82fTzvod",
        "colab_type": "code",
        "colab": {}
      },
      "source": [
        "HEADER = ['Elevation', 'Aspect', 'Slope','Horizontal_Distance_To_Hydrology',\n",
        "          'Vertical_Distance_To_Hydrology', 'Horizontal_Distance_To_Roadways',\n",
        "          'Hillshade_9am', 'Hillshade_Noon', 'Hillshade_3pm',\n",
        "          'Horizontal_Distance_To_Fire_Points', 'Wilderness_Area', 'Soil_Type',\n",
        "          'Cover_Type']\n",
        "\n",
        "TARGET_FEATURE_NAME = 'Cover_Type'\n",
        "\n",
        "FEATURE_LABELS = ['0', '1', '2', '3', '4', '5', '6']\n",
        "\n",
        "NUMERIC_FEATURE_NAMES = ['Aspect', 'Elevation', 'Hillshade_3pm', \n",
        "                         'Hillshade_9am', 'Hillshade_Noon', \n",
        "                         'Horizontal_Distance_To_Fire_Points',\n",
        "                         'Horizontal_Distance_To_Hydrology',\n",
        "                         'Horizontal_Distance_To_Roadways','Slope',\n",
        "                         'Vertical_Distance_To_Hydrology']\n",
        "\n",
        "CATEGORICAL_FEATURES_WITH_VOCABULARY = {\n",
        "    'Soil_Type': ['2702', '2703', '2704', '2705', '2706', '2717', '3501', '3502', \n",
        "                  '4201', '4703', '4704', '4744', '4758', '5101', '6101', '6102', \n",
        "                  '6731', '7101', '7102', '7103', '7201', '7202', '7700', '7701', \n",
        "                  '7702', '7709', '7710', '7745', '7746', '7755', '7756', '7757', \n",
        "                  '7790', '8703', '8707', '8708', '8771', '8772', '8776'], \n",
        "    'Wilderness_Area': ['Cache', 'Commanche', 'Neota', 'Rawah']\n",
        "}\n",
        "\n",
        "FEATURE_NAMES = list(CATEGORICAL_FEATURES_WITH_VOCABULARY.keys()) + NUMERIC_FEATURE_NAMES\n",
        "\n",
        "HEADER_DEFAULTS = [[0] if feature_name in NUMERIC_FEATURE_NAMES + [TARGET_FEATURE_NAME] else ['NA'] \n",
        "                   for feature_name in HEADER]\n",
        "\n",
        "NUM_CLASSES = len(FEATURE_LABELS)\n",
        "\n"
      ],
      "execution_count": 0,
      "outputs": []
    },
    {
      "cell_type": "markdown",
      "metadata": {
        "id": "C1Aiyxc2z9T7",
        "colab_type": "text"
      },
      "source": [
        "## 2. Generate the CREATE VIEW script"
      ]
    },
    {
      "cell_type": "code",
      "metadata": {
        "id": "VEsUez7cz00c",
        "colab_type": "code",
        "colab": {}
      },
      "source": [
        "MODEL_OUTPUT_KEY = 'probabilities'\n",
        "\n",
        "view_name = \"vw_\"+BQ_TABLE_NAME+\"_\"+VERSION_NAME\n",
        "\n",
        "colum_names = FEATURE_NAMES\n",
        "input_features = ', \\r\\n  '.join(colum_names)\n",
        "\n",
        "json_features_extraction = []\n",
        "for feature_name in colum_names:\n",
        "  s = \"JSON_EXTRACT(instance, '$.{}')\".format(feature_name) \n",
        "  if feature_name in NUMERIC_FEATURE_NAMES:\n",
        "    s = \"CAST({} AS NUMERIC)\".format(s)\n",
        "  s += \" AS {}\".format(feature_name)\n",
        "  json_features_extraction.append(s)\n",
        "json_features_extraction = ', \\r\\n    '.join(json_features_extraction)\n",
        "\n",
        "class_probability_pivoting = []\n",
        "for class_index, class_label in enumerate(FEATURE_LABELS):\n",
        "  s = \"CAST(MAX(IF(class_index = {}, class_probability, NULL)) as FLOAT64) as prob_{}\".format(class_index, class_label)\n",
        "  class_probability_pivoting.append(s)\n",
        "class_probability_pivoting = ', \\r\\n  '.join(class_probability_pivoting)\n",
        "\n",
        "class_prob = []\n",
        "for class_label in FEATURE_LABELS:\n",
        "  s = 'prob_{}'.format(class_label)\n",
        "  class_prob.append(s)\n",
        "\n",
        "class_prob = ', \\r\\n  '.join(class_prob)\n",
        "\n",
        "case_conditions = []\n",
        "for class_label in FEATURE_LABELS:\n",
        "  s = 'WHEN prob_max = prob_{} THEN {}'.format(class_label, class_label)\n",
        "  case_conditions.append(s)\n",
        "case_conditions = '   \\r\\n '.join(case_conditions)"
      ],
      "execution_count": 0,
      "outputs": []
    },
    {
      "cell_type": "code",
      "metadata": {
        "id": "ngkpxp_U0CjC",
        "colab_type": "code",
        "colab": {}
      },
      "source": [
        "sql_script = '''\n",
        "CREATE OR REPLACE VIEW @dataset_name.@view_name\n",
        "AS\n",
        "\n",
        "WITH step1\n",
        "AS\n",
        "(\n",
        "  SELECT \n",
        "    model, \n",
        "    model_version, \n",
        "    time, \n",
        "    SPLIT(JSON_EXTRACT(raw_data, '$.instances'), '}],[{') instance_list, \n",
        "    SPLIT(JSON_EXTRACT(raw_prediction, '$.predictions'), '}],[{') as prediction_list\n",
        "  FROM \n",
        "  `@project.@dataset_name.@table_name` \n",
        "  WHERE \n",
        "    model = '@model_name' AND\n",
        "    model_version = '@version'\n",
        "),\n",
        "\n",
        "step2\n",
        "AS\n",
        "(\n",
        "  SELECT\n",
        "    model, \n",
        "    model_version, \n",
        "    time, \n",
        "    REPLACE(REPLACE(instance, '[', ''),']', '') AS instance,\n",
        "    REPLACE(REPLACE(prediction, '[{\"@model_output_key\":[', ''),']}]', '') AS prediction,\n",
        "  FROM step1\n",
        "  JOIN UNNEST(step1.instance_list) AS instance\n",
        "  WITH OFFSET AS f1\n",
        "  JOIN UNNEST(step1.prediction_list) AS prediction\n",
        "  WITH OFFSET AS f2\n",
        "  ON f1=f2\n",
        "),\n",
        "\n",
        "step3 AS\n",
        "(\n",
        "  SELECT \n",
        "    model, \n",
        "    model_version, \n",
        "    time,\n",
        "    @json_features_extraction,\n",
        "    SPLIT(prediction, ',') AS class_probabilities, \n",
        "  FROM step2\n",
        "),\n",
        "\n",
        "step4\n",
        "AS\n",
        "(\n",
        "  SELECT * EXCEPT(class_probabilities)\n",
        "  FROM step3\n",
        "  JOIN UNNEST(step3.class_probabilities) AS class_probability\n",
        "  WITH OFFSET AS class_index\n",
        "),\n",
        "\n",
        "step5\n",
        "AS\n",
        "(\n",
        "  SELECT\n",
        "    model,\n",
        "    model_version,\n",
        "    time,\n",
        "    @input_features,\n",
        "    @class_probability_pivoting,\n",
        "    MAX(CAST(class_probability AS FLOAT64)) as prob_max\n",
        "  FROM step4\n",
        "  GROUP BY\n",
        "    model,\n",
        "    model_version,\n",
        "    time,\n",
        "    @input_features\n",
        ")\n",
        "\n",
        "SELECT\n",
        "  model,\n",
        "  model_version,\n",
        "  time,\n",
        "  @input_features,\n",
        "  @class_prob,\n",
        "  CASE\n",
        "  @case_conditions\n",
        "  END as predicted_class\n",
        "FROM\n",
        "  step5\n",
        "\n",
        "'''"
      ],
      "execution_count": 0,
      "outputs": []
    },
    {
      "cell_type": "code",
      "metadata": {
        "id": "SRGUKNH60FBL",
        "colab_type": "code",
        "colab": {}
      },
      "source": [
        "sql_script = sql_script.replace(\"@project\", PROJECT_ID)\n",
        "sql_script = sql_script.replace(\"@dataset_name\", BQ_DATASET_NAME)\n",
        "sql_script = sql_script.replace(\"@table_name\", BQ_TABLE_NAME)\n",
        "sql_script = sql_script.replace(\"@view_name\", view_name)\n",
        "sql_script = sql_script.replace(\"@model_name\", MODEL_NAME)\n",
        "sql_script = sql_script.replace(\"@version\", VERSION_NAME)\n",
        "sql_script = sql_script.replace(\"@input_features\", input_features)\n",
        "sql_script = sql_script.replace(\"@json_features_extraction\", json_features_extraction)\n",
        "sql_script = sql_script.replace(\"@model_output_key\", MODEL_OUTPUT_KEY)\n",
        "sql_script = sql_script.replace(\"@class_probability_pivoting\", class_probability_pivoting)\n",
        "sql_script = sql_script.replace(\"@class_prob\", class_prob)\n",
        "sql_script = sql_script.replace(\"@case_conditions\", case_conditions)"
      ],
      "execution_count": 0,
      "outputs": []
    },
    {
      "cell_type": "markdown",
      "metadata": {
        "id": "1GYU88ZU0bw8",
        "colab_type": "text"
      },
      "source": [
        "Print generated script"
      ]
    },
    {
      "cell_type": "code",
      "metadata": {
        "id": "8myhm85R0GyP",
        "colab_type": "code",
        "colab": {}
      },
      "source": [
        "print(sql_script)"
      ],
      "execution_count": 0,
      "outputs": []
    },
    {
      "cell_type": "markdown",
      "metadata": {
        "id": "7JR5lg3T0hr6",
        "colab_type": "text"
      },
      "source": [
        "## 3. Execute the CREATE VIEW scritp"
      ]
    },
    {
      "cell_type": "code",
      "metadata": {
        "id": "ryuGhKWP0dHZ",
        "colab_type": "code",
        "colab": {}
      },
      "source": [
        "client = bigquery.Client(PROJECT_ID)\n",
        "client.query(query = sql_script)\n",
        "print(\"View was created or replaced.\")"
      ],
      "execution_count": 0,
      "outputs": []
    },
    {
      "cell_type": "markdown",
      "metadata": {
        "id": "q7_bngM300gw",
        "colab_type": "text"
      },
      "source": [
        "## 4. Query the view"
      ]
    },
    {
      "cell_type": "code",
      "metadata": {
        "id": "nwvNDZXp0n6-",
        "colab_type": "code",
        "colab": {}
      },
      "source": [
        "query = '''\n",
        "  SELECT * FROM \n",
        "  `{}.{}` \n",
        "  LIMIT {}\n",
        "'''.format(BQ_DATASET_NAME, view_name, 3)\n",
        "\n",
        "pd.io.gbq.read_gbq(\n",
        "    query, project_id=PROJECT_ID).T"
      ],
      "execution_count": 0,
      "outputs": []
    },
    {
      "cell_type": "code",
      "metadata": {
        "id": "oUGN45lb00D0",
        "colab_type": "code",
        "colab": {}
      },
      "source": [
        ""
      ],
      "execution_count": 0,
      "outputs": []
    }
  ]
}