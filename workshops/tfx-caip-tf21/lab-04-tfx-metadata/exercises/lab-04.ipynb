{
 "cells": [
  {
   "cell_type": "markdown",
   "metadata": {},
   "source": [
    "# Inspecting TFX metadata\n",
    "\n",
    "\n",
    "## Learning Objectives\n",
    "\n",
    "1. Use a GRPC server to access and analyze pipeline artifacts stored in the ML Metadata service of your AI Platform Pipelines instance.\n",
    "\n",
    "In this lab, you will explore TFX pipeline metadata including pipeline and run artifacts. An **AI Platform Pipelines** instance includes the [ML Metadata](https://github.com/google/ml-metadata) service. In **AI Platform Pipelines**, ML Metadata uses *MySQL* as a database backend and can be accessed using a GRPC server."
   ]
  },
  {
   "cell_type": "markdown",
   "metadata": {},
   "source": [
    "## Setup"
   ]
  },
  {
   "cell_type": "code",
   "execution_count": 26,
   "metadata": {},
   "outputs": [],
   "source": [
    "import os\n",
    "\n",
    "import ml_metadata\n",
    "import tensorflow_data_validation as tfdv\n",
    "import tensorflow_model_analysis as tfma\n",
    "\n",
    "\n",
    "from ml_metadata.metadata_store import metadata_store\n",
    "from ml_metadata.proto import metadata_store_pb2\n",
    "\n",
    "from tfx.orchestration import metadata\n",
    "from tfx.types import standard_artifacts"
   ]
  },
  {
   "cell_type": "markdown",
   "metadata": {},
   "source": [
    "### Option 1: Explore metadata from existing TFX pipeline runs from AI Pipelines instance created in `lab-02` or `lab-03`."
   ]
  },
  {
   "cell_type": "markdown",
   "metadata": {},
   "source": [
    "#### 1.1 Configure Kubernetes port forwarding\n",
    "\n",
    "To enable access to the ML Metadata GRPC server, configure Kubernetes port forwarding.\n",
    "\n",
    "From a JupyterLab terminal, execute the following commands:\n",
    "\n",
    "```\n",
    "gcloud container clusters get-credentials [YOUR CLUSTER] --zone [YOURE CLUSTER ZONE]  \n",
    "kubectl port-forward  service/metadata-grpc-service --namespace [YOUR NAMESPACE] 7000:8080\n",
    "```"
   ]
  },
  {
   "cell_type": "markdown",
   "metadata": {},
   "source": [
    "Proceed to the next step, \"Connecting to ML Metadata\"."
   ]
  },
  {
   "cell_type": "markdown",
   "metadata": {},
   "source": [
    "### Option 2: Create new AI Pipelines instance and evaluate metadata on newly triggered pipeline runs."
   ]
  },
  {
   "cell_type": "code",
   "execution_count": 27,
   "metadata": {},
   "outputs": [
    {
     "name": "stdout",
     "output_type": "stream",
     "text": [
      "env: PATH=/home/jupyter/.local/bin:/home/jupyter/.local/bin:/usr/local/cuda/bin:/opt/conda/bin:/opt/conda/condabin:/usr/local/bin:/usr/bin:/bin:/usr/local/games:/usr/games\n"
     ]
    }
   ],
   "source": [
    "import yaml\n",
    "\n",
    "# Set `PATH` to include the directory containing TFX CLI.\n",
    "PATH=%env PATH\n",
    "%env PATH=/home/jupyter/.local/bin:{PATH}"
   ]
  },
  {
   "cell_type": "markdown",
   "metadata": {},
   "source": [
    "#### 2.1 Create AI Platform Pipelines cluster\n",
    "\n",
    "Navigate to [AI Platform Pipelines](https://console.cloud.google.com/ai-platform/pipelines/clusters) page in the Google Cloud Console.\n",
    "\n",
    "Create or select an existing Kubernetes cluster (GKE) and deploy AI Platform. Make sure to select `\"Allow access to the following Cloud APIs https://www.googleapis.com/auth/cloud-platform\"` to allow for programmatic access to your pipeline by the Kubeflow SDK for the rest of the lab. Also, provide an `App instance name` such as \"TFX-lab-04\"."
   ]
  },
  {
   "cell_type": "markdown",
   "metadata": {},
   "source": [
    "#### 2.2 Configure environment settings"
   ]
  },
  {
   "cell_type": "markdown",
   "metadata": {},
   "source": [
    "Update  the below constants  with the settings reflecting your lab environment.\n",
    "\n",
    "- `GCP_REGION` - the compute region for AI Platform Training and Prediction\n",
    "- `ARTIFACT_STORE` - the GCS bucket created during installation of AI Platform Pipelines. The bucket name starts with the `kubeflowpipelines-` prefix. Alternatively, you can specify create a new storage bucket to write pipeline artifacts to."
   ]
  },
  {
   "cell_type": "code",
   "execution_count": 28,
   "metadata": {},
   "outputs": [
    {
     "name": "stdout",
     "output_type": "stream",
     "text": [
      "gs://artifacts.asl-ml-immersion.appspot.com/\n",
      "gs://asl-ml-immersion/\n",
      "gs://asl-ml-immersion-kubeflow/\n",
      "gs://asl-ml-immersion-kubeflowpipelines-default/\n",
      "gs://asl-ml-immersion-mlotstein/\n",
      "gs://asl-ml-immersion-temp/\n",
      "gs://asl-ml-immersion-vcm/\n",
      "gs://asl-ml-immersion.appspot.com/\n",
      "gs://asl-ml-immersion_cloudbuild/\n",
      "gs://asl-ml-immersion_flowers_model/\n",
      "gs://bqlogexport/\n",
      "gs://dataflow-staging-us-central1-190982850027/\n",
      "gs://dataprep-staging-c20284f0-0187-43b1-8264-0bee03c637c1/\n",
      "gs://stackdrvlogs/\n",
      "gs://staging.asl-ml-immersion.appspot.com/\n"
     ]
    }
   ],
   "source": [
    "!gsutil ls"
   ]
  },
  {
   "cell_type": "markdown",
   "metadata": {},
   "source": [
    "- `ENDPOINT` - set the `ENDPOINT` constant to the endpoint to your AI Platform Pipelines instance. The endpoint to the AI Platform Pipelines instance can be found on the [AI Platform Pipelines](https://console.cloud.google.com/ai-platform/pipelines/clusters) page in the Google Cloud Console.\n",
    "\n",
    "1. Open the *SETTINGS* for your instance\n",
    "2. Use the value of the `host` variable in the *Connect to this Kubeflow Pipelines instance from a Python client via Kubeflow Pipelines SKD* section of the *SETTINGS* window."
   ]
  },
  {
   "cell_type": "code",
   "execution_count": 29,
   "metadata": {},
   "outputs": [],
   "source": [
    "GCP_REGION = 'us-central1'\n",
    "ENDPOINT = '1815e6177760f1d2-dot-us-central2.pipelines.googleusercontent.com'\n",
    "ARTIFACT_STORE_URI = 'gs://asl-ml-immersion-kubeflow'\n",
    "\n",
    "PROJECT_ID = !(gcloud config get-value core/project)\n",
    "PROJECT_ID = PROJECT_ID[0]"
   ]
  },
  {
   "cell_type": "markdown",
   "metadata": {},
   "source": [
    "#### 2.3 Compile pipeline"
   ]
  },
  {
   "cell_type": "code",
   "execution_count": 30,
   "metadata": {},
   "outputs": [],
   "source": [
    "PIPELINE_NAME = 'tfx_covertype_lab_04'\n",
    "MODEL_NAME = 'tfx_covertype_classifier'\n",
    "\n",
    "USE_KFP_SA=False\n",
    "DATA_ROOT_URI = 'gs://workshop-datasets/covertype/small'\n",
    "CUSTOM_TFX_IMAGE = 'gcr.io/{}/{}'.format(PROJECT_ID, PIPELINE_NAME)\n",
    "RUNTIME_VERSION = '2.1'\n",
    "PYTHON_VERSION = '3.7'"
   ]
  },
  {
   "cell_type": "code",
   "execution_count": 31,
   "metadata": {},
   "outputs": [
    {
     "name": "stdout",
     "output_type": "stream",
     "text": [
      "env: PROJECT_ID=asl-ml-immersion\n",
      "env: KUBEFLOW_TFX_IMAGE=gcr.io/asl-ml-immersion/tfx_covertype_lab_04\n",
      "env: ARTIFACT_STORE_URI=gs://asl-ml-immersion-kubeflow\n",
      "env: DATA_ROOT_URI=gs://workshop-datasets/covertype/small\n",
      "env: GCP_REGION=us-central1\n",
      "env: MODEL_NAME=tfx_covertype_classifier\n",
      "env: PIPELINE_NAME=tfx_covertype_lab_04\n",
      "env: RUNTIME_VERSION=2.1\n",
      "env: PYTHON_VERIONS=3.7\n",
      "env: USE_KFP_SA=False\n"
     ]
    }
   ],
   "source": [
    "%env PROJECT_ID={PROJECT_ID}\n",
    "%env KUBEFLOW_TFX_IMAGE={CUSTOM_TFX_IMAGE}\n",
    "%env ARTIFACT_STORE_URI={ARTIFACT_STORE_URI}\n",
    "%env DATA_ROOT_URI={DATA_ROOT_URI}\n",
    "%env GCP_REGION={GCP_REGION}\n",
    "%env MODEL_NAME={MODEL_NAME}\n",
    "%env PIPELINE_NAME={PIPELINE_NAME}\n",
    "%env RUNTIME_VERSION={RUNTIME_VERSION}\n",
    "%env PYTHON_VERIONS={PYTHON_VERSION}\n",
    "%env USE_KFP_SA={USE_KFP_SA}"
   ]
  },
  {
   "cell_type": "markdown",
   "metadata": {},
   "source": [
    "Like in `lab-02`, the pipeline source can be found in the `pipeline` folder. Switch to the `pipeline` folder and compile the pipeline."
   ]
  },
  {
   "cell_type": "code",
   "execution_count": 32,
   "metadata": {},
   "outputs": [
    {
     "name": "stdout",
     "output_type": "stream",
     "text": [
      "[Errno 2] No such file or directory: 'pipeline'\n",
      "/home/jupyter/github/mlops-on-gcp/workshops/tfx-caip-tf21/lab-04-tfx-metadata/exercises/pipeline\n"
     ]
    }
   ],
   "source": [
    "%cd pipeline"
   ]
  },
  {
   "cell_type": "code",
   "execution_count": 10,
   "metadata": {},
   "outputs": [
    {
     "name": "stdout",
     "output_type": "stream",
     "text": [
      "CLI\n",
      "Compiling pipeline\n",
      "/home/jupyter/.local/lib/python3.7/site-packages/tfx/orchestration/data_types.py:191: UserWarning: RuntimeParameter is only supported on KubeflowDagRunner currently.\n",
      "  warnings.warn('RuntimeParameter is only supported on KubeflowDagRunner '\n",
      "Pipeline compiled successfully.\n",
      "Pipeline package path: /home/jupyter/github/mlops-on-gcp/workshops/tfx-caip-tf21/lab-04-tfx-metadata/exercises/pipeline/tfx_covertype_lab_04.tar.gz\n"
     ]
    }
   ],
   "source": [
    "!tfx pipeline compile --engine kubeflow --pipeline_path runner.py"
   ]
  },
  {
   "cell_type": "markdown",
   "metadata": {},
   "source": [
    "#### 2.4 Deploy pipeline to AI Platform"
   ]
  },
  {
   "cell_type": "code",
   "execution_count": 11,
   "metadata": {},
   "outputs": [
    {
     "name": "stdout",
     "output_type": "stream",
     "text": [
      "CLI\n",
      "Creating pipeline\n",
      "Detected Kubeflow.\n",
      "Use --engine flag if you intend to use a different orchestrator.\n",
      "Reading build spec from build.yaml\n",
      "Target image gcr.io/asl-ml-immersion/tfx_covertype_lab_04 is not used. If the build spec is provided, update the target image in the build spec file build.yaml.\n",
      "Use skaffold to build the container image.\n",
      "/home/jupyter/.local/bin/skaffold\n",
      "New container image is built. Target image is available in the build spec file.\n",
      "/home/jupyter/.local/lib/python3.7/site-packages/tfx/orchestration/data_types.py:191: UserWarning: RuntimeParameter is only supported on KubeflowDagRunner currently.\n",
      "  warnings.warn('RuntimeParameter is only supported on KubeflowDagRunner '\n",
      "Pipeline compiled successfully.\n",
      "Pipeline package path: /home/jupyter/github/mlops-on-gcp/workshops/tfx-caip-tf21/lab-04-tfx-metadata/exercises/pipeline/tfx_covertype_lab_04.tar.gz\n",
      "{'created_at': datetime.datetime(2020, 6, 24, 4, 7, 31, tzinfo=tzlocal()),\n",
      " 'default_version': {'code_source_url': None,\n",
      "                     'created_at': datetime.datetime(2020, 6, 24, 4, 7, 31, tzinfo=tzlocal()),\n",
      "                     'id': 'e4aa8369-6e89-4e44-b8e4-f49a21b84e1b',\n",
      "                     'name': 'tfx_covertype_lab_04',\n",
      "                     'package_url': None,\n",
      "                     'parameters': [{'name': 'pipeline-root',\n",
      "                                     'value': 'gs://asl-ml-immersion-kubeflow/tfx_covertype_lab_04/{{workflow.uid}}'},\n",
      "                                    {'name': 'data-root-uri',\n",
      "                                     'value': 'gs://workshop-datasets/covertype/small'},\n",
      "                                    {'name': 'eval-steps', 'value': '500'},\n",
      "                                    {'name': 'train-steps', 'value': '5000'}],\n",
      "                     'resource_references': [{'key': {'id': 'e4aa8369-6e89-4e44-b8e4-f49a21b84e1b',\n",
      "                                                      'type': 'PIPELINE'},\n",
      "                                              'name': None,\n",
      "                                              'relationship': 'OWNER'}]},\n",
      " 'description': None,\n",
      " 'error': None,\n",
      " 'id': 'e4aa8369-6e89-4e44-b8e4-f49a21b84e1b',\n",
      " 'name': 'tfx_covertype_lab_04',\n",
      " 'parameters': [{'name': 'pipeline-root',\n",
      "                 'value': 'gs://asl-ml-immersion-kubeflow/tfx_covertype_lab_04/{{workflow.uid}}'},\n",
      "                {'name': 'data-root-uri',\n",
      "                 'value': 'gs://workshop-datasets/covertype/small'},\n",
      "                {'name': 'eval-steps', 'value': '500'},\n",
      "                {'name': 'train-steps', 'value': '5000'}],\n",
      " 'url': None}\n",
      "Please access the pipeline detail page at http://1815e6177760f1d2-dot-us-central2.pipelines.googleusercontent.com/#/pipelines/details/e4aa8369-6e89-4e44-b8e4-f49a21b84e1b\n",
      "Pipeline \"tfx_covertype_lab_04\" created successfully.\n"
     ]
    }
   ],
   "source": [
    "!tfx pipeline create  \\\n",
    "--pipeline_path=runner.py \\\n",
    "--endpoint={ENDPOINT} \\\n",
    "--build_target_image={CUSTOM_TFX_IMAGE}"
   ]
  },
  {
   "cell_type": "code",
   "execution_count": 33,
   "metadata": {},
   "outputs": [
    {
     "name": "stdout",
     "output_type": "stream",
     "text": [
      "CLI\n",
      "Updating pipeline\n",
      "Detected Kubeflow.\n",
      "Use --engine flag if you intend to use a different orchestrator.\n",
      "Reading build spec from build.yaml\n",
      "Use skaffold to build the container image.\n",
      "/home/jupyter/.local/bin/skaffold\n",
      "New container image is built. Target image is available in the build spec file.\n",
      "/home/jupyter/.local/lib/python3.7/site-packages/tfx/orchestration/data_types.py:191: UserWarning: RuntimeParameter is only supported on KubeflowDagRunner currently.\n",
      "  warnings.warn('RuntimeParameter is only supported on KubeflowDagRunner '\n",
      "Pipeline compiled successfully.\n",
      "Pipeline package path: /home/jupyter/github/mlops-on-gcp/workshops/tfx-caip-tf21/lab-04-tfx-metadata/exercises/pipeline/tfx_covertype_lab_04.tar.gz\n",
      "{'code_source_url': None,\n",
      " 'created_at': datetime.datetime(2020, 6, 24, 17, 32, 41, tzinfo=tzlocal()),\n",
      " 'id': 'e6d35a43-60eb-4ae6-9aa8-d25ef206c555',\n",
      " 'name': 'tfx_covertype_lab_04_20200624173240',\n",
      " 'package_url': None,\n",
      " 'parameters': [{'name': 'pipeline-root',\n",
      "                 'value': 'gs://asl-ml-immersion-kubeflow/tfx_covertype_lab_04/{{workflow.uid}}'},\n",
      "                {'name': 'data-root-uri',\n",
      "                 'value': 'gs://workshop-datasets/covertype/small'},\n",
      "                {'name': 'eval-steps', 'value': '500'},\n",
      "                {'name': 'train-steps', 'value': '5000'}],\n",
      " 'resource_references': [{'key': {'id': 'e4aa8369-6e89-4e44-b8e4-f49a21b84e1b',\n",
      "                                  'type': 'PIPELINE'},\n",
      "                          'name': None,\n",
      "                          'relationship': 'OWNER'}]}\n",
      "Please access the pipeline detail page at http://1815e6177760f1d2-dot-us-central2.pipelines.googleusercontent.com/#/pipelines/details/e4aa8369-6e89-4e44-b8e4-f49a21b84e1b\n",
      "Pipeline \"tfx_covertype_lab_04\" updated successfully.\n"
     ]
    }
   ],
   "source": [
    "!tfx pipeline update --pipeline_path runner.py --endpoint {ENDPOINT}"
   ]
  },
  {
   "cell_type": "markdown",
   "metadata": {},
   "source": [
    "#### 2.5 Create and monitor pipeline run"
   ]
  },
  {
   "cell_type": "code",
   "execution_count": 34,
   "metadata": {},
   "outputs": [
    {
     "name": "stdout",
     "output_type": "stream",
     "text": [
      "CLI\n",
      "Creating a run for pipeline: tfx_covertype_lab_04\n",
      "Detected Kubeflow.\n",
      "Use --engine flag if you intend to use a different orchestrator.\n",
      "Run created for pipeline: tfx_covertype_lab_04\n",
      "+----------------------+--------------------------------------+----------+---------------------------+-----------------------------------------------------------------------------------------------------------------------------+\n",
      "| pipeline_name        | run_id                               | status   | created_at                | link                                                                                                                        |\n",
      "+======================+======================================+==========+===========================+=============================================================================================================================+\n",
      "| tfx_covertype_lab_04 | d024b22f-1e21-4652-a84c-80a122a990fa |          | 2020-06-24T17:33:38+00:00 | http://1815e6177760f1d2-dot-us-central2.pipelines.googleusercontent.com/#/runs/details/d024b22f-1e21-4652-a84c-80a122a990fa |\n",
      "+----------------------+--------------------------------------+----------+---------------------------+-----------------------------------------------------------------------------------------------------------------------------+\n"
     ]
    }
   ],
   "source": [
    "!tfx run create --pipeline_name={PIPELINE_NAME} --endpoint={ENDPOINT}"
   ]
  },
  {
   "cell_type": "markdown",
   "metadata": {},
   "source": [
    "#### 2.6 Configure Kubernetes port forwarding"
   ]
  },
  {
   "cell_type": "markdown",
   "metadata": {},
   "source": [
    "To enable access to the ML Metadata GRPC server, configure Kubernetes port forwarding.\n",
    "\n",
    "From a JupyterLab terminal, execute the following commands:\n",
    "\n",
    "```\n",
    "gcloud container clusters get-credentials [YOUR CLUSTER] --zone [YOURE CLUSTER ZONE]  \n",
    "kubectl port-forward  service/metadata-grpc-service --namespace [YOUR NAMESPACE] 7000:8080\n",
    "```"
   ]
  },
  {
   "cell_type": "markdown",
   "metadata": {},
   "source": [
    "## Connecting to ML Metadata \n",
    "\n",
    "Configure ML Metadata GRPC client."
   ]
  },
  {
   "cell_type": "code",
   "execution_count": 14,
   "metadata": {},
   "outputs": [],
   "source": [
    "grpc_host = 'localhost'\n",
    "grpc_port = 7000\n",
    "connection_config = metadata_store_pb2.MetadataStoreClientConfig()\n",
    "connection_config.host = grpc_host\n",
    "connection_config.port = grpc_port"
   ]
  },
  {
   "cell_type": "markdown",
   "metadata": {},
   "source": [
    "Connect to ML Metadata service."
   ]
  },
  {
   "cell_type": "code",
   "execution_count": 15,
   "metadata": {},
   "outputs": [],
   "source": [
    "store = metadata_store.MetadataStore(connection_config)"
   ]
  },
  {
   "cell_type": "markdown",
   "metadata": {},
   "source": [
    "## Exploring ML Metadata \n",
    "\n",
    "The Metadata Store uses the following data model:\n",
    "\n",
    "- `ArtifactType` describes an artifact's type and its properties that are stored in the Metadata Store. These types can be registered on-the-fly with the Metadata Store in code, or they can be loaded in the store from a serialized format. Once a type is registered, its definition is available throughout the lifetime of the store.\n",
    "- `Artifact` describes a specific instances of an ArtifactType, and its properties that are written to the Metadata Store.\n",
    "- `ExecutionType` describes a type of component or step in a workflow, and its runtime parameters.\n",
    "- `Execution` is a record of a component run or a step in an ML workflow and the runtime parameters. An Execution can be thought of as an instance of an ExecutionType. Every time a developer runs an ML pipeline or step, executions are recorded for each step.\n",
    "- `Event` is a record of the relationship between an Artifact and Executions. When an Execution happens, Events record every Artifact that was used by the Execution, and every Artifact that was produced. These records allow for provenance tracking throughout a workflow. By looking at all Events MLMD knows what Executions happened, what Artifacts were created as a result, and can recurse back from any Artifact to all of its upstream inputs.\n",
    "- `ContextType` describes a type of conceptual group of Artifacts and Executions in a workflow, and its structural properties. For example: projects, pipeline runs, experiments, owners.\n",
    "- `Context` is an instances of a ContextType. It captures the shared information within the group. For example: project name, changelist commit id, experiment annotations. It has a user-defined unique name within its ContextType.\n",
    "- `Attribution` is a record of the relationship between Artifacts and Contexts.\n",
    "- `Association` is a record of the relationship between Executions and Contexts."
   ]
  },
  {
   "cell_type": "markdown",
   "metadata": {},
   "source": [
    "List the registered artifact types."
   ]
  },
  {
   "cell_type": "code",
   "execution_count": 16,
   "metadata": {},
   "outputs": [
    {
     "name": "stdout",
     "output_type": "stream",
     "text": [
      "Schema\n",
      "ExternalArtifact\n",
      "Examples\n",
      "TransformGraph\n",
      "ExampleStatistics\n",
      "ExampleAnomalies\n"
     ]
    }
   ],
   "source": [
    "for artifact_type in store.get_artifact_types():\n",
    "    print(artifact_type.name)"
   ]
  },
  {
   "cell_type": "markdown",
   "metadata": {},
   "source": [
    "Display the registered execution types."
   ]
  },
  {
   "cell_type": "code",
   "execution_count": 17,
   "metadata": {},
   "outputs": [
    {
     "name": "stdout",
     "output_type": "stream",
     "text": [
      "DummyExecutionType\n",
      "tfx.components.common_nodes.importer_node.ImporterNode\n",
      "tfx.components.common_nodes.resolver_node.ResolverNode\n",
      "tfx.components.example_gen.csv_example_gen.component.CsvExampleGen\n",
      "tfx.components.transform.component.Transform\n",
      "tfx.components.statistics_gen.component.StatisticsGen\n",
      "tfx.components.example_validator.component.ExampleValidator\n",
      "tfx.components.schema_gen.component.SchemaGen\n"
     ]
    }
   ],
   "source": [
    "for execution_type in store.get_execution_types():\n",
    "    print(execution_type.name)"
   ]
  },
  {
   "cell_type": "markdown",
   "metadata": {},
   "source": [
    "List the registered context types."
   ]
  },
  {
   "cell_type": "code",
   "execution_count": 18,
   "metadata": {},
   "outputs": [
    {
     "name": "stdout",
     "output_type": "stream",
     "text": [
      "pipeline\n",
      "run\n",
      "component_run\n"
     ]
    }
   ],
   "source": [
    "for context_type in store.get_context_types():\n",
    "    print(context_type.name)"
   ]
  },
  {
   "cell_type": "markdown",
   "metadata": {},
   "source": [
    "## Visualizing TFX artifacts"
   ]
  },
  {
   "cell_type": "markdown",
   "metadata": {},
   "source": [
    "### Retrieve data analysis and validation artifacts"
   ]
  },
  {
   "cell_type": "code",
   "execution_count": 19,
   "metadata": {},
   "outputs": [],
   "source": [
    "with metadata.Metadata(connection_config) as store:\n",
    "    stats_artifacts = store.get_artifacts_by_type(standard_artifacts.ExampleStatistics.TYPE_NAME)\n",
    "    schema_artifacts = store.get_artifacts_by_type(standard_artifacts.Schema.TYPE_NAME)\n",
    "    anomalies_artifacts = store.get_artifacts_by_type(standard_artifacts.ExampleAnomalies.TYPE_NAME)"
   ]
  },
  {
   "cell_type": "code",
   "execution_count": 20,
   "metadata": {},
   "outputs": [
    {
     "name": "stdout",
     "output_type": "stream",
     "text": [
      "Train stats file:gs://asl-ml-immersion-kubeflow/tfx_covertype_lab_04/f1e05bc6-5689-4a46-99c3-bb55c10a6af2/StatisticsGen/statistics/5/train/stats_tfrecord, Eval stats file:gs://asl-ml-immersion-kubeflow/tfx_covertype_lab_04/f1e05bc6-5689-4a46-99c3-bb55c10a6af2/StatisticsGen/statistics/5/eval/stats_tfrecord\n",
      "Generated schame file:gs://asl-ml-immersion-kubeflow/tfx_covertype_lab_04/f1e05bc6-5689-4a46-99c3-bb55c10a6af2/SchemaGen/schema/7/schema.pbtxt\n",
      "Generated anomalies file:gs://asl-ml-immersion-kubeflow/tfx_covertype_lab_04/f1e05bc6-5689-4a46-99c3-bb55c10a6af2/ExampleValidator/anomalies/6/anomalies.pbtxt\n"
     ]
    }
   ],
   "source": [
    "stats_path = stats_artifacts[-1].uri\n",
    "train_stats_file = os.path.join(stats_path, 'train', 'stats_tfrecord')\n",
    "eval_stats_file = os.path.join(stats_path, 'eval', 'stats_tfrecord')\n",
    "print(\"Train stats file:{}, Eval stats file:{}\".format(\n",
    "    train_stats_file, eval_stats_file))\n",
    "\n",
    "schema_file = os.path.join(schema_artifacts[-1].uri, 'schema.pbtxt')\n",
    "print(\"Generated schame file:{}\".format(schema_file))\n",
    "anomalies_file = os.path.join(anomalies_artifacts[-1].uri, 'anomalies.pbtxt')\n",
    "print(\"Generated anomalies file:{}\".format(anomalies_file))"
   ]
  },
  {
   "cell_type": "markdown",
   "metadata": {},
   "source": [
    "### Visualize statistics"
   ]
  },
  {
   "cell_type": "code",
   "execution_count": 21,
   "metadata": {},
   "outputs": [
    {
     "name": "stdout",
     "output_type": "stream",
     "text": [
      "WARNING:tensorflow:From /opt/conda/lib/python3.7/site-packages/tensorflow_data_validation/utils/stats_gen_lib.py:366: tf_record_iterator (from tensorflow.python.lib.io.tf_record) is deprecated and will be removed in a future version.\n",
      "Instructions for updating:\n",
      "Use eager execution and: \n",
      "`tf.data.TFRecordDataset(path)`\n"
     ]
    },
    {
     "name": "stderr",
     "output_type": "stream",
     "text": [
      "WARNING:tensorflow:From /opt/conda/lib/python3.7/site-packages/tensorflow_data_validation/utils/stats_gen_lib.py:366: tf_record_iterator (from tensorflow.python.lib.io.tf_record) is deprecated and will be removed in a future version.\n",
      "Instructions for updating:\n",
      "Use eager execution and: \n",
      "`tf.data.TFRecordDataset(path)`\n"
     ]
    },
    {
     "data": {
      "text/html": [
       "<iframe id='facets-iframe' width=\"100%\" height=\"500px\"></iframe>\n",
       "        <script>\n",
       "        facets_iframe = document.getElementById('facets-iframe');\n",
       "        facets_html = '<script src=\"https://cdnjs.cloudflare.com/ajax/libs/webcomponentsjs/1.3.3/webcomponents-lite.js\"><\\/script><link rel=\"import\" href=\"https://raw.githubusercontent.com/PAIR-code/facets/master/facets-dist/facets-jupyter.html\"><facets-overview proto-input=\"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\"></facets-overview>';\n",
       "        facets_iframe.srcdoc = facets_html;\n",
       "         facets_iframe.id = \"\";\n",
       "         setTimeout(() => {\n",
       "           facets_iframe.setAttribute('height', facets_iframe.contentWindow.document.body.offsetHeight + 'px')\n",
       "         }, 1500)\n",
       "         </script>"
      ],
      "text/plain": [
       "<IPython.core.display.HTML object>"
      ]
     },
     "metadata": {},
     "output_type": "display_data"
    }
   ],
   "source": [
    "train_stats = tfdv.load_statistics(train_stats_file)\n",
    "eval_stats = tfdv.load_statistics(eval_stats_file)\n",
    "tfdv.visualize_statistics(lhs_statistics=eval_stats, rhs_statistics=train_stats,\n",
    "                          lhs_name='EVAL_DATASET', rhs_name='TRAIN_DATASET')"
   ]
  },
  {
   "cell_type": "markdown",
   "metadata": {},
   "source": [
    "### Visualize schema"
   ]
  },
  {
   "cell_type": "code",
   "execution_count": 22,
   "metadata": {},
   "outputs": [
    {
     "data": {
      "text/html": [
       "<div>\n",
       "<style scoped>\n",
       "    .dataframe tbody tr th:only-of-type {\n",
       "        vertical-align: middle;\n",
       "    }\n",
       "\n",
       "    .dataframe tbody tr th {\n",
       "        vertical-align: top;\n",
       "    }\n",
       "\n",
       "    .dataframe thead th {\n",
       "        text-align: right;\n",
       "    }\n",
       "</style>\n",
       "<table border=\"1\" class=\"dataframe\">\n",
       "  <thead>\n",
       "    <tr style=\"text-align: right;\">\n",
       "      <th></th>\n",
       "      <th>Type</th>\n",
       "      <th>Presence</th>\n",
       "      <th>Valency</th>\n",
       "      <th>Domain</th>\n",
       "    </tr>\n",
       "    <tr>\n",
       "      <th>Feature name</th>\n",
       "      <th></th>\n",
       "      <th></th>\n",
       "      <th></th>\n",
       "      <th></th>\n",
       "    </tr>\n",
       "  </thead>\n",
       "  <tbody>\n",
       "    <tr>\n",
       "      <th>'Aspect'</th>\n",
       "      <td>INT</td>\n",
       "      <td>required</td>\n",
       "      <td>single</td>\n",
       "      <td>-</td>\n",
       "    </tr>\n",
       "    <tr>\n",
       "      <th>'Cover_Type'</th>\n",
       "      <td>INT</td>\n",
       "      <td>required</td>\n",
       "      <td>single</td>\n",
       "      <td>-</td>\n",
       "    </tr>\n",
       "    <tr>\n",
       "      <th>'Elevation'</th>\n",
       "      <td>INT</td>\n",
       "      <td>required</td>\n",
       "      <td>single</td>\n",
       "      <td>-</td>\n",
       "    </tr>\n",
       "    <tr>\n",
       "      <th>'Hillshade_3pm'</th>\n",
       "      <td>INT</td>\n",
       "      <td>required</td>\n",
       "      <td>single</td>\n",
       "      <td>-</td>\n",
       "    </tr>\n",
       "    <tr>\n",
       "      <th>'Hillshade_9am'</th>\n",
       "      <td>INT</td>\n",
       "      <td>required</td>\n",
       "      <td>single</td>\n",
       "      <td>-</td>\n",
       "    </tr>\n",
       "    <tr>\n",
       "      <th>'Hillshade_Noon'</th>\n",
       "      <td>INT</td>\n",
       "      <td>required</td>\n",
       "      <td>single</td>\n",
       "      <td>-</td>\n",
       "    </tr>\n",
       "    <tr>\n",
       "      <th>'Horizontal_Distance_To_Fire_Points'</th>\n",
       "      <td>INT</td>\n",
       "      <td>required</td>\n",
       "      <td>single</td>\n",
       "      <td>-</td>\n",
       "    </tr>\n",
       "    <tr>\n",
       "      <th>'Horizontal_Distance_To_Hydrology'</th>\n",
       "      <td>INT</td>\n",
       "      <td>required</td>\n",
       "      <td>single</td>\n",
       "      <td>-</td>\n",
       "    </tr>\n",
       "    <tr>\n",
       "      <th>'Horizontal_Distance_To_Roadways'</th>\n",
       "      <td>INT</td>\n",
       "      <td>required</td>\n",
       "      <td>single</td>\n",
       "      <td>-</td>\n",
       "    </tr>\n",
       "    <tr>\n",
       "      <th>'Slope'</th>\n",
       "      <td>INT</td>\n",
       "      <td>required</td>\n",
       "      <td>single</td>\n",
       "      <td>-</td>\n",
       "    </tr>\n",
       "    <tr>\n",
       "      <th>'Soil_Type'</th>\n",
       "      <td>STRING</td>\n",
       "      <td>required</td>\n",
       "      <td>single</td>\n",
       "      <td>'Soil_Type'</td>\n",
       "    </tr>\n",
       "    <tr>\n",
       "      <th>'Vertical_Distance_To_Hydrology'</th>\n",
       "      <td>INT</td>\n",
       "      <td>required</td>\n",
       "      <td>single</td>\n",
       "      <td>-</td>\n",
       "    </tr>\n",
       "    <tr>\n",
       "      <th>'Wilderness_Area'</th>\n",
       "      <td>STRING</td>\n",
       "      <td>required</td>\n",
       "      <td>single</td>\n",
       "      <td>'Wilderness_Area'</td>\n",
       "    </tr>\n",
       "  </tbody>\n",
       "</table>\n",
       "</div>"
      ],
      "text/plain": [
       "                                        Type  Presence Valency  \\\n",
       "Feature name                                                     \n",
       "'Aspect'                                 INT  required  single   \n",
       "'Cover_Type'                             INT  required  single   \n",
       "'Elevation'                              INT  required  single   \n",
       "'Hillshade_3pm'                          INT  required  single   \n",
       "'Hillshade_9am'                          INT  required  single   \n",
       "'Hillshade_Noon'                         INT  required  single   \n",
       "'Horizontal_Distance_To_Fire_Points'     INT  required  single   \n",
       "'Horizontal_Distance_To_Hydrology'       INT  required  single   \n",
       "'Horizontal_Distance_To_Roadways'        INT  required  single   \n",
       "'Slope'                                  INT  required  single   \n",
       "'Soil_Type'                           STRING  required  single   \n",
       "'Vertical_Distance_To_Hydrology'         INT  required  single   \n",
       "'Wilderness_Area'                     STRING  required  single   \n",
       "\n",
       "                                                 Domain  \n",
       "Feature name                                             \n",
       "'Aspect'                                              -  \n",
       "'Cover_Type'                                          -  \n",
       "'Elevation'                                           -  \n",
       "'Hillshade_3pm'                                       -  \n",
       "'Hillshade_9am'                                       -  \n",
       "'Hillshade_Noon'                                      -  \n",
       "'Horizontal_Distance_To_Fire_Points'                  -  \n",
       "'Horizontal_Distance_To_Hydrology'                    -  \n",
       "'Horizontal_Distance_To_Roadways'                     -  \n",
       "'Slope'                                               -  \n",
       "'Soil_Type'                                 'Soil_Type'  \n",
       "'Vertical_Distance_To_Hydrology'                      -  \n",
       "'Wilderness_Area'                     'Wilderness_Area'  "
      ]
     },
     "metadata": {},
     "output_type": "display_data"
    },
    {
     "data": {
      "text/html": [
       "<div>\n",
       "<style scoped>\n",
       "    .dataframe tbody tr th:only-of-type {\n",
       "        vertical-align: middle;\n",
       "    }\n",
       "\n",
       "    .dataframe tbody tr th {\n",
       "        vertical-align: top;\n",
       "    }\n",
       "\n",
       "    .dataframe thead th {\n",
       "        text-align: right;\n",
       "    }\n",
       "</style>\n",
       "<table border=\"1\" class=\"dataframe\">\n",
       "  <thead>\n",
       "    <tr style=\"text-align: right;\">\n",
       "      <th></th>\n",
       "      <th>Values</th>\n",
       "    </tr>\n",
       "    <tr>\n",
       "      <th>Domain</th>\n",
       "      <th></th>\n",
       "    </tr>\n",
       "  </thead>\n",
       "  <tbody>\n",
       "    <tr>\n",
       "      <th>'Soil_Type'</th>\n",
       "      <td>'C2702', 'C2703', 'C2704', 'C2705', 'C2706', 'C2717', 'C3501', 'C3502', 'C4201', 'C4703', 'C4704', 'C4744', 'C4758', 'C5101', 'C5151', 'C6101', 'C6102', 'C6731', 'C7101', 'C7102', 'C7103', 'C7201', 'C7202', 'C7700', 'C7701', 'C7702', 'C7709', 'C7710', 'C7745', 'C7746', 'C7755', 'C7756', 'C7757', 'C7790', 'C8703', 'C8707', 'C8708', 'C8771', 'C8772', 'C8776'</td>\n",
       "    </tr>\n",
       "    <tr>\n",
       "      <th>'Wilderness_Area'</th>\n",
       "      <td>'Cache', 'Commanche', 'Neota', 'Rawah'</td>\n",
       "    </tr>\n",
       "  </tbody>\n",
       "</table>\n",
       "</div>"
      ],
      "text/plain": [
       "                                                                                                                                                                                                                                                                                                                                                                                   Values\n",
       "Domain                                                                                                                                                                                                                                                                                                                                                                                   \n",
       "'Soil_Type'        'C2702', 'C2703', 'C2704', 'C2705', 'C2706', 'C2717', 'C3501', 'C3502', 'C4201', 'C4703', 'C4704', 'C4744', 'C4758', 'C5101', 'C5151', 'C6101', 'C6102', 'C6731', 'C7101', 'C7102', 'C7103', 'C7201', 'C7202', 'C7700', 'C7701', 'C7702', 'C7709', 'C7710', 'C7745', 'C7746', 'C7755', 'C7756', 'C7757', 'C7790', 'C8703', 'C8707', 'C8708', 'C8771', 'C8772', 'C8776'\n",
       "'Wilderness_Area'  'Cache', 'Commanche', 'Neota', 'Rawah'                                                                                                                                                                                                                                                                                                                                "
      ]
     },
     "metadata": {},
     "output_type": "display_data"
    }
   ],
   "source": [
    "schema = tfdv.load_schema_text(schema_file)\n",
    "tfdv.display_schema(schema=schema)"
   ]
  },
  {
   "cell_type": "markdown",
   "metadata": {},
   "source": [
    "### Visualize anomalies"
   ]
  },
  {
   "cell_type": "code",
   "execution_count": 23,
   "metadata": {},
   "outputs": [
    {
     "data": {
      "text/html": [
       "<h4 style=\"color:green;\">No anomalies found.</h4>"
      ],
      "text/plain": [
       "<IPython.core.display.HTML object>"
      ]
     },
     "metadata": {},
     "output_type": "display_data"
    }
   ],
   "source": [
    "anomalies = tfdv.load_anomalies_text(anomalies_file)\n",
    "tfdv.display_anomalies(anomalies)"
   ]
  },
  {
   "cell_type": "markdown",
   "metadata": {},
   "source": [
    "### Retrieve model evaluations"
   ]
  },
  {
   "cell_type": "code",
   "execution_count": 24,
   "metadata": {},
   "outputs": [
    {
     "ename": "IndexError",
     "evalue": "list index out of range",
     "output_type": "error",
     "traceback": [
      "\u001b[0;31m---------------------------------------------------------------------------\u001b[0m",
      "\u001b[0;31mIndexError\u001b[0m                                Traceback (most recent call last)",
      "\u001b[0;32m<ipython-input-24-4c26f44dc1d1>\u001b[0m in \u001b[0;36m<module>\u001b[0;34m\u001b[0m\n\u001b[1;32m      2\u001b[0m     \u001b[0mmodel_eval_artifacts\u001b[0m \u001b[0;34m=\u001b[0m \u001b[0mstore\u001b[0m\u001b[0;34m.\u001b[0m\u001b[0mget_artifacts_by_type\u001b[0m\u001b[0;34m(\u001b[0m\u001b[0mstandard_artifacts\u001b[0m\u001b[0;34m.\u001b[0m\u001b[0mModelEvaluation\u001b[0m\u001b[0;34m.\u001b[0m\u001b[0mTYPE_NAME\u001b[0m\u001b[0;34m)\u001b[0m\u001b[0;34m\u001b[0m\u001b[0;34m\u001b[0m\u001b[0m\n\u001b[1;32m      3\u001b[0m \u001b[0;34m\u001b[0m\u001b[0m\n\u001b[0;32m----> 4\u001b[0;31m \u001b[0mmodel_eval_path\u001b[0m \u001b[0;34m=\u001b[0m \u001b[0mmodel_eval_artifacts\u001b[0m\u001b[0;34m[\u001b[0m\u001b[0;34m-\u001b[0m\u001b[0;36m1\u001b[0m\u001b[0;34m]\u001b[0m\u001b[0;34m.\u001b[0m\u001b[0muri\u001b[0m\u001b[0;34m\u001b[0m\u001b[0;34m\u001b[0m\u001b[0m\n\u001b[0m\u001b[1;32m      5\u001b[0m \u001b[0mprint\u001b[0m\u001b[0;34m(\u001b[0m\u001b[0;34m\"Generated model evaluation result:{}\"\u001b[0m\u001b[0;34m.\u001b[0m\u001b[0mformat\u001b[0m\u001b[0;34m(\u001b[0m\u001b[0mmodel_eval_path\u001b[0m\u001b[0;34m)\u001b[0m\u001b[0;34m)\u001b[0m\u001b[0;34m\u001b[0m\u001b[0;34m\u001b[0m\u001b[0m\n",
      "\u001b[0;31mIndexError\u001b[0m: list index out of range"
     ]
    }
   ],
   "source": [
    "with metadata.Metadata(connection_config) as store:\n",
    "    model_eval_artifacts = store.get_artifacts_by_type(standard_artifacts.ModelEvaluation.TYPE_NAME)\n",
    "    \n",
    "model_eval_path = model_eval_artifacts[-1].uri\n",
    "print(\"Generated model evaluation result:{}\".format(model_eval_path))"
   ]
  },
  {
   "cell_type": "markdown",
   "metadata": {},
   "source": [
    "### Visualize model evaluations"
   ]
  },
  {
   "cell_type": "code",
   "execution_count": 25,
   "metadata": {},
   "outputs": [
    {
     "ename": "NameError",
     "evalue": "name 'model_eval_path' is not defined",
     "output_type": "error",
     "traceback": [
      "\u001b[0;31m---------------------------------------------------------------------------\u001b[0m",
      "\u001b[0;31mNameError\u001b[0m                                 Traceback (most recent call last)",
      "\u001b[0;32m<ipython-input-25-e6314e9d242d>\u001b[0m in \u001b[0;36m<module>\u001b[0;34m\u001b[0m\n\u001b[0;32m----> 1\u001b[0;31m \u001b[0meval_result\u001b[0m \u001b[0;34m=\u001b[0m \u001b[0mtfma\u001b[0m\u001b[0;34m.\u001b[0m\u001b[0mload_eval_result\u001b[0m\u001b[0;34m(\u001b[0m\u001b[0mmodel_eval_path\u001b[0m\u001b[0;34m)\u001b[0m\u001b[0;34m\u001b[0m\u001b[0;34m\u001b[0m\u001b[0m\n\u001b[0m\u001b[1;32m      2\u001b[0m tfma.view.render_slicing_metrics(\n\u001b[1;32m      3\u001b[0m     eval_result, slicing_column='Wilderness_Area')\n",
      "\u001b[0;31mNameError\u001b[0m: name 'model_eval_path' is not defined"
     ]
    }
   ],
   "source": [
    "eval_result = tfma.load_eval_result(model_eval_path)\n",
    "tfma.view.render_slicing_metrics(\n",
    "    eval_result, slicing_column='Wilderness_Area')"
   ]
  },
  {
   "cell_type": "markdown",
   "metadata": {},
   "source": [
    "## License"
   ]
  },
  {
   "cell_type": "markdown",
   "metadata": {},
   "source": [
    "<font size=-1>Licensed under the Apache License, Version 2.0 (the \\\"License\\\");\n",
    "you may not use this file except in compliance with the License.\n",
    "You may obtain a copy of the License at [https://www.apache.org/licenses/LICENSE-2.0](https://www.apache.org/licenses/LICENSE-2.0)\n",
    "\n",
    "Unless required by applicable law or agreed to in writing, software distributed under the License is distributed on an \\\"AS IS\\\" BASIS, WITHOUT WARRANTIES OR CONDITIONS OF ANY KIND, either express or implied.  See the License for the specific language governing permissions and limitations under the License.</font>\n"
   ]
  }
 ],
 "metadata": {
  "environment": {
   "name": "tf2-gpu.2-1.m46",
   "type": "gcloud",
   "uri": "gcr.io/deeplearning-platform-release/tf2-gpu.2-1:m46"
  },
  "kernelspec": {
   "display_name": "Python 3",
   "language": "python",
   "name": "python3"
  },
  "language_info": {
   "codemirror_mode": {
    "name": "ipython",
    "version": 3
   },
   "file_extension": ".py",
   "mimetype": "text/x-python",
   "name": "python",
   "nbconvert_exporter": "python",
   "pygments_lexer": "ipython3",
   "version": "3.7.6"
  }
 },
 "nbformat": 4,
 "nbformat_minor": 4
}
