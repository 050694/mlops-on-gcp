{
  "nbformat": 4,
  "nbformat_minor": 0,
  "metadata": {
    "colab": {
      "name": "00-covertype-training-serving-v2.ipynb",
      "provenance": [],
      "collapsed_sections": [
        "LLUHs-gh_FnY",
        "20wwieKoJvL1",
        "t7q4uSu1KbXv",
        "uncXaPUBdBpV",
        "VmUPxnCZdJZ4",
        "nmFimRVrc4m8",
        "ieIgLE94PovQ",
        "RPFM4mW-R3y8"
      ]
    },
    "kernelspec": {
      "name": "python3",
      "display_name": "Python 3"
    }
  },
  "cells": [
    {
      "cell_type": "markdown",
      "metadata": {
        "id": "6YSXq_Y36c_g",
        "colab_type": "text"
      },
      "source": [
        "# Training and Serving a TensorFlow Model to AI Platform Prediction\n",
        "\n",
        "This notebooks trains a TensorFlow classification model locally, using the Keras API, and deploys the model to AI Platform for online prediction. The AI Platform model service is also configered to enable request-response logging to BigQuery.\n",
        "\n",
        "Note that the aim is to build and deploy a **minimal model** to showcase the AI Platform **logging capabilities**, which enable **skew detection** on the serving data and the produced predictions.\n",
        "\n",
        "The notebook covers the following steps:\n",
        "\n",
        "1. Prepare the data and generate a schema \n",
        "2. Train and evaluate, a TensorFlow classification model using Keras API\n",
        "3. Export the trained model as a SavedModel for serving\n",
        "4. Deploy the trained model to AI Platform Prediction \n",
        "5. Enabled request-response logging to BigQuery\n",
        "6. Parse and query logs from BigQuery\n",
        "\n",
        "\n",
        "This example uses **TensorFlow 2.x**"
      ]
    },
    {
      "cell_type": "markdown",
      "metadata": {
        "id": "SthW6Y1F85SH",
        "colab_type": "text"
      },
      "source": [
        "### Setup"
      ]
    },
    {
      "cell_type": "code",
      "metadata": {
        "id": "kWzmq-55CZfV",
        "colab_type": "code",
        "outputId": "872a2833-14b0-43e9-b776-1c279bf73f94",
        "colab": {
          "base_uri": "https://localhost:8080/",
          "height": 34
        }
      },
      "source": [
        "try:\n",
        "  from google.colab import auth\n",
        "  auth.authenticate_user()\n",
        "  print(\"Colab user is authenticated.\")\n",
        "except: pass"
      ],
      "execution_count": 5,
      "outputs": [
        {
          "output_type": "stream",
          "text": [
            "Colab user is authenticated.\n"
          ],
          "name": "stdout"
        }
      ]
    },
    {
      "cell_type": "code",
      "metadata": {
        "id": "sm5FTgF69bll",
        "colab_type": "code",
        "colab": {}
      },
      "source": [
        "!pip install -q -U tensorflow==2.1 tensorflow_data_validation==0.15.0\n",
        "!pip install -U -q google-api-python-client\n",
        "!pip install -U -q pandas"
      ],
      "execution_count": 0,
      "outputs": []
    },
    {
      "cell_type": "code",
      "metadata": {
        "id": "t4pR1SEo6Tra",
        "colab_type": "code",
        "outputId": "22ab5bc8-46fb-465e-ee11-2ec7453c8eb1",
        "colab": {
          "base_uri": "https://localhost:8080/",
          "height": 51
        }
      },
      "source": [
        "import os\n",
        "import tensorflow as tf\n",
        "import tensorflow_data_validation as tfdv\n",
        "\n",
        "print(\"TF version: {}\".format(tf.__version__))\n",
        "print(\"TFDV version: {}\".format(tfdv.__version__))"
      ],
      "execution_count": 7,
      "outputs": [
        {
          "output_type": "stream",
          "text": [
            "TF version: 2.1.0\n",
            "TFDV version: 0.15.0\n"
          ],
          "name": "stdout"
        }
      ]
    },
    {
      "cell_type": "markdown",
      "metadata": {
        "id": "BCHY6HdE-wmw",
        "colab_type": "text"
      },
      "source": [
        "**Set the following variables to match your GCP environment**:"
      ]
    },
    {
      "cell_type": "code",
      "metadata": {
        "id": "VVhekpMo9WqV",
        "colab_type": "code",
        "colab": {}
      },
      "source": [
        "PROJECT = 'sa-data-validation'\n",
        "BUCKET =  'sa-data-validation'\n",
        "GCS_DATA_LOCATION = 'gs://workshop-datasets/covertype/data_validation'\n",
        "REGION = 'us-central1'\n",
        "BUCKET = 'sa-data-validation'\n",
        "LOCAL_WORKSPACE = './workspace'\n",
        "LOCAL_DATA_DIR = os.path.join(LOCAL_WORKSPACE, 'data')\n",
        "SCHEMA_DIR = os.path.join(LOCAL_WORKSPACE, 'schema')\n",
        "BQ_DATASET_NAME = 'data_validation'\n",
        "BQ_TABLE_NAME = 'covertype_classifier_logs'\n",
        "MODEL_NAME = 'covertype_classifier'\n",
        "VERSION_NAME = 'v2'\n",
        "TRAINING_DIR = os.path.join(LOCAL_WORKSPACE, 'training')\n",
        "MODEL_DIR = os.path.join(TRAINING_DIR, 'exported_model')"
      ],
      "execution_count": 0,
      "outputs": []
    },
    {
      "cell_type": "code",
      "metadata": {
        "id": "32Ps4vjYfaXW",
        "colab_type": "code",
        "outputId": "b2b6e648-4f08-4190-f7eb-f51d0a23894a",
        "colab": {
          "base_uri": "https://localhost:8080/",
          "height": 34
        }
      },
      "source": [
        "!gcloud config set project {PROJECT}"
      ],
      "execution_count": 9,
      "outputs": [
        {
          "output_type": "stream",
          "text": [
            "Updated property [core/project].\n"
          ],
          "name": "stdout"
        }
      ]
    },
    {
      "cell_type": "markdown",
      "metadata": {
        "id": "xmYHPLFgEA92",
        "colab_type": "text"
      },
      "source": [
        "Create a local workspace"
      ]
    },
    {
      "cell_type": "code",
      "metadata": {
        "id": "0XXOcV8BD_w9",
        "colab_type": "code",
        "outputId": "967c789b-6504-4c29-fbaa-4c3a7d7d932b",
        "colab": {
          "base_uri": "https://localhost:8080/",
          "height": 34
        }
      },
      "source": [
        "if tf.io.gfile.exists(LOCAL_WORKSPACE):\n",
        "  print(\"Removing previous workspace artifacts...\")\n",
        "  tf.io.gfile.rmtree(LOCAL_WORKSPACE)\n",
        "\n",
        "print(\"Creating a new workspace...\")\n",
        "tf.io.gfile.makedirs(LOCAL_WORKSPACE)\n",
        "tf.io.gfile.makedirs(LOCAL_DATA_DIR)"
      ],
      "execution_count": 10,
      "outputs": [
        {
          "output_type": "stream",
          "text": [
            "Creating a new workspace...\n"
          ],
          "name": "stdout"
        }
      ]
    },
    {
      "cell_type": "markdown",
      "metadata": {
        "id": "LLUHs-gh_FnY",
        "colab_type": "text"
      },
      "source": [
        "## 1. Dataset preparation and schema generation\n",
        "\n",
        "We use the [covertype](https://archive.ics.uci.edu/ml/datasets/covertype) from UCI Machine Learning Repository. The task is to Predict forest cover type from cartographic variables only. \n",
        "\n",
        "The dataset is preprocessed, split, and uploaded to uploaded to the `gs://workshop-datasets/covertype` public GCS location. \n",
        "\n",
        "We use this version of the preprocessed dataset in this notebook. For more information, see [Cover Type Dataset](https://github.com/GoogleCloudPlatform/mlops-on-gcp/tree/master/datasets/covertype)"
      ]
    },
    {
      "cell_type": "markdown",
      "metadata": {
        "id": "qDH43VPLCCsS",
        "colab_type": "text"
      },
      "source": [
        "### 1.1. Download the data"
      ]
    },
    {
      "cell_type": "code",
      "metadata": {
        "id": "VK3t6GswFJaa",
        "colab_type": "code",
        "colab": {}
      },
      "source": [
        "LOCAL_TRAIN_DATA = os.path.join(LOCAL_DATA_DIR, 'train.csv') \n",
        "LOCAL_EVAL_DATA = os.path.join(LOCAL_DATA_DIR, 'eval.csv') "
      ],
      "execution_count": 0,
      "outputs": []
    },
    {
      "cell_type": "code",
      "metadata": {
        "id": "pIjykELMB-Zx",
        "colab_type": "code",
        "outputId": "e284d470-f725-4da8-9a3d-6c3f20633b9d",
        "colab": {
          "base_uri": "https://localhost:8080/",
          "height": 136
        }
      },
      "source": [
        "!gsutil cp gs://workshop-datasets/covertype/data_validation/training/dataset.csv {LOCAL_TRAIN_DATA}\n",
        "!gsutil cp gs://workshop-datasets/covertype/data_validation/evaluation/dataset.csv {LOCAL_EVAL_DATA}\n",
        "!wc -l {LOCAL_TRAIN_DATA}"
      ],
      "execution_count": 12,
      "outputs": [
        {
          "output_type": "stream",
          "text": [
            "Copying gs://workshop-datasets/covertype/data_validation/training/dataset.csv...\n",
            "/ [1 files][ 22.2 MiB/ 22.2 MiB]                                                \n",
            "Operation completed over 1 objects/22.2 MiB.                                     \n",
            "Copying gs://workshop-datasets/covertype/data_validation/evaluation/dataset.csv...\n",
            "/ [1 files][  3.9 MiB/  3.9 MiB]                                                \n",
            "Operation completed over 1 objects/3.9 MiB.                                      \n",
            "431010 ./workspace/data/train.csv\n"
          ],
          "name": "stdout"
        }
      ]
    },
    {
      "cell_type": "code",
      "metadata": {
        "id": "MV0j0nAezO_R",
        "colab_type": "code",
        "outputId": "b40d3f8e-37ec-4cc7-a28d-6addfae80352",
        "colab": {
          "base_uri": "https://localhost:8080/",
          "height": 647
        }
      },
      "source": [
        "import pandas as pd\n",
        "sample = pd.read_csv(LOCAL_TRAIN_DATA).head()\n",
        "sample.T"
      ],
      "execution_count": 13,
      "outputs": [
        {
          "output_type": "error",
          "ename": "ImportError",
          "evalue": "ignored",
          "traceback": [
            "\u001b[0;31m---------------------------------------------------------------------------\u001b[0m",
            "\u001b[0;31mImportError\u001b[0m                               Traceback (most recent call last)",
            "\u001b[0;32m/usr/local/lib/python3.6/dist-packages/IPython/core/formatters.py\u001b[0m in \u001b[0;36m__call__\u001b[0;34m(self, obj)\u001b[0m\n\u001b[1;32m    336\u001b[0m             \u001b[0mmethod\u001b[0m \u001b[0;34m=\u001b[0m \u001b[0mget_real_method\u001b[0m\u001b[0;34m(\u001b[0m\u001b[0mobj\u001b[0m\u001b[0;34m,\u001b[0m \u001b[0mself\u001b[0m\u001b[0;34m.\u001b[0m\u001b[0mprint_method\u001b[0m\u001b[0;34m)\u001b[0m\u001b[0;34m\u001b[0m\u001b[0;34m\u001b[0m\u001b[0m\n\u001b[1;32m    337\u001b[0m             \u001b[0;32mif\u001b[0m \u001b[0mmethod\u001b[0m \u001b[0;32mis\u001b[0m \u001b[0;32mnot\u001b[0m \u001b[0;32mNone\u001b[0m\u001b[0;34m:\u001b[0m\u001b[0;34m\u001b[0m\u001b[0;34m\u001b[0m\u001b[0m\n\u001b[0;32m--> 338\u001b[0;31m                 \u001b[0;32mreturn\u001b[0m \u001b[0mmethod\u001b[0m\u001b[0;34m(\u001b[0m\u001b[0;34m)\u001b[0m\u001b[0;34m\u001b[0m\u001b[0;34m\u001b[0m\u001b[0m\n\u001b[0m\u001b[1;32m    339\u001b[0m             \u001b[0;32mreturn\u001b[0m \u001b[0;32mNone\u001b[0m\u001b[0;34m\u001b[0m\u001b[0;34m\u001b[0m\u001b[0m\n\u001b[1;32m    340\u001b[0m         \u001b[0;32melse\u001b[0m\u001b[0;34m:\u001b[0m\u001b[0;34m\u001b[0m\u001b[0;34m\u001b[0m\u001b[0m\n",
            "\u001b[0;32m/usr/local/lib/python3.6/dist-packages/pandas/core/frame.py\u001b[0m in \u001b[0;36m_repr_html_\u001b[0;34m(self)\u001b[0m\n\u001b[1;32m    732\u001b[0m         \u001b[0mdecimal\u001b[0m\u001b[0;34m=\u001b[0m\u001b[0;34m\".\"\u001b[0m\u001b[0;34m,\u001b[0m\u001b[0;34m\u001b[0m\u001b[0;34m\u001b[0m\u001b[0m\n\u001b[1;32m    733\u001b[0m         \u001b[0mline_width\u001b[0m\u001b[0;34m=\u001b[0m\u001b[0;32mNone\u001b[0m\u001b[0;34m,\u001b[0m\u001b[0;34m\u001b[0m\u001b[0;34m\u001b[0m\u001b[0m\n\u001b[0;32m--> 734\u001b[0;31m     ):\n\u001b[0m\u001b[1;32m    735\u001b[0m         \"\"\"\n\u001b[1;32m    736\u001b[0m         \u001b[0mRender\u001b[0m \u001b[0ma\u001b[0m \u001b[0mDataFrame\u001b[0m \u001b[0mto\u001b[0m \u001b[0ma\u001b[0m \u001b[0mconsole\u001b[0m\u001b[0;34m-\u001b[0m\u001b[0mfriendly\u001b[0m \u001b[0mtabular\u001b[0m \u001b[0moutput\u001b[0m\u001b[0;34m.\u001b[0m\u001b[0;34m\u001b[0m\u001b[0;34m\u001b[0m\u001b[0m\n",
            "\u001b[0;32m/usr/local/lib/python3.6/dist-packages/pandas/io/formats/format.py\u001b[0m in \u001b[0;36mto_html\u001b[0;34m(self, buf, encoding, classes, notebook, border)\u001b[0m\n\u001b[1;32m    977\u001b[0m     \u001b[0mfloat_format\u001b[0m\u001b[0;34m\u001b[0m\u001b[0;34m\u001b[0m\u001b[0m\n\u001b[1;32m    978\u001b[0m     \u001b[0mna_rep\u001b[0m\u001b[0;34m\u001b[0m\u001b[0;34m\u001b[0m\u001b[0m\n\u001b[0;32m--> 979\u001b[0;31m     \u001b[0mdigits\u001b[0m\u001b[0;34m\u001b[0m\u001b[0;34m\u001b[0m\u001b[0m\n\u001b[0m\u001b[1;32m    980\u001b[0m     \u001b[0mspace\u001b[0m\u001b[0;34m\u001b[0m\u001b[0;34m\u001b[0m\u001b[0m\n\u001b[1;32m    981\u001b[0m     \u001b[0mjustify\u001b[0m\u001b[0;34m\u001b[0m\u001b[0;34m\u001b[0m\u001b[0m\n",
            "\u001b[0;32m/usr/local/lib/python3.6/dist-packages/pandas/io/formats/html.py\u001b[0m in \u001b[0;36m<module>\u001b[0;34m()\u001b[0m\n\u001b[1;32m     13\u001b[0m \u001b[0;32mfrom\u001b[0m \u001b[0mpandas\u001b[0m \u001b[0;32mimport\u001b[0m \u001b[0moption_context\u001b[0m\u001b[0;34m\u001b[0m\u001b[0;34m\u001b[0m\u001b[0m\n\u001b[1;32m     14\u001b[0m \u001b[0;34m\u001b[0m\u001b[0m\n\u001b[0;32m---> 15\u001b[0;31m \u001b[0;32mfrom\u001b[0m \u001b[0mpandas\u001b[0m\u001b[0;34m.\u001b[0m\u001b[0mio\u001b[0m\u001b[0;34m.\u001b[0m\u001b[0mcommon\u001b[0m \u001b[0;32mimport\u001b[0m \u001b[0m_is_url\u001b[0m\u001b[0;34m\u001b[0m\u001b[0;34m\u001b[0m\u001b[0m\n\u001b[0m\u001b[1;32m     16\u001b[0m from pandas.io.formats.format import (\n\u001b[1;32m     17\u001b[0m     \u001b[0mDataFrameFormatter\u001b[0m\u001b[0;34m,\u001b[0m\u001b[0;34m\u001b[0m\u001b[0;34m\u001b[0m\u001b[0m\n",
            "\u001b[0;31mImportError\u001b[0m: cannot import name '_is_url'"
          ]
        },
        {
          "output_type": "execute_result",
          "data": {
            "text/plain": [
              "                                        0      1  ...          3          4\n",
              "Elevation                            3034   2827  ...       3188       3091\n",
              "Aspect                                235     26  ...        156         61\n",
              "Slope                                  13     16  ...         13          8\n",
              "Horizontal_Distance_To_Hydrology      655     85  ...        175        134\n",
              "Vertical_Distance_To_Hydrology        134     13  ...         28         10\n",
              "Horizontal_Distance_To_Roadways      5799   3511  ...       3666       1390\n",
              "Hillshade_9am                         197    211  ...        235        227\n",
              "Hillshade_Noon                        251    204  ...        241        223\n",
              "Hillshade_3pm                         190    125  ...        134        129\n",
              "Horizontal_Distance_To_Fire_Points   4094   6008  ...       1719       2868\n",
              "Wilderness_Area                     Rawah  Rawah  ...  Commanche  Commanche\n",
              "Soil_Type                            7745   7745  ...       7756       7202\n",
              "Cover_Type                              1      1  ...          1          0\n",
              "\n",
              "[13 rows x 5 columns]"
            ]
          },
          "metadata": {
            "tags": []
          },
          "execution_count": 13
        }
      ]
    },
    {
      "cell_type": "markdown",
      "metadata": {
        "id": "oYXZoVrIHA4G",
        "colab_type": "text"
      },
      "source": [
        "### 1.2. Generate and visualize statisitics"
      ]
    },
    {
      "cell_type": "code",
      "metadata": {
        "id": "VcYgdYxKHAJ7",
        "colab_type": "code",
        "outputId": "a7b18e46-cb7c-4511-8f7e-1076aa156c22",
        "colab": {
          "base_uri": "https://localhost:8080/",
          "height": 224
        }
      },
      "source": [
        "train_stats = tfdv.generate_statistics_from_csv(\n",
        "    data_location=LOCAL_TRAIN_DATA)\n",
        "\n",
        "tfdv.visualize_statistics(train_stats)"
      ],
      "execution_count": 14,
      "outputs": [
        {
          "output_type": "stream",
          "text": [
            "WARNING:apache_beam.runners.interactive.interactive_environment:Dependencies required for Interactive Beam PCollection visualization are not available, please use: `pip install apache-beam[interactive]` to install necessary dependencies to enable all data visualization features.\n",
            "WARNING:apache_beam.io.tfrecordio:Couldn't find python-snappy so the implementation of _TFRecordUtil._masked_crc32c is not as fast as it could be.\n"
          ],
          "name": "stderr"
        },
        {
          "output_type": "stream",
          "text": [
            "WARNING:tensorflow:From /usr/local/lib/python3.6/dist-packages/tensorflow_data_validation/utils/stats_gen_lib.py:366: tf_record_iterator (from tensorflow.python.lib.io.tf_record) is deprecated and will be removed in a future version.\n",
            "Instructions for updating:\n",
            "Use eager execution and: \n",
            "`tf.data.TFRecordDataset(path)`\n"
          ],
          "name": "stdout"
        },
        {
          "output_type": "stream",
          "text": [
            "WARNING:tensorflow:From /usr/local/lib/python3.6/dist-packages/tensorflow_data_validation/utils/stats_gen_lib.py:366: tf_record_iterator (from tensorflow.python.lib.io.tf_record) is deprecated and will be removed in a future version.\n",
            "Instructions for updating:\n",
            "Use eager execution and: \n",
            "`tf.data.TFRecordDataset(path)`\n"
          ],
          "name": "stderr"
        },
        {
          "output_type": "display_data",
          "data": {
            "text/html": [
              "<iframe id='facets-iframe' width=\"100%\" height=\"500px\"></iframe>\n",
              "        <script>\n",
              "        facets_iframe = document.getElementById('facets-iframe');\n",
              "        facets_html = '<link rel=\"import\" href=\"https://raw.githubusercontent.com/PAIR-code/facets/master/facets-dist/facets-jupyter.html\"><facets-overview proto-input=\"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\"></facets-overview>';\n",
              "        facets_iframe.srcdoc = facets_html;\n",
              "         facets_iframe.id = \"\";\n",
              "         setTimeout(() => {\n",
              "           facets_iframe.setAttribute('height', facets_iframe.contentWindow.document.body.offsetHeight + 'px')\n",
              "         }, 1500)\n",
              "         </script>"
            ],
            "text/plain": [
              "<IPython.core.display.HTML object>"
            ]
          },
          "metadata": {
            "tags": []
          }
        }
      ]
    },
    {
      "cell_type": "markdown",
      "metadata": {
        "id": "pYtcHQegCuj1",
        "colab_type": "text"
      },
      "source": [
        "### 1.3. Generate the schema"
      ]
    },
    {
      "cell_type": "code",
      "metadata": {
        "id": "8aqaGtG1CuIM",
        "colab_type": "code",
        "colab": {}
      },
      "source": [
        "schema = tfdv.infer_schema(train_stats)\n",
        "tfdv.display_schema(schema=schema)"
      ],
      "execution_count": 0,
      "outputs": []
    },
    {
      "cell_type": "markdown",
      "metadata": {
        "id": "Z1ATfs6QJoeQ",
        "colab_type": "text"
      },
      "source": [
        "### 1.4. Fine tune the schema"
      ]
    },
    {
      "cell_type": "code",
      "metadata": {
        "id": "rLBAojJbJmbj",
        "colab_type": "code",
        "colab": {}
      },
      "source": [
        "from tensorflow_metadata.proto.v0 import schema_pb2, statistics_pb2\n",
        "\n",
        "tfdv.set_domain(schema, 'Soil_Type', schema_pb2.IntDomain(\n",
        "    name='Soil_Type', is_categorical=True))\n",
        "\n",
        "tfdv.set_domain(schema, 'Cover_Type', schema_pb2.IntDomain(\n",
        "    name='Cover_Type', is_categorical=True))\n",
        "\n",
        "train_stats = tfdv.generate_statistics_from_csv(\n",
        "    data_location=LOCAL_TRAIN_DATA,\n",
        "    stats_options=tfdv.StatsOptions(\n",
        "        schema=schema)\n",
        "    )\n",
        "\n",
        "schema = tfdv.infer_schema(train_stats)\n",
        "tfdv.get_feature(schema, 'Soil_Type').type = schema_pb2.FeatureType.BYTES\n",
        "tfdv.display_schema(schema=schema)\n",
        "tfdv.write_schema_text(schema, SCHEMA_DIR)"
      ],
      "execution_count": 0,
      "outputs": []
    },
    {
      "cell_type": "markdown",
      "metadata": {
        "id": "JUjRurNblnaw",
        "colab_type": "text"
      },
      "source": [
        "### 1.5 Define metadata"
      ]
    },
    {
      "cell_type": "code",
      "metadata": {
        "id": "72rDTLhcUxj_",
        "colab_type": "code",
        "colab": {}
      },
      "source": [
        "schema = tfdv.load_schema_text(SCHEMA_DIR)\n",
        "\n",
        "def vocab(feature_name):\n",
        "  return tfdv.get_domain(schema, feature_name).value\n",
        "\n",
        "HEADER = list(sample.columns)\n",
        "\n",
        "TARGET_FEATURE_NAME = 'Cover_Type'\n",
        "\n",
        "FEATURE_LABELS = vocab(TARGET_FEATURE_NAME)\n",
        "\n",
        "NUMERIC_FEATURE_NAMES = [feature.name for feature in schema.feature \n",
        "                         if feature.type == 2\n",
        "                         and feature.name != TARGET_FEATURE_NAME]\n",
        "\n",
        "CATEGORICAL_FEATURE_NAMES = [feature.name for feature in schema.feature \n",
        "                         if feature.type == 1\n",
        "                         and feature.name != TARGET_FEATURE_NAME]\n",
        "\n",
        "FEATURE_NAMES = CATEGORICAL_FEATURE_NAMES + NUMERIC_FEATURE_NAMES\n",
        "\n",
        "HEADER_DEFAULTS = [[0] if feature_name in NUMERIC_FEATURE_NAMES + [TARGET_FEATURE_NAME] else ['NA'] \n",
        "                   for feature_name in HEADER]\n",
        "\n",
        "NUM_CLASSES = len(FEATURE_LABELS)"
      ],
      "execution_count": 0,
      "outputs": []
    },
    {
      "cell_type": "markdown",
      "metadata": {
        "id": "20wwieKoJvL1",
        "colab_type": "text"
      },
      "source": [
        "## 2. Model training and evaluation"
      ]
    },
    {
      "cell_type": "markdown",
      "metadata": {
        "id": "6e3lk9FsJ_yO",
        "colab_type": "text"
      },
      "source": [
        "### 2.1. Implement data input pipeline"
      ]
    },
    {
      "cell_type": "code",
      "metadata": {
        "id": "PTX-t2HjJ_BP",
        "colab_type": "code",
        "colab": {}
      },
      "source": [
        "RANDOM_SEED = 19830610\n",
        "import multiprocessing\n",
        "\n",
        "def create_dataset(file_pattern, \n",
        "                  batch_size=128, num_epochs=1, shuffle=False):\n",
        "  \n",
        "    dataset = tf.data.experimental.make_csv_dataset(\n",
        "        file_pattern=file_pattern,\n",
        "        batch_size=batch_size,\n",
        "        column_names=HEADER,\n",
        "        column_defaults=HEADER_DEFAULTS,\n",
        "        label_name=TARGET_FEATURE_NAME,\n",
        "        field_delim=',',\n",
        "        header=True,\n",
        "        num_epochs=num_epochs,\n",
        "        shuffle=shuffle,\n",
        "        shuffle_buffer_size=(5 * batch_size),\n",
        "        shuffle_seed=RANDOM_SEED,\n",
        "        num_parallel_reads=multiprocessing.cpu_count(),\n",
        "        sloppy=True,\n",
        "    )\n",
        "    return dataset.cache()"
      ],
      "execution_count": 0,
      "outputs": []
    },
    {
      "cell_type": "code",
      "metadata": {
        "id": "sGcaJmcG3paA",
        "colab_type": "code",
        "outputId": "4e92e8c3-31eb-416c-b86a-8adc3a7a0d3f",
        "colab": {
          "base_uri": "https://localhost:8080/",
          "height": 595
        }
      },
      "source": [
        "index = 1\n",
        "for batch in create_dataset(LOCAL_TRAIN_DATA, batch_size=5, shuffle=False).take(2):\n",
        "  print(\"Batch: {}\".format(index))\n",
        "  print(\"========================\")\n",
        "  record, target = batch\n",
        "  print(\"Input features:\")\n",
        "  for key in record:\n",
        "    print(\" - {}:{}\".format(key, record[key].numpy()))\n",
        "  print(\"Target: {}\".format(target))\n",
        "  index += 1\n",
        "  print()"
      ],
      "execution_count": 14,
      "outputs": [
        {
          "output_type": "stream",
          "text": [
            "Batch: 1\n",
            "========================\n",
            "Input features:\n",
            " - Elevation:[3034 2827 2854 3188 3091]\n",
            " - Aspect:[235  26  27 156  61]\n",
            " - Slope:[13 16 12 13  8]\n",
            " - Horizontal_Distance_To_Hydrology:[655  85 484 175 134]\n",
            " - Vertical_Distance_To_Hydrology:[134  13  22  28  10]\n",
            " - Horizontal_Distance_To_Roadways:[5799 3511  618 3666 1390]\n",
            " - Hillshade_9am:[197 211 215 235 227]\n",
            " - Hillshade_Noon:[251 204 214 241 223]\n",
            " - Hillshade_3pm:[190 125 134 134 129]\n",
            " - Horizontal_Distance_To_Fire_Points:[4094 6008 1295 1719 2868]\n",
            " - Wilderness_Area:[b'Rawah' b'Rawah' b'Commanche' b'Commanche' b'Commanche']\n",
            " - Soil_Type:[b'7745' b'7745' b'4704' b'7756' b'7202']\n",
            "Target: [1 1 1 1 0]\n",
            "\n",
            "Batch: 2\n",
            "========================\n",
            "Input features:\n",
            " - Elevation:[2993 3276 2864 3183 2587]\n",
            " - Aspect:[ 35 343 319 138  80]\n",
            " - Slope:[ 8 11 29 23  5]\n",
            " - Horizontal_Distance_To_Hydrology:[636 849 228 268 234]\n",
            " - Vertical_Distance_To_Hydrology:[ 90 -14  98  85  28]\n",
            " - Horizontal_Distance_To_Roadways:[3355 1776  577 3872 1350]\n",
            " - Hillshade_9am:[219 199 134 248 227]\n",
            " - Hillshade_Noon:[224 224 200 225 230]\n",
            " - Hillshade_3pm:[140 164 200  93 137]\n",
            " - Horizontal_Distance_To_Fire_Points:[1284 2673 1082 2866 4837]\n",
            " - Wilderness_Area:[b'Rawah' b'Neota' b'Commanche' b'Commanche' b'Rawah']\n",
            " - Soil_Type:[b'4744' b'7202' b'7757' b'7757' b'6731']\n",
            "Target: [1 1 0 0 1]\n",
            "\n"
          ],
          "name": "stdout"
        }
      ]
    },
    {
      "cell_type": "markdown",
      "metadata": {
        "id": "8s8a7bMGKLWu",
        "colab_type": "text"
      },
      "source": [
        "### 2.2. Create feature columns"
      ]
    },
    {
      "cell_type": "code",
      "metadata": {
        "id": "C8pZSfQPHMrK",
        "colab_type": "code",
        "colab": {}
      },
      "source": [
        "import math\n",
        "\n",
        "def create_feature_columns():\n",
        "  feature_columns = []\n",
        "  \n",
        "  for feature_name in FEATURE_NAMES:\n",
        "    # Categorical features\n",
        "    if feature_name in CATEGORICAL_FEATURE_NAMES:\n",
        "      \n",
        "      vocabulary = vocab(feature_name)\n",
        "      vocab_size = len(vocabulary)\n",
        "      \n",
        "      # Create embedding column for categotical feature column with vocabulary\n",
        "      embedding_feature_column = tf.feature_column.embedding_column(\n",
        "          categorical_column = tf.feature_column.categorical_column_with_vocabulary_list(\n",
        "              key=feature_name,\n",
        "              vocabulary_list=vocabulary), dimension=int(math.sqrt(vocab_size) + 1))\n",
        "            \n",
        "      feature_columns.append(embedding_feature_column)\n",
        "\n",
        "    # Numeric features\n",
        "    else:\n",
        "      numeric_column = tf.feature_column.numeric_column(feature_name)\n",
        "      feature_columns.append(numeric_column)\n",
        "\n",
        "  return feature_columns\n"
      ],
      "execution_count": 0,
      "outputs": []
    },
    {
      "cell_type": "code",
      "metadata": {
        "id": "N8XDvPsq8-mX",
        "colab_type": "code",
        "outputId": "064a6ae0-5bb4-40b8-bf75-2d944a338e79",
        "colab": {
          "base_uri": "https://localhost:8080/",
          "height": 241
        }
      },
      "source": [
        "feature_columns = create_feature_columns()\n",
        "\n",
        "for column in feature_columns:\n",
        "  print(column)"
      ],
      "execution_count": 16,
      "outputs": [
        {
          "output_type": "stream",
          "text": [
            "EmbeddingColumn(categorical_column=VocabularyListCategoricalColumn(key='Soil_Type', vocabulary_list=('2702', '2703', '2704', '2705', '2706', '2717', '3501', '3502', '4201', '4703', '4704', '4744', '4758', '5101', '6101', '6102', '6731', '7101', '7102', '7103', '7201', '7202', '7700', '7701', '7702', '7709', '7710', '7745', '7746', '7755', '7756', '7757', '7790', '8703', '8707', '8708', '8771', '8772', '8776'), dtype=tf.string, default_value=-1, num_oov_buckets=0), dimension=7, combiner='mean', initializer=<tensorflow.python.ops.init_ops.TruncatedNormal object at 0x7f13dcd3f2e8>, ckpt_to_load_from=None, tensor_name_in_ckpt=None, max_norm=None, trainable=True)\n",
            "EmbeddingColumn(categorical_column=VocabularyListCategoricalColumn(key='Wilderness_Area', vocabulary_list=('Cache', 'Commanche', 'Neota', 'Rawah'), dtype=tf.string, default_value=-1, num_oov_buckets=0), dimension=3, combiner='mean', initializer=<tensorflow.python.ops.init_ops.TruncatedNormal object at 0x7f13dcc50e48>, ckpt_to_load_from=None, tensor_name_in_ckpt=None, max_norm=None, trainable=True)\n",
            "NumericColumn(key='Aspect', shape=(1,), default_value=None, dtype=tf.float32, normalizer_fn=None)\n",
            "NumericColumn(key='Elevation', shape=(1,), default_value=None, dtype=tf.float32, normalizer_fn=None)\n",
            "NumericColumn(key='Hillshade_3pm', shape=(1,), default_value=None, dtype=tf.float32, normalizer_fn=None)\n",
            "NumericColumn(key='Hillshade_9am', shape=(1,), default_value=None, dtype=tf.float32, normalizer_fn=None)\n",
            "NumericColumn(key='Hillshade_Noon', shape=(1,), default_value=None, dtype=tf.float32, normalizer_fn=None)\n",
            "NumericColumn(key='Horizontal_Distance_To_Fire_Points', shape=(1,), default_value=None, dtype=tf.float32, normalizer_fn=None)\n",
            "NumericColumn(key='Horizontal_Distance_To_Hydrology', shape=(1,), default_value=None, dtype=tf.float32, normalizer_fn=None)\n",
            "NumericColumn(key='Horizontal_Distance_To_Roadways', shape=(1,), default_value=None, dtype=tf.float32, normalizer_fn=None)\n",
            "NumericColumn(key='Slope', shape=(1,), default_value=None, dtype=tf.float32, normalizer_fn=None)\n",
            "NumericColumn(key='Vertical_Distance_To_Hydrology', shape=(1,), default_value=None, dtype=tf.float32, normalizer_fn=None)\n"
          ],
          "name": "stdout"
        }
      ]
    },
    {
      "cell_type": "markdown",
      "metadata": {
        "id": "F0pAN0jkKNmm",
        "colab_type": "text"
      },
      "source": [
        "### 2.3. Create and compile the model\n",
        "\n"
      ]
    },
    {
      "cell_type": "code",
      "metadata": {
        "id": "E98fiPtQKTp2",
        "colab_type": "code",
        "colab": {}
      },
      "source": [
        "def create_model(params):\n",
        "\n",
        "  feature_columns = create_feature_columns()\n",
        "  \n",
        "  layers = []\n",
        "  layers.append(tf.keras.layers.DenseFeatures(feature_columns))\n",
        "  for units in params.hidden_units:\n",
        "    layers.append(tf.keras.layers.Dense(units=units, activation='relu'))\n",
        "    layers.append(tf.keras.layers.BatchNormalization())\n",
        "    layers.append(tf.keras.layers.Dropout(rate=params.dropout))\n",
        "  \n",
        "  layers.append(tf.keras.layers.Dense(units=NUM_CLASSES, activation='softmax', name='output'))\n",
        "  \n",
        "  model = tf.keras.Sequential(layers=layers, name='classifier')\n",
        "    \n",
        "  adam_optimzer = tf.keras.optimizers.Adam(learning_rate=params.learning_rate)\n",
        "\n",
        "  model.compile(\n",
        "        optimizer=adam_optimzer, \n",
        "        loss=tf.keras.losses.SparseCategoricalCrossentropy(from_logits=False), \n",
        "        metrics=[tf.keras.metrics.SparseCategoricalAccuracy()], \n",
        "        loss_weights=None,\n",
        "        sample_weight_mode=None, \n",
        "        weighted_metrics=None, \n",
        "    )\n",
        "\n",
        "  return model  "
      ],
      "execution_count": 0,
      "outputs": []
    },
    {
      "cell_type": "markdown",
      "metadata": {
        "id": "MjzFWQnSJFse",
        "colab_type": "text"
      },
      "source": [
        "### 2.4. Train and evaluate experiment"
      ]
    },
    {
      "cell_type": "markdown",
      "metadata": {
        "id": "H9_yXPvF2Hkd",
        "colab_type": "text"
      },
      "source": [
        "#### Experiment"
      ]
    },
    {
      "cell_type": "code",
      "metadata": {
        "id": "F9iW5NumKWWb",
        "colab_type": "code",
        "colab": {}
      },
      "source": [
        "def run_experiment(model, params):\n",
        "\n",
        "  # TensorBoard callback\n",
        "  LOG_DIR = os.path.join(TRAINING_DIR, 'logs')\n",
        "  tensorboard_callback = tf.keras.callbacks.TensorBoard(log_dir=LOG_DIR)\n",
        "\n",
        "  # Early stopping callback\n",
        "  earlystopping_callback = tf.keras.callbacks.EarlyStopping(\n",
        "      monitor='val_sparse_categorical_accuracy', \n",
        "      patience=3, \n",
        "      restore_best_weights=True\n",
        "  )\n",
        "\n",
        "  callbacks = [\n",
        "        tensorboard_callback,\n",
        "        earlystopping_callback]\n",
        "\n",
        "  # train dataset\n",
        "  train_dataset = create_dataset(\n",
        "      LOCAL_TRAIN_DATA,\n",
        "      batch_size=params.batch_size,\n",
        "      shuffle=True)\n",
        "    \n",
        "  # eval dataset\n",
        "  eval_dataset = create_dataset(\n",
        "      LOCAL_EVAL_DATA,\n",
        "      batch_size=params.batch_size)\n",
        "    \n",
        "  # Prep training directory\n",
        "  if tf.io.gfile.exists(TRAINING_DIR):\n",
        "    print(\"Removing previous training artefacts...\")\n",
        "    tf.io.gfile.rmtree(TRAINING_DIR)\n",
        "\n",
        "  print(\"Creating training directory...\")\n",
        "  tf.io.gfile.mkdir(TRAINING_DIR)\n",
        "\n",
        "  print(\"Experiment started...\")\n",
        "  print(\".......................................\")\n",
        "  \n",
        "  # Run train and evaluate.\n",
        "  history = model.fit(\n",
        "    x=train_dataset, \n",
        "    epochs=params.epochs, \n",
        "    callbacks=callbacks,\n",
        "    validation_data=eval_dataset,\n",
        "  )\n",
        "\n",
        "  print(\".......................................\")\n",
        "  print(\"Experiment finished.\")\n",
        "  print(\"\")\n",
        "\n",
        "  return history\n"
      ],
      "execution_count": 0,
      "outputs": []
    },
    {
      "cell_type": "markdown",
      "metadata": {
        "id": "PhYvbrrqJKmn",
        "colab_type": "text"
      },
      "source": [
        "#### Hyper parameters"
      ]
    },
    {
      "cell_type": "code",
      "metadata": {
        "id": "zBCwS_usHvqy",
        "colab_type": "code",
        "colab": {}
      },
      "source": [
        "class Parameters():\n",
        "    pass\n",
        "\n",
        "TRAIN_DATA_SIZE = 431010\n",
        "\n",
        "params = Parameters()\n",
        "params.learning_rate = 0.01\n",
        "params.hidden_units = [128, 128]\n",
        "params.dropout = 0.15\n",
        "params.batch_size =  265\n",
        "params.steps_per_epoch = int(math.ceil(TRAIN_DATA_SIZE / params.batch_size))\n",
        "params.epochs = 10"
      ],
      "execution_count": 0,
      "outputs": []
    },
    {
      "cell_type": "markdown",
      "metadata": {
        "id": "Sf7FGOscJZ2P",
        "colab_type": "text"
      },
      "source": [
        "#### Run experiment"
      ]
    },
    {
      "cell_type": "code",
      "metadata": {
        "id": "Ew99zH72JRjp",
        "colab_type": "code",
        "outputId": "6df75f53-736a-4f88-bba5-45391dd31e3d",
        "colab": {
          "base_uri": "https://localhost:8080/",
          "height": 425
        }
      },
      "source": [
        "model = create_model(params)\n",
        "example_batch, target = list(create_dataset(LOCAL_TRAIN_DATA, batch_size=2, shuffle=True).take(1))[0]\n",
        "model(example_batch)\n",
        "model.summary()"
      ],
      "execution_count": 20,
      "outputs": [
        {
          "output_type": "stream",
          "text": [
            "Model: \"classifier\"\n",
            "_________________________________________________________________\n",
            "Layer (type)                 Output Shape              Param #   \n",
            "=================================================================\n",
            "dense_features (DenseFeature multiple                  285       \n",
            "_________________________________________________________________\n",
            "dense (Dense)                multiple                  2688      \n",
            "_________________________________________________________________\n",
            "batch_normalization (BatchNo multiple                  512       \n",
            "_________________________________________________________________\n",
            "dropout (Dropout)            multiple                  0         \n",
            "_________________________________________________________________\n",
            "dense_1 (Dense)              multiple                  16512     \n",
            "_________________________________________________________________\n",
            "batch_normalization_1 (Batch multiple                  512       \n",
            "_________________________________________________________________\n",
            "dropout_1 (Dropout)          multiple                  0         \n",
            "_________________________________________________________________\n",
            "output (Dense)               multiple                  903       \n",
            "=================================================================\n",
            "Total params: 21,412\n",
            "Trainable params: 20,900\n",
            "Non-trainable params: 512\n",
            "_________________________________________________________________\n"
          ],
          "name": "stdout"
        }
      ]
    },
    {
      "cell_type": "code",
      "metadata": {
        "id": "E0DjaL7eI8Ro",
        "colab_type": "code",
        "outputId": "fbceb878-294c-4e65-fd2a-590028b17c31",
        "colab": {
          "base_uri": "https://localhost:8080/",
          "height": 479
        }
      },
      "source": [
        "import logging\n",
        "logger = tf.get_logger()\n",
        "logger.setLevel(logging.ERROR)\n",
        "\n",
        "history = run_experiment(model, params)"
      ],
      "execution_count": 21,
      "outputs": [
        {
          "output_type": "stream",
          "text": [
            "Creating training directory...\n",
            "Experiment started...\n",
            ".......................................\n",
            "Epoch 1/10\n",
            "1627/1627 [==============================] - 27s 17ms/step - loss: 0.6628 - sparse_categorical_accuracy: 0.7185 - val_loss: 0.7148 - val_sparse_categorical_accuracy: 0.6792\n",
            "Epoch 2/10\n",
            "1627/1627 [==============================] - 14s 9ms/step - loss: 0.5905 - sparse_categorical_accuracy: 0.7465 - val_loss: 0.6481 - val_sparse_categorical_accuracy: 0.7169\n",
            "Epoch 3/10\n",
            "1627/1627 [==============================] - 15s 9ms/step - loss: 0.5661 - sparse_categorical_accuracy: 0.7565 - val_loss: 0.5732 - val_sparse_categorical_accuracy: 0.7448\n",
            "Epoch 4/10\n",
            "1627/1627 [==============================] - 14s 9ms/step - loss: 0.5509 - sparse_categorical_accuracy: 0.7644 - val_loss: 0.5392 - val_sparse_categorical_accuracy: 0.7662\n",
            "Epoch 5/10\n",
            "1627/1627 [==============================] - 14s 9ms/step - loss: 0.5378 - sparse_categorical_accuracy: 0.7694 - val_loss: 0.5080 - val_sparse_categorical_accuracy: 0.7819\n",
            "Epoch 6/10\n",
            "1627/1627 [==============================] - 14s 9ms/step - loss: 0.5285 - sparse_categorical_accuracy: 0.7739 - val_loss: 0.5049 - val_sparse_categorical_accuracy: 0.7842\n",
            "Epoch 7/10\n",
            "1627/1627 [==============================] - 14s 9ms/step - loss: 0.5207 - sparse_categorical_accuracy: 0.7776 - val_loss: 0.4692 - val_sparse_categorical_accuracy: 0.8016\n",
            "Epoch 8/10\n",
            "1627/1627 [==============================] - 14s 9ms/step - loss: 0.5138 - sparse_categorical_accuracy: 0.7810 - val_loss: 0.4686 - val_sparse_categorical_accuracy: 0.8001\n",
            "Epoch 9/10\n",
            "1627/1627 [==============================] - 14s 8ms/step - loss: 0.5094 - sparse_categorical_accuracy: 0.7821 - val_loss: 0.4830 - val_sparse_categorical_accuracy: 0.7934\n",
            "Epoch 10/10\n",
            "1627/1627 [==============================] - 14s 9ms/step - loss: 0.5049 - sparse_categorical_accuracy: 0.7848 - val_loss: 0.4747 - val_sparse_categorical_accuracy: 0.8034\n",
            ".......................................\n",
            "Experiment finished.\n",
            "\n"
          ],
          "name": "stdout"
        }
      ]
    },
    {
      "cell_type": "markdown",
      "metadata": {
        "id": "UhJ5qV0aJd0J",
        "colab_type": "text"
      },
      "source": [
        "#### Visualize training history"
      ]
    },
    {
      "cell_type": "code",
      "metadata": {
        "id": "Ie7fi-q_JAhh",
        "colab_type": "code",
        "outputId": "1567ee7c-49af-40f6-8000-ce1ba73660f1",
        "colab": {
          "base_uri": "https://localhost:8080/",
          "height": 573
        }
      },
      "source": [
        "import matplotlib.pyplot as plt\n",
        "\n",
        "# Plot training & validation accuracy values\n",
        "plt.plot(history.history['sparse_categorical_accuracy'])\n",
        "plt.plot(history.history['val_sparse_categorical_accuracy'])\n",
        "plt.title('Model accuracy')\n",
        "plt.ylabel('Accuracy')\n",
        "plt.xlabel('Epoch')\n",
        "plt.legend(['Train', 'Eval'], loc='upper left')\n",
        "plt.show()\n",
        "\n",
        "# Plot training & validation loss values\n",
        "plt.plot(history.history['loss'])\n",
        "plt.plot(history.history['val_loss'])\n",
        "plt.title('Model loss')\n",
        "plt.ylabel('Loss')\n",
        "plt.xlabel('Epoch')\n",
        "plt.legend(['Train', 'Eval'], loc='upper left')\n",
        "plt.show()"
      ],
      "execution_count": 22,
      "outputs": [
        {
          "output_type": "display_data",
          "data": {
            "image/png": "[encoded data removed]",
            "text/plain": [
              "<Figure size 432x288 with 1 Axes>"
            ]
          },
          "metadata": {
            "tags": []
          }
        },
        {
          "output_type": "display_data",
          "data": {
            "image/png": "[encoded data removed]",
            "text/plain": [
              "<Figure size 432x288 with 1 Axes>"
            ]
          },
          "metadata": {
            "tags": []
          }
        }
      ]
    },
    {
      "cell_type": "markdown",
      "metadata": {
        "id": "t7q4uSu1KbXv",
        "colab_type": "text"
      },
      "source": [
        "## 3. Model export for serving"
      ]
    },
    {
      "cell_type": "markdown",
      "metadata": {
        "id": "vwDylJzoUTb1",
        "colab_type": "text"
      },
      "source": [
        "### 3.1. Implement serving input receiver functions"
      ]
    },
    {
      "cell_type": "code",
      "metadata": {
        "id": "_D577fVOKbcw",
        "colab_type": "code",
        "outputId": "aefc578b-12e5-45b6-b127-d5f2e991fe14",
        "colab": {
          "base_uri": "https://localhost:8080/",
          "height": 221
        }
      },
      "source": [
        "feature_spec = {}\n",
        "for feature_name in FEATURE_NAMES:\n",
        "    if feature_name in CATEGORICAL_FEATURE_NAMES:\n",
        "        feature_spec[feature_name] = tf.io.FixedLenFeature(shape=(1,), dtype=tf.string)\n",
        "    else:\n",
        "        feature_spec[feature_name] = tf.io.FixedLenFeature(shape=(1,), dtype=tf.float32)\n",
        "\n",
        "for key, value in feature_spec.items():\n",
        "  print(\"{}: {}\".format(key, value))"
      ],
      "execution_count": 23,
      "outputs": [
        {
          "output_type": "stream",
          "text": [
            "Soil_Type: FixedLenFeature(shape=(1,), dtype=tf.string, default_value=None)\n",
            "Wilderness_Area: FixedLenFeature(shape=(1,), dtype=tf.string, default_value=None)\n",
            "Aspect: FixedLenFeature(shape=(1,), dtype=tf.float32, default_value=None)\n",
            "Elevation: FixedLenFeature(shape=(1,), dtype=tf.float32, default_value=None)\n",
            "Hillshade_3pm: FixedLenFeature(shape=(1,), dtype=tf.float32, default_value=None)\n",
            "Hillshade_9am: FixedLenFeature(shape=(1,), dtype=tf.float32, default_value=None)\n",
            "Hillshade_Noon: FixedLenFeature(shape=(1,), dtype=tf.float32, default_value=None)\n",
            "Horizontal_Distance_To_Fire_Points: FixedLenFeature(shape=(1,), dtype=tf.float32, default_value=None)\n",
            "Horizontal_Distance_To_Hydrology: FixedLenFeature(shape=(1,), dtype=tf.float32, default_value=None)\n",
            "Horizontal_Distance_To_Roadways: FixedLenFeature(shape=(1,), dtype=tf.float32, default_value=None)\n",
            "Slope: FixedLenFeature(shape=(1,), dtype=tf.float32, default_value=None)\n",
            "Vertical_Distance_To_Hydrology: FixedLenFeature(shape=(1,), dtype=tf.float32, default_value=None)\n"
          ],
          "name": "stdout"
        }
      ]
    },
    {
      "cell_type": "markdown",
      "metadata": {
        "id": "Iijp9_mV0gNn",
        "colab_type": "text"
      },
      "source": [
        "#### Features serving function"
      ]
    },
    {
      "cell_type": "code",
      "metadata": {
        "id": "hQDJP47xnt9p",
        "colab_type": "code",
        "colab": {}
      },
      "source": [
        "def make_features_serving_fn(model):\n",
        "\n",
        "  @tf.function\n",
        "  def serve_features_fn(features):\n",
        "    \n",
        "    return model(features)\n",
        "\n",
        "  return serve_features_fn"
      ],
      "execution_count": 0,
      "outputs": []
    },
    {
      "cell_type": "markdown",
      "metadata": {
        "id": "2sPh4f_tUX5n",
        "colab_type": "text"
      },
      "source": [
        "### 3.2. Export the model"
      ]
    },
    {
      "cell_type": "code",
      "metadata": {
        "id": "ZlQfiluTTuW-",
        "colab_type": "code",
        "outputId": "b2f47ab5-acfa-4ad5-a8b8-f0402e6851cd",
        "colab": {
          "base_uri": "https://localhost:8080/",
          "height": 34
        }
      },
      "source": [
        "features_input_signature = {\n",
        "                feature: tf.TensorSpec(shape=spec.shape, dtype=spec.dtype, name=feature)\n",
        "                for feature, spec in feature_spec.items()\n",
        "            }\n",
        "\n",
        "features_input_signature['request_timestamp'] = tf.TensorSpec(shape=[None], dtype=tf.string, name='request_timestamp')\n",
        "\n",
        "signatures = {        \n",
        "    'serving_default': make_features_serving_fn(model).get_concrete_function(\n",
        "        features_input_signature),\n",
        "    }\n",
        "\n",
        "model.save(MODEL_DIR, save_format='tf', signatures=signatures)\n",
        "print(\"Model is exported to: {}.\".format(MODEL_DIR))"
      ],
      "execution_count": 25,
      "outputs": [
        {
          "output_type": "stream",
          "text": [
            "Model is exported to: ./workspace/training/exported_model.\n"
          ],
          "name": "stdout"
        }
      ]
    },
    {
      "cell_type": "code",
      "metadata": {
        "id": "fyK7Yy0CCr1f",
        "colab_type": "code",
        "colab": {
          "base_uri": "https://localhost:8080/",
          "height": 1000
        },
        "outputId": "9c23c31e-0c65-4851-bcba-be755509a993"
      },
      "source": [
        "!saved_model_cli show --dir {MODEL_DIR} --tag_set serve --signature_def serving_default"
      ],
      "execution_count": 32,
      "outputs": [
        {
          "output_type": "stream",
          "text": [
            "2020-04-07 14:28:38.436585: W tensorflow/stream_executor/platform/default/dso_loader.cc:55] Could not load dynamic library 'libnvinfer.so.6'; dlerror: libnvinfer.so.6: cannot open shared object file: No such file or directory; LD_LIBRARY_PATH: /usr/local/nvidia/lib:/usr/local/nvidia/lib64\n",
            "2020-04-07 14:28:38.436726: W tensorflow/stream_executor/platform/default/dso_loader.cc:55] Could not load dynamic library 'libnvinfer_plugin.so.6'; dlerror: libnvinfer_plugin.so.6: cannot open shared object file: No such file or directory; LD_LIBRARY_PATH: /usr/local/nvidia/lib:/usr/local/nvidia/lib64\n",
            "2020-04-07 14:28:38.436752: W tensorflow/compiler/tf2tensorrt/utils/py_utils.cc:30] Cannot dlopen some TensorRT libraries. If you would like to use Nvidia GPU with TensorRT, please make sure the missing libraries mentioned above are installed properly.\n",
            "The given SavedModel SignatureDef contains the following input(s):\n",
            "  inputs['Aspect'] tensor_info:\n",
            "      dtype: DT_FLOAT\n",
            "      shape: (1)\n",
            "      name: serving_default_Aspect:0\n",
            "  inputs['Elevation'] tensor_info:\n",
            "      dtype: DT_FLOAT\n",
            "      shape: (1)\n",
            "      name: serving_default_Elevation:0\n",
            "  inputs['Hillshade_3pm'] tensor_info:\n",
            "      dtype: DT_FLOAT\n",
            "      shape: (1)\n",
            "      name: serving_default_Hillshade_3pm:0\n",
            "  inputs['Hillshade_9am'] tensor_info:\n",
            "      dtype: DT_FLOAT\n",
            "      shape: (1)\n",
            "      name: serving_default_Hillshade_9am:0\n",
            "  inputs['Hillshade_Noon'] tensor_info:\n",
            "      dtype: DT_FLOAT\n",
            "      shape: (1)\n",
            "      name: serving_default_Hillshade_Noon:0\n",
            "  inputs['Horizontal_Distance_To_Fire_Points'] tensor_info:\n",
            "      dtype: DT_FLOAT\n",
            "      shape: (1)\n",
            "      name: serving_default_Horizontal_Distance_To_Fire_Points:0\n",
            "  inputs['Horizontal_Distance_To_Hydrology'] tensor_info:\n",
            "      dtype: DT_FLOAT\n",
            "      shape: (1)\n",
            "      name: serving_default_Horizontal_Distance_To_Hydrology:0\n",
            "  inputs['Horizontal_Distance_To_Roadways'] tensor_info:\n",
            "      dtype: DT_FLOAT\n",
            "      shape: (1)\n",
            "      name: serving_default_Horizontal_Distance_To_Roadways:0\n",
            "  inputs['Slope'] tensor_info:\n",
            "      dtype: DT_FLOAT\n",
            "      shape: (1)\n",
            "      name: serving_default_Slope:0\n",
            "  inputs['Soil_Type'] tensor_info:\n",
            "      dtype: DT_STRING\n",
            "      shape: (1)\n",
            "      name: serving_default_Soil_Type:0\n",
            "  inputs['Vertical_Distance_To_Hydrology'] tensor_info:\n",
            "      dtype: DT_FLOAT\n",
            "      shape: (1)\n",
            "      name: serving_default_Vertical_Distance_To_Hydrology:0\n",
            "  inputs['Wilderness_Area'] tensor_info:\n",
            "      dtype: DT_STRING\n",
            "      shape: (1)\n",
            "      name: serving_default_Wilderness_Area:0\n",
            "  inputs['request_timestamp'] tensor_info:\n",
            "      dtype: DT_STRING\n",
            "      shape: (-1)\n",
            "      name: serving_default_request_timestamp:0\n",
            "The given SavedModel SignatureDef contains the following output(s):\n",
            "  outputs['output_0'] tensor_info:\n",
            "      dtype: DT_FLOAT\n",
            "      shape: (1, 7)\n",
            "      name: StatefulPartitionedCall_22:0\n",
            "Method name is: tensorflow/serving/predict\n"
          ],
          "name": "stdout"
        }
      ]
    },
    {
      "cell_type": "markdown",
      "metadata": {
        "id": "9AQdyoPZUaKH",
        "colab_type": "text"
      },
      "source": [
        "### 3.3. Test exported model"
      ]
    },
    {
      "cell_type": "code",
      "metadata": {
        "id": "_gfRf20JVgn6",
        "colab_type": "code",
        "colab": {}
      },
      "source": [
        "instances = [\n",
        "      { 'request_timestamp': '20200101',\n",
        "        'Soil_Type': '7202',\n",
        "        'Wilderness_Area': 'Commanche',\n",
        "        'Aspect': 61,\n",
        "        'Elevation': 3091,\n",
        "        'Hillshade_3pm': 129,\n",
        "        'Hillshade_9am': 227,\n",
        "        'Hillshade_Noon': 223,\n",
        "        'Horizontal_Distance_To_Fire_Points': 2868,\n",
        "        'Horizontal_Distance_To_Hydrology': 134,\n",
        "        'Horizontal_Distance_To_Roadways': 0, \n",
        "        'Slope': 8, \n",
        "        'Vertical_Distance_To_Hydrology': 10,\n",
        "    }\n",
        "]"
      ],
      "execution_count": 0,
      "outputs": []
    },
    {
      "cell_type": "markdown",
      "metadata": {
        "id": "IV07vVr1uBvr",
        "colab_type": "text"
      },
      "source": [
        "#### Preidct using features_serving signature"
      ]
    },
    {
      "cell_type": "code",
      "metadata": {
        "id": "AHuRrUjvuK0R",
        "colab_type": "code",
        "colab": {}
      },
      "source": [
        "import numpy as np\n",
        "\n",
        "def create_tf_features(instance):\n",
        " \n",
        "  new_instance = {}\n",
        "  for key, value in instance.items():\n",
        "    if key in CATEGORICAL_FEATURE_NAMES or key == 'request_timestamp':\n",
        "      new_instance[key] = tf.constant(value, dtype=tf.string)\n",
        "    else:\n",
        "      new_instance[key] = tf.constant(value, dtype=tf.float32)\n",
        "  \n",
        "  return new_instance"
      ],
      "execution_count": 0,
      "outputs": []
    },
    {
      "cell_type": "code",
      "metadata": {
        "id": "RUaWFXqgu96i",
        "colab_type": "code",
        "colab": {}
      },
      "source": [
        "features_predictor = tf.saved_model.load(MODEL_DIR).signatures[\"serving_default\"]\n",
        "\n",
        "def predict_features_serving(instance):\n",
        "\n",
        "  features = create_tf_features(instance)\n",
        "  probabilities = features_predictor(**features)['output_0'].numpy()\n",
        "  predictions = FEATURE_LABELS[int(np.argmax(probabilities))]\n",
        "\n",
        "  return predictions"
      ],
      "execution_count": 0,
      "outputs": []
    },
    {
      "cell_type": "code",
      "metadata": {
        "id": "N2obiJWB20BX",
        "colab_type": "code",
        "outputId": "e4adf111-6ab6-40e1-8c22-9bdbb0d2f93f",
        "colab": {
          "base_uri": "https://localhost:8080/",
          "height": 34
        }
      },
      "source": [
        "predict_features_serving(instances[0])"
      ],
      "execution_count": 57,
      "outputs": [
        {
          "output_type": "execute_result",
          "data": {
            "text/plain": [
              "'1'"
            ]
          },
          "metadata": {
            "tags": []
          },
          "execution_count": 57
        }
      ]
    },
    {
      "cell_type": "markdown",
      "metadata": {
        "id": "fY-3txmZb0kf",
        "colab_type": "text"
      },
      "source": [
        "### 3.4  Upload exported model to GCS"
      ]
    },
    {
      "cell_type": "code",
      "metadata": {
        "id": "E6X0wsuJb0rB",
        "colab_type": "code",
        "colab": {
          "base_uri": "https://localhost:8080/",
          "height": 102
        },
        "outputId": "230201b6-b335-4118-faf5-e83612822ed9"
      },
      "source": [
        "!gsutil cp -r {MODEL_DIR} gs://{BUCKET}/models/{MODEL_NAME}"
      ],
      "execution_count": 33,
      "outputs": [
        {
          "output_type": "stream",
          "text": [
            "Copying file://./workspace/training/exported_model/saved_model.pb [Content-Type=application/octet-stream]...\n",
            "Copying file://./workspace/training/exported_model/variables/variables.data-00000-of-00001 [Content-Type=application/octet-stream]...\n",
            "Copying file://./workspace/training/exported_model/variables/variables.index [Content-Type=application/octet-stream]...\n",
            "-\n",
            "Operation completed over 3 objects/1.1 MiB.                                      \n"
          ],
          "name": "stdout"
        }
      ]
    },
    {
      "cell_type": "markdown",
      "metadata": {
        "id": "gvVcRazvL_95",
        "colab_type": "text"
      },
      "source": [
        "## 4. Model deployment to AI Platform \n"
      ]
    },
    {
      "cell_type": "markdown",
      "metadata": {
        "id": "uncXaPUBdBpV",
        "colab_type": "text"
      },
      "source": [
        "### 4.1. Create model in AI Platform"
      ]
    },
    {
      "cell_type": "code",
      "metadata": {
        "id": "bO5a1fGLLrSv",
        "colab_type": "code",
        "colab": {}
      },
      "source": [
        "!gcloud ai-platform models create {MODEL_NAME} \\\n",
        "  --project {PROJECT} \\\n",
        "  --regions {REGION}"
      ],
      "execution_count": 0,
      "outputs": []
    },
    {
      "cell_type": "code",
      "metadata": {
        "id": "LhuGqxSkZs94",
        "colab_type": "code",
        "colab": {
          "base_uri": "https://localhost:8080/",
          "height": 51
        },
        "outputId": "bd6aa2fa-54ed-449d-d077-0ac750dd72b3"
      },
      "source": [
        "!gcloud ai-platform models list --project {PROJECT}"
      ],
      "execution_count": 34,
      "outputs": [
        {
          "output_type": "stream",
          "text": [
            "NAME                  DEFAULT_VERSION_NAME\n",
            "covertype_classifier  v1\n"
          ],
          "name": "stdout"
        }
      ]
    },
    {
      "cell_type": "markdown",
      "metadata": {
        "id": "VmUPxnCZdJZ4",
        "colab_type": "text"
      },
      "source": [
        "### 4.2. Create a model version"
      ]
    },
    {
      "cell_type": "code",
      "metadata": {
        "id": "jW-zQi9bZzF5",
        "colab_type": "code",
        "colab": {
          "base_uri": "https://localhost:8080/",
          "height": 68
        },
        "outputId": "04b00560-21c1-46ba-8640-0efd4bba094d"
      },
      "source": [
        "!gcloud ai-platform versions create {VERSION_NAME} \\\n",
        "  --model={MODEL_NAME} \\\n",
        "  --origin=gs://{BUCKET}/models/{MODEL_NAME} \\\n",
        "  --runtime-version=2.1 \\\n",
        "  --framework=TENSORFLOW \\\n",
        "  --python-version=3.7 \\\n",
        "  --project={PROJECT}\n",
        "\n",
        "!gcloud ai-platform versions list --model={MODEL_NAME} --project={PROJECT}"
      ],
      "execution_count": 35,
      "outputs": [
        {
          "output_type": "stream",
          "text": [
            "NAME  DEPLOYMENT_URI                                       STATE\n",
            "v1    gs://sa-data-validation/models/covertype_classifier  READY\n",
            "v2    gs://sa-data-validation/models/covertype_classifier  READY\n"
          ],
          "name": "stdout"
        }
      ]
    },
    {
      "cell_type": "markdown",
      "metadata": {
        "id": "nmFimRVrc4m8",
        "colab_type": "text"
      },
      "source": [
        "### 4.3. Test deployed model"
      ]
    },
    {
      "cell_type": "code",
      "metadata": {
        "id": "YJJDQNMzc4xh",
        "colab_type": "code",
        "colab": {
          "base_uri": "https://localhost:8080/",
          "height": 71
        },
        "outputId": "48172a44-3cc6-43b9-803b-44c3ceabf731"
      },
      "source": [
        "import googleapiclient.discovery\n",
        "\n",
        "service = googleapiclient.discovery.build('ml', 'v1')\n",
        "name = 'projects/{}/models/{}/versions/{}'.format(PROJECT, MODEL_NAME, VERSION_NAME)\n",
        "print(\"Service name: {}\".format(name))\n",
        "\n",
        "def caip_predict(instances):\n",
        "  \n",
        "  serving_instances = []\n",
        "  for instance in instances:\n",
        "    serving_instances.append(\n",
        "        {key: [value] for key, value in instance.items()})\n",
        "  \n",
        "  response = service.projects().predict(\n",
        "      \n",
        "      name=name,\n",
        "      body={\n",
        "          'signature_name': 'serving_default',\n",
        "          'instances': serving_instances}\n",
        "  ).execute()\n",
        "\n",
        "  if 'error' in response:\n",
        "    raise RuntimeError(response['error'])\n",
        "\n",
        "  probability_list = [output['output_0'] for output in response['predictions']]\n",
        "  classes = [FEATURE_LABELS[int(np.argmax(probabilities))] for probabilities in probability_list]\n",
        "  return classes"
      ],
      "execution_count": 21,
      "outputs": [
        {
          "output_type": "stream",
          "text": [
            "WARNING:google.auth._default:No project ID could be determined. Consider running `gcloud config set project` or setting the GOOGLE_CLOUD_PROJECT environment variable\n"
          ],
          "name": "stderr"
        },
        {
          "output_type": "stream",
          "text": [
            "Service name: projects/sa-data-validation/models/covertype_classifier/versions/v2\n"
          ],
          "name": "stdout"
        }
      ]
    },
    {
      "cell_type": "code",
      "metadata": {
        "id": "lbgnmaks4UPC",
        "colab_type": "code",
        "colab": {
          "base_uri": "https://localhost:8080/",
          "height": 34
        },
        "outputId": "11d27aa3-14f6-4a40-f82e-9c19bf9db91e"
      },
      "source": [
        "caip_predict(instances)"
      ],
      "execution_count": 22,
      "outputs": [
        {
          "output_type": "execute_result",
          "data": {
            "text/plain": [
              "['1']"
            ]
          },
          "metadata": {
            "tags": []
          },
          "execution_count": 22
        }
      ]
    },
    {
      "cell_type": "markdown",
      "metadata": {
        "id": "m11-MCflLjFG",
        "colab_type": "text"
      },
      "source": [
        "## 5. BigQuery logging dataset preparation"
      ]
    },
    {
      "cell_type": "markdown",
      "metadata": {
        "id": "HmWQwyAUdwIW",
        "colab_type": "text"
      },
      "source": [
        "### 5.1. Create BQ Dataset"
      ]
    },
    {
      "cell_type": "code",
      "metadata": {
        "id": "ne38zMEKL_Gk",
        "colab_type": "code",
        "colab": {
          "base_uri": "https://localhost:8080/",
          "height": 71
        },
        "outputId": "1b6d1d6c-1596-4bf7-e07f-23d3dde610f0"
      },
      "source": [
        "from google.cloud import bigquery\n",
        "\n",
        "client = bigquery.Client(PROJECT)\n",
        "dataset_names = [dataset.dataset_id for dataset in client.list_datasets(PROJECT)]\n",
        "\n",
        "dataset = bigquery.Dataset(\"{}.{}\".format(PROJECT, BQ_DATASET_NAME))\n",
        "dataset.location = \"US\"\n",
        "\n",
        "if BQ_DATASET_NAME not in dataset_names:\n",
        "  dataset = client.create_dataset(dataset)\n",
        "  print(\"Created dataset {}.{}\".format(client.project, dataset.dataset_id))\n",
        "\n",
        "print(\"BigQuery Dataset is ready.\")\n"
      ],
      "execution_count": 88,
      "outputs": [
        {
          "output_type": "stream",
          "text": [
            "WARNING:google.auth._default:No project ID could be determined. Consider running `gcloud config set project` or setting the GOOGLE_CLOUD_PROJECT environment variable\n"
          ],
          "name": "stderr"
        },
        {
          "output_type": "stream",
          "text": [
            "BigQuery Dataset is ready.\n"
          ],
          "name": "stdout"
        }
      ]
    },
    {
      "cell_type": "markdown",
      "metadata": {
        "id": "ieIgLE94PovQ",
        "colab_type": "text"
      },
      "source": [
        "### 5.2. Create BQ Table\n"
      ]
    },
    {
      "cell_type": "markdown",
      "metadata": {
        "id": "ima0Dg1UWkRO",
        "colab_type": "text"
      },
      "source": [
        "#### Table schema"
      ]
    },
    {
      "cell_type": "code",
      "metadata": {
        "id": "TqxS6RQ0T9LG",
        "colab_type": "code",
        "colab": {}
      },
      "source": [
        "import json\n",
        "\n",
        "table_schema_json = [\n",
        "  {\n",
        "    \"name\": \"model\", \n",
        "    \"type\": \"STRING\", \n",
        "    \"mode\": \"REQUIRED\"\n",
        "   },\n",
        "   {\n",
        "     \"name\":\"model_version\", \n",
        "     \"type\": \"STRING\", \n",
        "     \"mode\":\"REQUIRED\"\n",
        "  },\n",
        "  {\n",
        "    \"name\":\"time\", \n",
        "    \"type\": \"TIMESTAMP\", \n",
        "    \"mode\": \"REQUIRED\"\n",
        "  },\n",
        "  {\n",
        "    \"name\":\"raw_data\", \n",
        "    \"type\": \"STRING\", \n",
        "    \"mode\": \"REQUIRED\"\n",
        "  },\n",
        "  {\n",
        "    \"name\":\"raw_prediction\", \n",
        "    \"type\": \"STRING\", \n",
        "    \"mode\": \"NULLABLE\"\n",
        "  },\n",
        "  {\n",
        "    \"name\":\"groundtruth\", \n",
        "    \"type\": \"STRING\", \n",
        "    \"mode\": \"NULLABLE\"\n",
        "  },\n",
        "]\n",
        "\n",
        "json.dump(table_schema_json, open('table_schema.json', 'w'))"
      ],
      "execution_count": 0,
      "outputs": []
    },
    {
      "cell_type": "markdown",
      "metadata": {
        "id": "koE5tKouWngb",
        "colab_type": "text"
      },
      "source": [
        "#### Ceating an ingestion-time partitioned tables"
      ]
    },
    {
      "cell_type": "code",
      "metadata": {
        "id": "SXkoAGEiXRvj",
        "colab_type": "code",
        "colab": {}
      },
      "source": [
        "table = bigquery.Table(\n",
        "    \"{}.{}.{}\".format(PROJECT, BQ_DATASET_NAME, BQ_TABLE_NAME))\n",
        "\n",
        "table_names = [table.table_id for table in client.list_tables(dataset)]\n",
        "\n",
        "if BQ_TABLE_NAME in table_names:\n",
        "  print(\"Deleteing BQ Table: {} ...\".format(BQ_TABLE_NAME))\n",
        "  client.delete_table(table)\n",
        "\n",
        "# table = client.create_table(table)\n",
        "# table.partition_expiration = 60 * 60 * 24 * 7\n",
        "# print(\"Created table {}.{}.{}\".format(table.project, table.dataset_id, table.table_id))\n"
      ],
      "execution_count": 0,
      "outputs": []
    },
    {
      "cell_type": "code",
      "metadata": {
        "id": "QnE9GMjbeqXR",
        "colab_type": "code",
        "colab": {}
      },
      "source": [
        "TIME_PARTITION_EXPERIATION = 60 * 60 * 24 * 7 # week\n",
        "\n",
        "!bq mk --table \\\n",
        "  --project_id={PROJECT} \\\n",
        "  --time_partitioning_type=DAY \\\n",
        "  --time_partitioning_expiration {TIME_PARTITION_EXPERIATION} \\\n",
        "  {PROJECT}:{BQ_DATASET_NAME}.{BQ_TABLE_NAME} \\\n",
        "  'table_schema.json'"
      ],
      "execution_count": 0,
      "outputs": []
    },
    {
      "cell_type": "markdown",
      "metadata": {
        "id": "RPFM4mW-R3y8",
        "colab_type": "text"
      },
      "source": [
        "### 5.3. Configre the AI Platform model version to enable request-response logging to BigQuery"
      ]
    },
    {
      "cell_type": "code",
      "metadata": {
        "id": "PBkx4i9Rc51W",
        "colab_type": "code",
        "colab": {}
      },
      "source": [
        "sampling_percentage = 1.0\n",
        "bq_full_table_name = '{}.{}.{}'.format(PROJECT, BQ_DATASET_NAME, BQ_TABLE_NAME)"
      ],
      "execution_count": 0,
      "outputs": []
    },
    {
      "cell_type": "code",
      "metadata": {
        "id": "EarF0cmcRZN4",
        "colab_type": "code",
        "colab": {
          "base_uri": "https://localhost:8080/",
          "height": 289
        },
        "outputId": "bd022c2d-b96e-4e84-c741-879ad8866d9d"
      },
      "source": [
        "logging_config = {\n",
        "    \"requestLoggingConfig\":{\n",
        "        \"samplingPercentage\": sampling_percentage,\n",
        "        \"bigqueryTableName\": bq_full_table_name\n",
        "        }\n",
        "    }\n",
        "\n",
        "response = service.projects().models().versions().patch(\n",
        "    name=name,\n",
        "    body=logging_config,\n",
        "    updateMask=\"requestLoggingConfig\"\n",
        "    ).execute()\n",
        "\n",
        "response"
      ],
      "execution_count": 48,
      "outputs": [
        {
          "output_type": "execute_result",
          "data": {
            "text/plain": [
              "{'metadata': {'@type': 'type.googleapis.com/google.cloud.ml.v1.OperationMetadata',\n",
              "  'createTime': '2020-04-07T15:30:25Z',\n",
              "  'modelName': 'projects/sa-data-validation/models/covertype_classifier',\n",
              "  'operationType': 'UPDATE_VERSION',\n",
              "  'version': {'createTime': '2020-04-07T15:14:06Z',\n",
              "   'deploymentUri': 'gs://sa-data-validation/models/covertype_classifier',\n",
              "   'etag': '2gdK/2bTEx8=',\n",
              "   'framework': 'TENSORFLOW',\n",
              "   'machineType': 'mls1-c1-m2',\n",
              "   'name': 'projects/sa-data-validation/models/covertype_classifier/versions/v2',\n",
              "   'pythonVersion': '3.7',\n",
              "   'requestLoggingConfig': {'bigqueryTableName': 'sa-data-validation.data_validation.covertype_classifier_logs',\n",
              "    'samplingPercentage': 1},\n",
              "   'runtimeVersion': '2.1',\n",
              "   'state': 'READY'}},\n",
              " 'name': 'projects/sa-data-validation/operations/update_covertype_classifier_v2_1586273425000'}"
            ]
          },
          "metadata": {
            "tags": []
          },
          "execution_count": 48
        }
      ]
    },
    {
      "cell_type": "markdown",
      "metadata": {
        "id": "kVpICSuq0Kp1",
        "colab_type": "text"
      },
      "source": [
        "### 5.4. Test request-response logging"
      ]
    },
    {
      "cell_type": "code",
      "metadata": {
        "id": "AQh9I27rrGRT",
        "colab_type": "code",
        "colab": {
          "base_uri": "https://localhost:8080/",
          "height": 34
        },
        "outputId": "31ac4f20-29f9-4aad-e674-1e57cd452d6d"
      },
      "source": [
        "import time\n",
        "\n",
        "for i in range(20):\n",
        "  print('.', end='')\n",
        "  time.sleep(0.5)"
      ],
      "execution_count": 54,
      "outputs": [
        {
          "output_type": "stream",
          "text": [
            "['1']['1']['1']['1']['1']['1']['1']['1']['1']['1']['1']['1']['1']['1']['1']['1']['1']['1']['1']['1']"
          ],
          "name": "stdout"
        }
      ]
    },
    {
      "cell_type": "code",
      "metadata": {
        "id": "jdlrKX0d0mQC",
        "colab_type": "code",
        "colab": {
          "base_uri": "https://localhost:8080/",
          "height": 405
        },
        "outputId": "432a5cff-d93c-4565-b9c6-7a595147a523"
      },
      "source": [
        "query = '''\n",
        "  SELECT * FROM \n",
        "  `{}.{}` \n",
        "  WHERE model_version = '{}'\n",
        "  ORDER BY time desc\n",
        "  LIMIT {}\n",
        "'''.format(BQ_DATASET_NAME, BQ_TABLE_NAME, VERSION_NAME, 3)\n",
        "\n",
        "pd.io.gbq.read_gbq(\n",
        "    query, project_id=PROJECT).T\n"
      ],
      "execution_count": 62,
      "outputs": [
        {
          "output_type": "execute_result",
          "data": {
            "text/html": [
              "<div>\n",
              "<style scoped>\n",
              "    .dataframe tbody tr th:only-of-type {\n",
              "        vertical-align: middle;\n",
              "    }\n",
              "\n",
              "    .dataframe tbody tr th {\n",
              "        vertical-align: top;\n",
              "    }\n",
              "\n",
              "    .dataframe thead th {\n",
              "        text-align: right;\n",
              "    }\n",
              "</style>\n",
              "<table border=\"1\" class=\"dataframe\">\n",
              "  <thead>\n",
              "    <tr style=\"text-align: right;\">\n",
              "      <th></th>\n",
              "      <th>0</th>\n",
              "      <th>1</th>\n",
              "      <th>2</th>\n",
              "    </tr>\n",
              "  </thead>\n",
              "  <tbody>\n",
              "    <tr>\n",
              "      <th>model</th>\n",
              "      <td>covertype_classifier</td>\n",
              "      <td>covertype_classifier</td>\n",
              "      <td>covertype_classifier</td>\n",
              "    </tr>\n",
              "    <tr>\n",
              "      <th>model_version</th>\n",
              "      <td>v2</td>\n",
              "      <td>v2</td>\n",
              "      <td>v2</td>\n",
              "    </tr>\n",
              "    <tr>\n",
              "      <th>time</th>\n",
              "      <td>2020-04-07 16:03:36+00:00</td>\n",
              "      <td>2020-04-07 16:03:36+00:00</td>\n",
              "      <td>2020-04-07 16:03:35+00:00</td>\n",
              "    </tr>\n",
              "    <tr>\n",
              "      <th>raw_data</th>\n",
              "      <td>{\"instances\": [{\"request_timestamp\": [\"20200101\"], \"Soil_Type\": [\"7202\"], \"Wilderness_Area\": [\"Commanche\"], \"Aspect\": [61], \"Elevation\": [3091], \"Hillshade_3pm\": [129], \"Hillshade_9am\": [227], \"Hillshade_Noon\": [223], \"Horizontal_Distance_To_Fire_Points\": [2868], \"Horizontal_Distance_To_Hydrology\": [134], \"Horizontal_Distance_To_Roadways\": [0], \"Slope\": [8], \"Vertical_Distance_To_Hydrology\": [10]}]}</td>\n",
              "      <td>{\"instances\": [{\"request_timestamp\": [\"20200101\"], \"Soil_Type\": [\"7202\"], \"Wilderness_Area\": [\"Commanche\"], \"Aspect\": [61], \"Elevation\": [3091], \"Hillshade_3pm\": [129], \"Hillshade_9am\": [227], \"Hillshade_Noon\": [223], \"Horizontal_Distance_To_Fire_Points\": [2868], \"Horizontal_Distance_To_Hydrology\": [134], \"Horizontal_Distance_To_Roadways\": [0], \"Slope\": [8], \"Vertical_Distance_To_Hydrology\": [10]}]}</td>\n",
              "      <td>{\"instances\": [{\"request_timestamp\": [\"20200101\"], \"Soil_Type\": [\"7202\"], \"Wilderness_Area\": [\"Commanche\"], \"Aspect\": [61], \"Elevation\": [3091], \"Hillshade_3pm\": [129], \"Hillshade_9am\": [227], \"Hillshade_Noon\": [223], \"Horizontal_Distance_To_Fire_Points\": [2868], \"Horizontal_Distance_To_Hydrology\": [134], \"Horizontal_Distance_To_Roadways\": [0], \"Slope\": [8], \"Vertical_Distance_To_Hydrology\": [10]}]}</td>\n",
              "    </tr>\n",
              "    <tr>\n",
              "      <th>raw_prediction</th>\n",
              "      <td>{\"predictions\": [{\"output_0\": [0.31033429503440857, 0.6896360516548157, 1.1421931976618449e-11, 1.6456447315960077e-09, 2.9508630177588202e-05, 1.345885802805924e-08, 1.7852252653938194e-07]}]}</td>\n",
              "      <td>{\"predictions\": [{\"output_0\": [0.31033429503440857, 0.6896360516548157, 1.1421931976618449e-11, 1.6456447315960077e-09, 2.9508630177588202e-05, 1.345885802805924e-08, 1.7852252653938194e-07]}]}</td>\n",
              "      <td>{\"predictions\": [{\"output_0\": [0.31033429503440857, 0.6896360516548157, 1.1421931976618449e-11, 1.6456447315960077e-09, 2.9508630177588202e-05, 1.345885802805924e-08, 1.7852252653938194e-07]}]}</td>\n",
              "    </tr>\n",
              "    <tr>\n",
              "      <th>groundtruth</th>\n",
              "      <td>None</td>\n",
              "      <td>None</td>\n",
              "      <td>None</td>\n",
              "    </tr>\n",
              "  </tbody>\n",
              "</table>\n",
              "</div>"
            ],
            "text/plain": [
              "                                                                                                                                                                                                                                                                                                                                                                                                                                 0  ...                                                                                                                                                                                                                                                                                                                                                                                                                   2\n",
              "model           covertype_classifier                                                                                                                                                                                                                                                                                                                                                                                                ...  covertype_classifier                                                                                                                                                                                                                                                                                                                                                                                              \n",
              "model_version   v2                                                                                                                                                                                                                                                                                                                                                                                                                  ...  v2                                                                                                                                                                                                                                                                                                                                                                                                                \n",
              "time            2020-04-07 16:03:36+00:00                                                                                                                                                                                                                                                                                                                                                                                           ...  2020-04-07 16:03:35+00:00                                                                                                                                                                                                                                                                                                                                                                                         \n",
              "raw_data        {\"instances\": [{\"request_timestamp\": [\"20200101\"], \"Soil_Type\": [\"7202\"], \"Wilderness_Area\": [\"Commanche\"], \"Aspect\": [61], \"Elevation\": [3091], \"Hillshade_3pm\": [129], \"Hillshade_9am\": [227], \"Hillshade_Noon\": [223], \"Horizontal_Distance_To_Fire_Points\": [2868], \"Horizontal_Distance_To_Hydrology\": [134], \"Horizontal_Distance_To_Roadways\": [0], \"Slope\": [8], \"Vertical_Distance_To_Hydrology\": [10]}]}  ...  {\"instances\": [{\"request_timestamp\": [\"20200101\"], \"Soil_Type\": [\"7202\"], \"Wilderness_Area\": [\"Commanche\"], \"Aspect\": [61], \"Elevation\": [3091], \"Hillshade_3pm\": [129], \"Hillshade_9am\": [227], \"Hillshade_Noon\": [223], \"Horizontal_Distance_To_Fire_Points\": [2868], \"Horizontal_Distance_To_Hydrology\": [134], \"Horizontal_Distance_To_Roadways\": [0], \"Slope\": [8], \"Vertical_Distance_To_Hydrology\": [10]}]}\n",
              "raw_prediction  {\"predictions\": [{\"output_0\": [0.31033429503440857, 0.6896360516548157, 1.1421931976618449e-11, 1.6456447315960077e-09, 2.9508630177588202e-05, 1.345885802805924e-08, 1.7852252653938194e-07]}]}                                                                                                                                                                                                                   ...  {\"predictions\": [{\"output_0\": [0.31033429503440857, 0.6896360516548157, 1.1421931976618449e-11, 1.6456447315960077e-09, 2.9508630177588202e-05, 1.345885802805924e-08, 1.7852252653938194e-07]}]}                                                                                                                                                                                                                 \n",
              "groundtruth     None                                                                                                                                                                                                                                                                                                                                                                                                                ...  None                                                                                                                                                                                                                                                                                                                                                                                                              \n",
              "\n",
              "[6 rows x 3 columns]"
            ]
          },
          "metadata": {
            "tags": []
          },
          "execution_count": 62
        }
      ]
    },
    {
      "cell_type": "markdown",
      "metadata": {
        "id": "vK_yvIjWkPk7",
        "colab_type": "text"
      },
      "source": [
        "## 6. BigQuery logs parsing"
      ]
    },
    {
      "cell_type": "code",
      "metadata": {
        "id": "6fTqQkXEJszV",
        "colab_type": "code",
        "colab": {}
      },
      "source": [
        "view_name = \"vw_\"+BQ_TABLE_NAME+\"_\"+VERSION_NAME\n",
        "\n",
        "colum_names = ['request_timestamp'] + FEATURE_NAMES\n",
        "input_features = ', \\r\\n  '.join(colum_names)\n",
        "\n",
        "json_features_extraction = []\n",
        "for feature_name in colum_names:\n",
        "  s = \"JSON_EXTRACT(instance, '$.{}')\".format(feature_name) \n",
        "  if feature_name in NUMERIC_FEATURE_NAMES:\n",
        "    s = \"CAST({} AS NUMERIC)\".format(s)\n",
        "  s += \" AS {}\".format(feature_name)\n",
        "  json_features_extraction.append(s)\n",
        "json_features_extraction = ', \\r\\n    '.join(json_features_extraction)\n",
        "\n",
        "class_probability_pivoting = []\n",
        "for class_index, class_label in enumerate(FEATURE_LABELS):\n",
        "  s = \"MAX(IF(class_index = {}, class_probability, NULL)) as prob_{}\".format(class_index, class_label)\n",
        "  class_probability_pivoting.append(s)\n",
        "class_probability_pivoting = ', \\r\\n  '.join(class_probability_pivoting)"
      ],
      "execution_count": 0,
      "outputs": []
    },
    {
      "cell_type": "markdown",
      "metadata": {
        "id": "7_ArYsvKqn3j",
        "colab_type": "text"
      },
      "source": [
        "### 6.1. Create a view to parse the logs"
      ]
    },
    {
      "cell_type": "code",
      "metadata": {
        "id": "69vABhIJcqbR",
        "colab_type": "code",
        "colab": {}
      },
      "source": [
        "sql_script = '''\n",
        "CREATE OR REPLACE VIEW @dataset_name.@view_name\n",
        "AS\n",
        "\n",
        "WITH step1\n",
        "AS\n",
        "(\n",
        "  SELECT \n",
        "    model, \n",
        "    model_version, \n",
        "    time, \n",
        "    SPLIT(JSON_EXTRACT(raw_data, '$.instances'), '}],[{') instance_list, \n",
        "    SPLIT(JSON_EXTRACT(raw_prediction, '$.predictions'), '}],[{') as prediction_list\n",
        "  FROM \n",
        "  `@project.@dataset_name.@table_name` \n",
        "  WHERE model_version = '@version'\n",
        "),\n",
        "\n",
        "step2\n",
        "AS\n",
        "(\n",
        "  SELECT\n",
        "    model, \n",
        "    model_version, \n",
        "    time, \n",
        "    REPLACE(REPLACE(instance, '[', ''),']', '') AS instance,\n",
        "    REPLACE(REPLACE(prediction, '[{\"output_0\":[', ''),']}]', '') AS prediction,\n",
        "  FROM step1\n",
        "  JOIN UNNEST(step1.instance_list) AS instance\n",
        "  WITH OFFSET AS f1\n",
        "  JOIN UNNEST(step1.prediction_list) AS prediction\n",
        "  WITH OFFSET AS f2\n",
        "  ON f1=f2\n",
        "),\n",
        "\n",
        "step3 AS\n",
        "(\n",
        "  SELECT \n",
        "    model, \n",
        "    model_version, \n",
        "    time,\n",
        "    @json_features_extraction,\n",
        "    SPLIT(prediction, ',') AS class_probabilities, \n",
        "  FROM step2\n",
        "),\n",
        "\n",
        "step4\n",
        "AS\n",
        "(\n",
        "  SELECT * EXCEPT(class_probabilities)\n",
        "  FROM step3\n",
        "  JOIN UNNEST(step3.class_probabilities) AS class_probability\n",
        "  WITH OFFSET AS class_index\n",
        ")\n",
        "\n",
        "SELECT\n",
        "  model,\n",
        "  model_version,\n",
        "  time,\n",
        "  @input_features,\n",
        "  @class_probability_pivoting\n",
        "FROM step4\n",
        "GROUP BY\n",
        "  model,\n",
        "  model_version,\n",
        "  time,\n",
        "  request_timestamp,\n",
        "  Soil_Type,\n",
        "  Wilderness_Area,\n",
        "  Aspect,\n",
        "  Elevation,\n",
        "  Hillshade_3pm,\n",
        "  Hillshade_9am\t,\n",
        "  Hillshade_Noon,\n",
        "  Horizontal_Distance_To_Fire_Points,\n",
        "  Horizontal_Distance_To_Hydrology,\n",
        "  Horizontal_Distance_To_Roadways,\n",
        "  Slope,\t\n",
        "  Vertical_Distance_To_Hydrology\n",
        "'''"
      ],
      "execution_count": 0,
      "outputs": []
    },
    {
      "cell_type": "code",
      "metadata": {
        "id": "qWIlgsxRI4wV",
        "colab_type": "code",
        "colab": {}
      },
      "source": [
        "sql_script = sql_script.replace(\"@project\", PROJECT)\n",
        "sql_script = sql_script.replace(\"@dataset_name\", BQ_DATASET_NAME)\n",
        "sql_script = sql_script.replace(\"@table_name\", BQ_TABLE_NAME)\n",
        "sql_script = sql_script.replace(\"@view_name\", view_name)\n",
        "sql_script = sql_script.replace(\"@version\", VERSION_NAME)\n",
        "sql_script = sql_script.replace(\"@input_features\", input_features)\n",
        "sql_script = sql_script.replace(\"@json_features_extraction\", json_features_extraction)\n",
        "sql_script = sql_script.replace(\"@class_probability_pivoting\", class_probability_pivoting)\n",
        "#print(sql_script)"
      ],
      "execution_count": 0,
      "outputs": []
    },
    {
      "cell_type": "code",
      "metadata": {
        "id": "-ZwFA1OGUMPz",
        "colab_type": "code",
        "colab": {
          "base_uri": "https://localhost:8080/",
          "height": 34
        },
        "outputId": "a5a4988b-69d5-46dc-c7e0-9552ffd13c15"
      },
      "source": [
        "client.query(query = sql_script)\n",
        "print(\"View was created or replaced.\")"
      ],
      "execution_count": 95,
      "outputs": [
        {
          "output_type": "stream",
          "text": [
            "View was created or replaced.\n"
          ],
          "name": "stdout"
        }
      ]
    },
    {
      "cell_type": "markdown",
      "metadata": {
        "id": "E6qXk_QjUMHq",
        "colab_type": "text"
      },
      "source": [
        "### 6.2. Query the view"
      ]
    },
    {
      "cell_type": "code",
      "metadata": {
        "id": "u9WDwhQbU0qX",
        "colab_type": "code",
        "colab": {
          "base_uri": "https://localhost:8080/",
          "height": 762
        },
        "outputId": "ea7de3e9-9f16-4247-c602-3e432377adda"
      },
      "source": [
        "query = '''\n",
        "  SELECT * FROM \n",
        "  `{}.{}` \n",
        "  LIMIT {}\n",
        "'''.format(BQ_DATASET_NAME, view_name, 3)\n",
        "\n",
        "pd.io.gbq.read_gbq(\n",
        "    query, project_id=PROJECT).T"
      ],
      "execution_count": 105,
      "outputs": [
        {
          "output_type": "execute_result",
          "data": {
            "text/html": [
              "<div>\n",
              "<style scoped>\n",
              "    .dataframe tbody tr th:only-of-type {\n",
              "        vertical-align: middle;\n",
              "    }\n",
              "\n",
              "    .dataframe tbody tr th {\n",
              "        vertical-align: top;\n",
              "    }\n",
              "\n",
              "    .dataframe thead th {\n",
              "        text-align: right;\n",
              "    }\n",
              "</style>\n",
              "<table border=\"1\" class=\"dataframe\">\n",
              "  <thead>\n",
              "    <tr style=\"text-align: right;\">\n",
              "      <th></th>\n",
              "      <th>0</th>\n",
              "      <th>1</th>\n",
              "      <th>2</th>\n",
              "    </tr>\n",
              "  </thead>\n",
              "  <tbody>\n",
              "    <tr>\n",
              "      <th>model</th>\n",
              "      <td>covertype_classifier</td>\n",
              "      <td>covertype_classifier</td>\n",
              "      <td>covertype_classifier</td>\n",
              "    </tr>\n",
              "    <tr>\n",
              "      <th>model_version</th>\n",
              "      <td>v2</td>\n",
              "      <td>v2</td>\n",
              "      <td>v2</td>\n",
              "    </tr>\n",
              "    <tr>\n",
              "      <th>time</th>\n",
              "      <td>2020-04-08 06:57:43+00:00</td>\n",
              "      <td>2020-04-08 06:57:27+00:00</td>\n",
              "      <td>2020-04-07 16:03:20+00:00</td>\n",
              "    </tr>\n",
              "    <tr>\n",
              "      <th>request_timestamp</th>\n",
              "      <td>\"20200101\"</td>\n",
              "      <td>\"20200101\"</td>\n",
              "      <td>\"20200101\"</td>\n",
              "    </tr>\n",
              "    <tr>\n",
              "      <th>Soil_Type</th>\n",
              "      <td>\"7202\"</td>\n",
              "      <td>\"7202\"</td>\n",
              "      <td>\"7202\"</td>\n",
              "    </tr>\n",
              "    <tr>\n",
              "      <th>Wilderness_Area</th>\n",
              "      <td>\"Commanche\"</td>\n",
              "      <td>\"Commanche\"</td>\n",
              "      <td>\"Commanche\"</td>\n",
              "    </tr>\n",
              "    <tr>\n",
              "      <th>Aspect</th>\n",
              "      <td>61</td>\n",
              "      <td>61</td>\n",
              "      <td>61</td>\n",
              "    </tr>\n",
              "    <tr>\n",
              "      <th>Elevation</th>\n",
              "      <td>3091</td>\n",
              "      <td>3091</td>\n",
              "      <td>3091</td>\n",
              "    </tr>\n",
              "    <tr>\n",
              "      <th>Hillshade_3pm</th>\n",
              "      <td>129</td>\n",
              "      <td>129</td>\n",
              "      <td>129</td>\n",
              "    </tr>\n",
              "    <tr>\n",
              "      <th>Hillshade_9am</th>\n",
              "      <td>227</td>\n",
              "      <td>227</td>\n",
              "      <td>227</td>\n",
              "    </tr>\n",
              "    <tr>\n",
              "      <th>Hillshade_Noon</th>\n",
              "      <td>223</td>\n",
              "      <td>223</td>\n",
              "      <td>223</td>\n",
              "    </tr>\n",
              "    <tr>\n",
              "      <th>Horizontal_Distance_To_Fire_Points</th>\n",
              "      <td>2868</td>\n",
              "      <td>2868</td>\n",
              "      <td>2868</td>\n",
              "    </tr>\n",
              "    <tr>\n",
              "      <th>Horizontal_Distance_To_Hydrology</th>\n",
              "      <td>134</td>\n",
              "      <td>134</td>\n",
              "      <td>134</td>\n",
              "    </tr>\n",
              "    <tr>\n",
              "      <th>Horizontal_Distance_To_Roadways</th>\n",
              "      <td>0</td>\n",
              "      <td>0</td>\n",
              "      <td>0</td>\n",
              "    </tr>\n",
              "    <tr>\n",
              "      <th>Slope</th>\n",
              "      <td>8</td>\n",
              "      <td>8</td>\n",
              "      <td>8</td>\n",
              "    </tr>\n",
              "    <tr>\n",
              "      <th>Vertical_Distance_To_Hydrology</th>\n",
              "      <td>10</td>\n",
              "      <td>10</td>\n",
              "      <td>10</td>\n",
              "    </tr>\n",
              "    <tr>\n",
              "      <th>prob_0</th>\n",
              "      <td>0.31033429503440857</td>\n",
              "      <td>0.31033429503440857</td>\n",
              "      <td>0.31033429503440857</td>\n",
              "    </tr>\n",
              "    <tr>\n",
              "      <th>prob_1</th>\n",
              "      <td>0.6896360516548157</td>\n",
              "      <td>0.6896360516548157</td>\n",
              "      <td>0.6896360516548157</td>\n",
              "    </tr>\n",
              "    <tr>\n",
              "      <th>prob_2</th>\n",
              "      <td>1.1421931976618449e-11</td>\n",
              "      <td>1.1421931976618449e-11</td>\n",
              "      <td>1.1421931976618449e-11</td>\n",
              "    </tr>\n",
              "    <tr>\n",
              "      <th>prob_3</th>\n",
              "      <td>1.6456447315960077e-09</td>\n",
              "      <td>1.6456447315960077e-09</td>\n",
              "      <td>1.6456447315960077e-09</td>\n",
              "    </tr>\n",
              "    <tr>\n",
              "      <th>prob_4</th>\n",
              "      <td>2.9508630177588202e-05</td>\n",
              "      <td>2.9508630177588202e-05</td>\n",
              "      <td>2.9508630177588202e-05</td>\n",
              "    </tr>\n",
              "    <tr>\n",
              "      <th>prob_5</th>\n",
              "      <td>1.345885802805924e-08</td>\n",
              "      <td>1.345885802805924e-08</td>\n",
              "      <td>1.345885802805924e-08</td>\n",
              "    </tr>\n",
              "    <tr>\n",
              "      <th>prob_6</th>\n",
              "      <td>1.7852252653938194e-07</td>\n",
              "      <td>1.7852252653938194e-07</td>\n",
              "      <td>1.7852252653938194e-07</td>\n",
              "    </tr>\n",
              "  </tbody>\n",
              "</table>\n",
              "</div>"
            ],
            "text/plain": [
              "                                                            0  ...                          2\n",
              "model                               covertype_classifier       ...  covertype_classifier     \n",
              "model_version                       v2                         ...  v2                       \n",
              "time                                2020-04-08 06:57:43+00:00  ...  2020-04-07 16:03:20+00:00\n",
              "request_timestamp                   \"20200101\"                 ...  \"20200101\"               \n",
              "Soil_Type                           \"7202\"                     ...  \"7202\"                   \n",
              "Wilderness_Area                     \"Commanche\"                ...  \"Commanche\"              \n",
              "Aspect                              61                         ...  61                       \n",
              "Elevation                           3091                       ...  3091                     \n",
              "Hillshade_3pm                       129                        ...  129                      \n",
              "Hillshade_9am                       227                        ...  227                      \n",
              "Hillshade_Noon                      223                        ...  223                      \n",
              "Horizontal_Distance_To_Fire_Points  2868                       ...  2868                     \n",
              "Horizontal_Distance_To_Hydrology    134                        ...  134                      \n",
              "Horizontal_Distance_To_Roadways     0                          ...  0                        \n",
              "Slope                               8                          ...  8                        \n",
              "Vertical_Distance_To_Hydrology      10                         ...  10                       \n",
              "prob_0                              0.31033429503440857        ...  0.31033429503440857      \n",
              "prob_1                              0.6896360516548157         ...  0.6896360516548157       \n",
              "prob_2                              1.1421931976618449e-11     ...  1.1421931976618449e-11   \n",
              "prob_3                              1.6456447315960077e-09     ...  1.6456447315960077e-09   \n",
              "prob_4                              2.9508630177588202e-05     ...  2.9508630177588202e-05   \n",
              "prob_5                              1.345885802805924e-08      ...  1.345885802805924e-08    \n",
              "prob_6                              1.7852252653938194e-07     ...  1.7852252653938194e-07   \n",
              "\n",
              "[23 rows x 3 columns]"
            ]
          },
          "metadata": {
            "tags": []
          },
          "execution_count": 105
        }
      ]
    },
    {
      "cell_type": "code",
      "metadata": {
        "id": "PkanQP8yVYaL",
        "colab_type": "code",
        "colab": {}
      },
      "source": [
        ""
      ],
      "execution_count": 0,
      "outputs": []
    }
  ]
}