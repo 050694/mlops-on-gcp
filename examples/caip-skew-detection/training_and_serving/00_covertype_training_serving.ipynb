{
  "nbformat": 4,
  "nbformat_minor": 0,
  "metadata": {
    "colab": {
      "name": "00-covertype-training-serving-v2.ipynb",
      "provenance": [],
      "collapsed_sections": [
        "HmWQwyAUdwIW",
        "ieIgLE94PovQ"
      ],
      "toc_visible": true
    },
    "kernelspec": {
      "name": "python3",
      "display_name": "Python 3"
    }
  },
  "cells": [
    {
      "cell_type": "markdown",
      "metadata": {
        "id": "6YSXq_Y36c_g",
        "colab_type": "text"
      },
      "source": [
        "# Training and Serving a TensorFlow Model to AI Platform Prediction\n",
        "\n",
        "This notebooks trains a TensorFlow classification model locally, using the Keras API, and deploys the model to AI Platform for online prediction. The AI Platform model service is also configered to enable request-response logging to BigQuery.\n",
        "\n",
        "Note that the aim is to build and deploy a **minimal model** to showcase the AI Platform **logging capabilities**, which enable **skew detection** on the serving data and the produced predictions.\n",
        "\n",
        "The notebook covers the following steps:\n",
        "\n",
        "1. Prepare the data and generate metadata \n",
        "2. Train and evaluate, a TensorFlow classification model using Keras API\n",
        "3. Export the trained model as a SavedModel for serving\n",
        "4. Deploy the trained model to AI Platform Prediction \n",
        "5. Enabled request-response logging to BigQuery\n",
        "6. Parse and query logs from BigQuery\n",
        "\n",
        "\n",
        "This example uses **TensorFlow 2.x**"
      ]
    },
    {
      "cell_type": "markdown",
      "metadata": {
        "id": "SthW6Y1F85SH",
        "colab_type": "text"
      },
      "source": [
        "### Setup"
      ]
    },
    {
      "cell_type": "code",
      "metadata": {
        "id": "kWzmq-55CZfV",
        "colab_type": "code",
        "outputId": "52157fcb-b66b-4bd3-8d1f-e8f4b020d4ad",
        "colab": {
          "base_uri": "https://localhost:8080/",
          "height": 34
        }
      },
      "source": [
        "try:\n",
        "  from google.colab import auth\n",
        "  auth.authenticate_user()\n",
        "  print(\"Colab user is authenticated.\")\n",
        "except: pass"
      ],
      "execution_count": 1,
      "outputs": [
        {
          "output_type": "stream",
          "text": [
            "Colab user is authenticated.\n"
          ],
          "name": "stdout"
        }
      ]
    },
    {
      "cell_type": "code",
      "metadata": {
        "id": "sm5FTgF69bll",
        "colab_type": "code",
        "colab": {}
      },
      "source": [
        "!pip install -q -U tensorflow==2.1\n",
        "!pip install -U -q google-api-python-client\n",
        "!pip install -U -q pandas"
      ],
      "execution_count": 0,
      "outputs": []
    },
    {
      "cell_type": "code",
      "metadata": {
        "id": "t4pR1SEo6Tra",
        "colab_type": "code",
        "outputId": "8c8784bf-17a3-4ecb-9213-b0f2099355c2",
        "colab": {
          "base_uri": "https://localhost:8080/",
          "height": 34
        }
      },
      "source": [
        "import os\n",
        "import tensorflow as tf\n",
        "\n",
        "print(\"TF version: {}\".format(tf.__version__))"
      ],
      "execution_count": 2,
      "outputs": [
        {
          "output_type": "stream",
          "text": [
            "TF version: 2.1.0\n"
          ],
          "name": "stdout"
        }
      ]
    },
    {
      "cell_type": "markdown",
      "metadata": {
        "id": "BCHY6HdE-wmw",
        "colab_type": "text"
      },
      "source": [
        "**Set the following variables to match your GCP environment**:"
      ]
    },
    {
      "cell_type": "code",
      "metadata": {
        "id": "VVhekpMo9WqV",
        "colab_type": "code",
        "colab": {}
      },
      "source": [
        "PROJECT = 'sa-data-validation'\n",
        "BUCKET =  'sa-data-validation'\n",
        "GCS_DATA_LOCATION = 'gs://workshop-datasets/covertype/data_validation'\n",
        "REGION = 'us-central1'\n",
        "BUCKET = 'sa-data-validation'\n",
        "LOCAL_WORKSPACE = './workspace'\n",
        "LOCAL_DATA_DIR = os.path.join(LOCAL_WORKSPACE, 'data')\n",
        "BQ_DATASET_NAME = 'data_validation'\n",
        "BQ_TABLE_NAME = 'covertype_classifier_logs'\n",
        "MODEL_NAME = 'covertype_classifier'\n",
        "VERSION_NAME = 'v2'\n",
        "TRAINING_DIR = os.path.join(LOCAL_WORKSPACE, 'training')\n",
        "MODEL_DIR = os.path.join(TRAINING_DIR, 'exported_model')"
      ],
      "execution_count": 0,
      "outputs": []
    },
    {
      "cell_type": "code",
      "metadata": {
        "id": "32Ps4vjYfaXW",
        "colab_type": "code",
        "outputId": "738edde5-57b3-442f-d6cb-ebe14e137b57",
        "colab": {
          "base_uri": "https://localhost:8080/",
          "height": 34
        }
      },
      "source": [
        "!gcloud config set project {PROJECT}"
      ],
      "execution_count": 4,
      "outputs": [
        {
          "output_type": "stream",
          "text": [
            "Updated property [core/project].\n"
          ],
          "name": "stdout"
        }
      ]
    },
    {
      "cell_type": "markdown",
      "metadata": {
        "id": "xmYHPLFgEA92",
        "colab_type": "text"
      },
      "source": [
        "Create a local workspace"
      ]
    },
    {
      "cell_type": "code",
      "metadata": {
        "id": "0XXOcV8BD_w9",
        "colab_type": "code",
        "outputId": "67e99d94-7a6e-4802-98ec-e44fdea84961",
        "colab": {
          "base_uri": "https://localhost:8080/",
          "height": 51
        }
      },
      "source": [
        "if tf.io.gfile.exists(LOCAL_WORKSPACE):\n",
        "  print(\"Removing previous workspace artifacts...\")\n",
        "  tf.io.gfile.rmtree(LOCAL_WORKSPACE)\n",
        "\n",
        "print(\"Creating a new workspace...\")\n",
        "tf.io.gfile.makedirs(LOCAL_WORKSPACE)\n",
        "tf.io.gfile.makedirs(LOCAL_DATA_DIR)"
      ],
      "execution_count": 5,
      "outputs": [
        {
          "output_type": "stream",
          "text": [
            "Removing previous workspace artifacts...\n",
            "Creating a new workspace...\n"
          ],
          "name": "stdout"
        }
      ]
    },
    {
      "cell_type": "markdown",
      "metadata": {
        "id": "LLUHs-gh_FnY",
        "colab_type": "text"
      },
      "source": [
        "## 1. Dataset preparation and schema generation\n",
        "\n",
        "We use the [covertype](https://archive.ics.uci.edu/ml/datasets/covertype) from UCI Machine Learning Repository. The task is to Predict forest cover type from cartographic variables only. \n",
        "\n",
        "The dataset is preprocessed, split, and uploaded to uploaded to the `gs://workshop-datasets/covertype` public GCS location. \n",
        "\n",
        "We use this version of the preprocessed dataset in this notebook. For more information, see [Cover Type Dataset](https://github.com/GoogleCloudPlatform/mlops-on-gcp/tree/master/datasets/covertype)"
      ]
    },
    {
      "cell_type": "markdown",
      "metadata": {
        "id": "qDH43VPLCCsS",
        "colab_type": "text"
      },
      "source": [
        "### 1.1. Download the data"
      ]
    },
    {
      "cell_type": "code",
      "metadata": {
        "id": "VK3t6GswFJaa",
        "colab_type": "code",
        "colab": {}
      },
      "source": [
        "LOCAL_TRAIN_DATA = os.path.join(LOCAL_DATA_DIR, 'train.csv') \n",
        "LOCAL_EVAL_DATA = os.path.join(LOCAL_DATA_DIR, 'eval.csv') "
      ],
      "execution_count": 0,
      "outputs": []
    },
    {
      "cell_type": "code",
      "metadata": {
        "id": "pIjykELMB-Zx",
        "colab_type": "code",
        "outputId": "eb7e2a04-3dca-4444-f6cd-f4fa7998f5d4",
        "colab": {
          "base_uri": "https://localhost:8080/",
          "height": 136
        }
      },
      "source": [
        "!gsutil cp gs://workshop-datasets/covertype/data_validation/training/dataset.csv {LOCAL_TRAIN_DATA}\n",
        "!gsutil cp gs://workshop-datasets/covertype/data_validation/evaluation/dataset.csv {LOCAL_EVAL_DATA}\n",
        "!wc -l {LOCAL_TRAIN_DATA}"
      ],
      "execution_count": 7,
      "outputs": [
        {
          "output_type": "stream",
          "text": [
            "Copying gs://workshop-datasets/covertype/data_validation/training/dataset.csv...\n",
            "/ [1 files][ 22.2 MiB/ 22.2 MiB]                                                \n",
            "Operation completed over 1 objects/22.2 MiB.                                     \n",
            "Copying gs://workshop-datasets/covertype/data_validation/evaluation/dataset.csv...\n",
            "/ [1 files][  3.9 MiB/  3.9 MiB]                                                \n",
            "Operation completed over 1 objects/3.9 MiB.                                      \n",
            "431010 ./workspace/data/train.csv\n"
          ],
          "name": "stdout"
        }
      ]
    },
    {
      "cell_type": "code",
      "metadata": {
        "id": "MV0j0nAezO_R",
        "colab_type": "code",
        "outputId": "25f9d27a-33e9-4d9f-b719-e944efb4a7f4",
        "colab": {
          "base_uri": "https://localhost:8080/",
          "height": 452
        }
      },
      "source": [
        "import pandas as pd\n",
        "sample = pd.read_csv(LOCAL_TRAIN_DATA).head()\n",
        "sample.T"
      ],
      "execution_count": 6,
      "outputs": [
        {
          "output_type": "execute_result",
          "data": {
            "text/html": [
              "<div>\n",
              "<style scoped>\n",
              "    .dataframe tbody tr th:only-of-type {\n",
              "        vertical-align: middle;\n",
              "    }\n",
              "\n",
              "    .dataframe tbody tr th {\n",
              "        vertical-align: top;\n",
              "    }\n",
              "\n",
              "    .dataframe thead th {\n",
              "        text-align: right;\n",
              "    }\n",
              "</style>\n",
              "<table border=\"1\" class=\"dataframe\">\n",
              "  <thead>\n",
              "    <tr style=\"text-align: right;\">\n",
              "      <th></th>\n",
              "      <th>0</th>\n",
              "      <th>1</th>\n",
              "      <th>2</th>\n",
              "      <th>3</th>\n",
              "      <th>4</th>\n",
              "    </tr>\n",
              "  </thead>\n",
              "  <tbody>\n",
              "    <tr>\n",
              "      <th>Elevation</th>\n",
              "      <td>3034</td>\n",
              "      <td>2827</td>\n",
              "      <td>2854</td>\n",
              "      <td>3188</td>\n",
              "      <td>3091</td>\n",
              "    </tr>\n",
              "    <tr>\n",
              "      <th>Aspect</th>\n",
              "      <td>235</td>\n",
              "      <td>26</td>\n",
              "      <td>27</td>\n",
              "      <td>156</td>\n",
              "      <td>61</td>\n",
              "    </tr>\n",
              "    <tr>\n",
              "      <th>Slope</th>\n",
              "      <td>13</td>\n",
              "      <td>16</td>\n",
              "      <td>12</td>\n",
              "      <td>13</td>\n",
              "      <td>8</td>\n",
              "    </tr>\n",
              "    <tr>\n",
              "      <th>Horizontal_Distance_To_Hydrology</th>\n",
              "      <td>655</td>\n",
              "      <td>85</td>\n",
              "      <td>484</td>\n",
              "      <td>175</td>\n",
              "      <td>134</td>\n",
              "    </tr>\n",
              "    <tr>\n",
              "      <th>Vertical_Distance_To_Hydrology</th>\n",
              "      <td>134</td>\n",
              "      <td>13</td>\n",
              "      <td>22</td>\n",
              "      <td>28</td>\n",
              "      <td>10</td>\n",
              "    </tr>\n",
              "    <tr>\n",
              "      <th>Horizontal_Distance_To_Roadways</th>\n",
              "      <td>5799</td>\n",
              "      <td>3511</td>\n",
              "      <td>618</td>\n",
              "      <td>3666</td>\n",
              "      <td>1390</td>\n",
              "    </tr>\n",
              "    <tr>\n",
              "      <th>Hillshade_9am</th>\n",
              "      <td>197</td>\n",
              "      <td>211</td>\n",
              "      <td>215</td>\n",
              "      <td>235</td>\n",
              "      <td>227</td>\n",
              "    </tr>\n",
              "    <tr>\n",
              "      <th>Hillshade_Noon</th>\n",
              "      <td>251</td>\n",
              "      <td>204</td>\n",
              "      <td>214</td>\n",
              "      <td>241</td>\n",
              "      <td>223</td>\n",
              "    </tr>\n",
              "    <tr>\n",
              "      <th>Hillshade_3pm</th>\n",
              "      <td>190</td>\n",
              "      <td>125</td>\n",
              "      <td>134</td>\n",
              "      <td>134</td>\n",
              "      <td>129</td>\n",
              "    </tr>\n",
              "    <tr>\n",
              "      <th>Horizontal_Distance_To_Fire_Points</th>\n",
              "      <td>4094</td>\n",
              "      <td>6008</td>\n",
              "      <td>1295</td>\n",
              "      <td>1719</td>\n",
              "      <td>2868</td>\n",
              "    </tr>\n",
              "    <tr>\n",
              "      <th>Wilderness_Area</th>\n",
              "      <td>Rawah</td>\n",
              "      <td>Rawah</td>\n",
              "      <td>Commanche</td>\n",
              "      <td>Commanche</td>\n",
              "      <td>Commanche</td>\n",
              "    </tr>\n",
              "    <tr>\n",
              "      <th>Soil_Type</th>\n",
              "      <td>7745</td>\n",
              "      <td>7745</td>\n",
              "      <td>4704</td>\n",
              "      <td>7756</td>\n",
              "      <td>7202</td>\n",
              "    </tr>\n",
              "    <tr>\n",
              "      <th>Cover_Type</th>\n",
              "      <td>1</td>\n",
              "      <td>1</td>\n",
              "      <td>1</td>\n",
              "      <td>1</td>\n",
              "      <td>0</td>\n",
              "    </tr>\n",
              "  </tbody>\n",
              "</table>\n",
              "</div>"
            ],
            "text/plain": [
              "                                        0      1  ...          3          4\n",
              "Elevation                            3034   2827  ...       3188       3091\n",
              "Aspect                                235     26  ...        156         61\n",
              "Slope                                  13     16  ...         13          8\n",
              "Horizontal_Distance_To_Hydrology      655     85  ...        175        134\n",
              "Vertical_Distance_To_Hydrology        134     13  ...         28         10\n",
              "Horizontal_Distance_To_Roadways      5799   3511  ...       3666       1390\n",
              "Hillshade_9am                         197    211  ...        235        227\n",
              "Hillshade_Noon                        251    204  ...        241        223\n",
              "Hillshade_3pm                         190    125  ...        134        129\n",
              "Horizontal_Distance_To_Fire_Points   4094   6008  ...       1719       2868\n",
              "Wilderness_Area                     Rawah  Rawah  ...  Commanche  Commanche\n",
              "Soil_Type                            7745   7745  ...       7756       7202\n",
              "Cover_Type                              1      1  ...          1          0\n",
              "\n",
              "[13 rows x 5 columns]"
            ]
          },
          "metadata": {
            "tags": []
          },
          "execution_count": 6
        }
      ]
    },
    {
      "cell_type": "markdown",
      "metadata": {
        "id": "JUjRurNblnaw",
        "colab_type": "text"
      },
      "source": [
        "### 1.2 Define metadata"
      ]
    },
    {
      "cell_type": "code",
      "metadata": {
        "id": "72rDTLhcUxj_",
        "colab_type": "code",
        "colab": {}
      },
      "source": [
        "HEADER = ['Elevation', 'Aspect', 'Slope','Horizontal_Distance_To_Hydrology',\n",
        "          'Vertical_Distance_To_Hydrology', 'Horizontal_Distance_To_Roadways',\n",
        "          'Hillshade_9am', 'Hillshade_Noon', 'Hillshade_3pm',\n",
        "          'Horizontal_Distance_To_Fire_Points', 'Wilderness_Area', 'Soil_Type',\n",
        "          'Cover_Type']\n",
        "\n",
        "TARGET_FEATURE_NAME = 'Cover_Type'\n",
        "\n",
        "FEATURE_LABELS = ['0', '1', '2', '3', '4', '5', '6']\n",
        "\n",
        "NUMERIC_FEATURE_NAMES = ['Aspect', 'Elevation', 'Hillshade_3pm', \n",
        "                         'Hillshade_9am', 'Hillshade_Noon', \n",
        "                         'Horizontal_Distance_To_Fire_Points',\n",
        "                         'Horizontal_Distance_To_Hydrology',\n",
        "                         'Horizontal_Distance_To_Roadways','Slope',\n",
        "                         'Vertical_Distance_To_Hydrology']\n",
        "\n",
        "CATEGORICAL_FEATURES_WITH_VOCABULARY = {\n",
        "    'Soil_Type': ['2702', '2703', '2704', '2705', '2706', '2717', '3501', '3502', \n",
        "                  '4201', '4703', '4704', '4744', '4758', '5101', '6101', '6102', \n",
        "                  '6731', '7101', '7102', '7103', '7201', '7202', '7700', '7701', \n",
        "                  '7702', '7709', '7710', '7745', '7746', '7755', '7756', '7757', \n",
        "                  '7790', '8703', '8707', '8708', '8771', '8772', '8776'], \n",
        "    'Wilderness_Area': ['Cache', 'Commanche', 'Neota', 'Rawah']\n",
        "}\n",
        "\n",
        "FEATURE_NAMES = list(CATEGORICAL_FEATURES_WITH_VOCABULARY.keys()) + NUMERIC_FEATURE_NAMES\n",
        "\n",
        "HEADER_DEFAULTS = [[0] if feature_name in NUMERIC_FEATURE_NAMES + [TARGET_FEATURE_NAME] else ['NA'] \n",
        "                   for feature_name in HEADER]\n",
        "\n",
        "NUM_CLASSES = len(FEATURE_LABELS)"
      ],
      "execution_count": 0,
      "outputs": []
    },
    {
      "cell_type": "markdown",
      "metadata": {
        "id": "20wwieKoJvL1",
        "colab_type": "text"
      },
      "source": [
        "## 2. Model training and evaluation"
      ]
    },
    {
      "cell_type": "markdown",
      "metadata": {
        "id": "6e3lk9FsJ_yO",
        "colab_type": "text"
      },
      "source": [
        "### 2.1. Implement data input pipeline"
      ]
    },
    {
      "cell_type": "code",
      "metadata": {
        "id": "PTX-t2HjJ_BP",
        "colab_type": "code",
        "colab": {}
      },
      "source": [
        "RANDOM_SEED = 19830610\n",
        "import multiprocessing\n",
        "\n",
        "def create_dataset(file_pattern, \n",
        "                  batch_size=128, num_epochs=1, shuffle=False):\n",
        "  \n",
        "    dataset = tf.data.experimental.make_csv_dataset(\n",
        "        file_pattern=file_pattern,\n",
        "        batch_size=batch_size,\n",
        "        column_names=HEADER,\n",
        "        column_defaults=HEADER_DEFAULTS,\n",
        "        label_name=TARGET_FEATURE_NAME,\n",
        "        field_delim=',',\n",
        "        header=True,\n",
        "        num_epochs=num_epochs,\n",
        "        shuffle=shuffle,\n",
        "        shuffle_buffer_size=(5 * batch_size),\n",
        "        shuffle_seed=RANDOM_SEED,\n",
        "        num_parallel_reads=multiprocessing.cpu_count(),\n",
        "        sloppy=True,\n",
        "    )\n",
        "    return dataset.cache()"
      ],
      "execution_count": 0,
      "outputs": []
    },
    {
      "cell_type": "code",
      "metadata": {
        "id": "sGcaJmcG3paA",
        "colab_type": "code",
        "outputId": "bae2e3f4-4f6e-4eea-ed84-2a37d5d0e898",
        "colab": {
          "base_uri": "https://localhost:8080/",
          "height": 595
        }
      },
      "source": [
        "index = 1\n",
        "for batch in create_dataset(LOCAL_TRAIN_DATA, batch_size=5, shuffle=False).take(2):\n",
        "  print(\"Batch: {}\".format(index))\n",
        "  print(\"========================\")\n",
        "  record, target = batch\n",
        "  print(\"Input features:\")\n",
        "  for key in record:\n",
        "    print(\" - {}:{}\".format(key, record[key].numpy()))\n",
        "  print(\"Target: {}\".format(target))\n",
        "  index += 1\n",
        "  print()"
      ],
      "execution_count": 9,
      "outputs": [
        {
          "output_type": "stream",
          "text": [
            "Batch: 1\n",
            "========================\n",
            "Input features:\n",
            " - Elevation:[3034 2827 2854 3188 3091]\n",
            " - Aspect:[235  26  27 156  61]\n",
            " - Slope:[13 16 12 13  8]\n",
            " - Horizontal_Distance_To_Hydrology:[655  85 484 175 134]\n",
            " - Vertical_Distance_To_Hydrology:[134  13  22  28  10]\n",
            " - Horizontal_Distance_To_Roadways:[5799 3511  618 3666 1390]\n",
            " - Hillshade_9am:[197 211 215 235 227]\n",
            " - Hillshade_Noon:[251 204 214 241 223]\n",
            " - Hillshade_3pm:[190 125 134 134 129]\n",
            " - Horizontal_Distance_To_Fire_Points:[4094 6008 1295 1719 2868]\n",
            " - Wilderness_Area:[b'Rawah' b'Rawah' b'Commanche' b'Commanche' b'Commanche']\n",
            " - Soil_Type:[b'7745' b'7745' b'4704' b'7756' b'7202']\n",
            "Target: [1 1 1 1 0]\n",
            "\n",
            "Batch: 2\n",
            "========================\n",
            "Input features:\n",
            " - Elevation:[2993 3276 2864 3183 2587]\n",
            " - Aspect:[ 35 343 319 138  80]\n",
            " - Slope:[ 8 11 29 23  5]\n",
            " - Horizontal_Distance_To_Hydrology:[636 849 228 268 234]\n",
            " - Vertical_Distance_To_Hydrology:[ 90 -14  98  85  28]\n",
            " - Horizontal_Distance_To_Roadways:[3355 1776  577 3872 1350]\n",
            " - Hillshade_9am:[219 199 134 248 227]\n",
            " - Hillshade_Noon:[224 224 200 225 230]\n",
            " - Hillshade_3pm:[140 164 200  93 137]\n",
            " - Horizontal_Distance_To_Fire_Points:[1284 2673 1082 2866 4837]\n",
            " - Wilderness_Area:[b'Rawah' b'Neota' b'Commanche' b'Commanche' b'Rawah']\n",
            " - Soil_Type:[b'4744' b'7202' b'7757' b'7757' b'6731']\n",
            "Target: [1 1 0 0 1]\n",
            "\n"
          ],
          "name": "stdout"
        }
      ]
    },
    {
      "cell_type": "markdown",
      "metadata": {
        "id": "8s8a7bMGKLWu",
        "colab_type": "text"
      },
      "source": [
        "### 2.2. Create feature columns"
      ]
    },
    {
      "cell_type": "code",
      "metadata": {
        "id": "C8pZSfQPHMrK",
        "colab_type": "code",
        "colab": {}
      },
      "source": [
        "import math\n",
        "\n",
        "def create_feature_columns():\n",
        "  feature_columns = []\n",
        "  \n",
        "  for feature_name in FEATURE_NAMES:\n",
        "    # Categorical features\n",
        "    if feature_name in CATEGORICAL_FEATURES_WITH_VOCABULARY:\n",
        "      \n",
        "      vocabulary = CATEGORICAL_FEATURES_WITH_VOCABULARY[feature_name]\n",
        "      vocab_size = len(vocabulary)\n",
        "      \n",
        "      # Create embedding column for categotical feature column with vocabulary\n",
        "      embedding_feature_column = tf.feature_column.embedding_column(\n",
        "          categorical_column = tf.feature_column.categorical_column_with_vocabulary_list(\n",
        "              key=feature_name,\n",
        "              vocabulary_list=vocabulary), dimension=int(math.sqrt(vocab_size) + 1))\n",
        "            \n",
        "      feature_columns.append(embedding_feature_column)\n",
        "\n",
        "    # Numeric features\n",
        "    else:\n",
        "      numeric_column = tf.feature_column.numeric_column(feature_name)\n",
        "      feature_columns.append(numeric_column)\n",
        "\n",
        "  return feature_columns\n"
      ],
      "execution_count": 0,
      "outputs": []
    },
    {
      "cell_type": "code",
      "metadata": {
        "id": "N8XDvPsq8-mX",
        "colab_type": "code",
        "outputId": "5474d16f-2fab-4309-e3ee-16f4c34aedd1",
        "colab": {
          "base_uri": "https://localhost:8080/",
          "height": 241
        }
      },
      "source": [
        "feature_columns = create_feature_columns()\n",
        "\n",
        "for column in feature_columns:\n",
        "  print(column)"
      ],
      "execution_count": 11,
      "outputs": [
        {
          "output_type": "stream",
          "text": [
            "EmbeddingColumn(categorical_column=VocabularyListCategoricalColumn(key='Soil_Type', vocabulary_list=('2702', '2703', '2704', '2705', '2706', '2717', '3501', '3502', '4201', '4703', '4704', '4744', '4758', '5101', '6101', '6102', '6731', '7101', '7102', '7103', '7201', '7202', '7700', '7701', '7702', '7709', '7710', '7745', '7746', '7755', '7756', '7757', '7790', '8703', '8707', '8708', '8771', '8772', '8776'), dtype=tf.string, default_value=-1, num_oov_buckets=0), dimension=7, combiner='mean', initializer=<tensorflow.python.ops.init_ops.TruncatedNormal object at 0x7fb389df9208>, ckpt_to_load_from=None, tensor_name_in_ckpt=None, max_norm=None, trainable=True)\n",
            "EmbeddingColumn(categorical_column=VocabularyListCategoricalColumn(key='Wilderness_Area', vocabulary_list=('Cache', 'Commanche', 'Neota', 'Rawah'), dtype=tf.string, default_value=-1, num_oov_buckets=0), dimension=3, combiner='mean', initializer=<tensorflow.python.ops.init_ops.TruncatedNormal object at 0x7fb389df91d0>, ckpt_to_load_from=None, tensor_name_in_ckpt=None, max_norm=None, trainable=True)\n",
            "NumericColumn(key='Aspect', shape=(1,), default_value=None, dtype=tf.float32, normalizer_fn=None)\n",
            "NumericColumn(key='Elevation', shape=(1,), default_value=None, dtype=tf.float32, normalizer_fn=None)\n",
            "NumericColumn(key='Hillshade_3pm', shape=(1,), default_value=None, dtype=tf.float32, normalizer_fn=None)\n",
            "NumericColumn(key='Hillshade_9am', shape=(1,), default_value=None, dtype=tf.float32, normalizer_fn=None)\n",
            "NumericColumn(key='Hillshade_Noon', shape=(1,), default_value=None, dtype=tf.float32, normalizer_fn=None)\n",
            "NumericColumn(key='Horizontal_Distance_To_Fire_Points', shape=(1,), default_value=None, dtype=tf.float32, normalizer_fn=None)\n",
            "NumericColumn(key='Horizontal_Distance_To_Hydrology', shape=(1,), default_value=None, dtype=tf.float32, normalizer_fn=None)\n",
            "NumericColumn(key='Horizontal_Distance_To_Roadways', shape=(1,), default_value=None, dtype=tf.float32, normalizer_fn=None)\n",
            "NumericColumn(key='Slope', shape=(1,), default_value=None, dtype=tf.float32, normalizer_fn=None)\n",
            "NumericColumn(key='Vertical_Distance_To_Hydrology', shape=(1,), default_value=None, dtype=tf.float32, normalizer_fn=None)\n"
          ],
          "name": "stdout"
        }
      ]
    },
    {
      "cell_type": "markdown",
      "metadata": {
        "id": "F0pAN0jkKNmm",
        "colab_type": "text"
      },
      "source": [
        "### 2.3. Create and compile the model\n",
        "\n"
      ]
    },
    {
      "cell_type": "code",
      "metadata": {
        "id": "E98fiPtQKTp2",
        "colab_type": "code",
        "colab": {}
      },
      "source": [
        "def create_model(params):\n",
        "\n",
        "  feature_columns = create_feature_columns()\n",
        "  \n",
        "  layers = []\n",
        "  layers.append(tf.keras.layers.DenseFeatures(feature_columns))\n",
        "  for units in params.hidden_units:\n",
        "    layers.append(tf.keras.layers.Dense(units=units, activation='relu'))\n",
        "    layers.append(tf.keras.layers.BatchNormalization())\n",
        "    layers.append(tf.keras.layers.Dropout(rate=params.dropout))\n",
        "  \n",
        "  layers.append(tf.keras.layers.Dense(units=NUM_CLASSES, activation='softmax', name='output'))\n",
        "  \n",
        "  model = tf.keras.Sequential(layers=layers, name='classifier')\n",
        "    \n",
        "  adam_optimzer = tf.keras.optimizers.Adam(learning_rate=params.learning_rate)\n",
        "\n",
        "  model.compile(\n",
        "        optimizer=adam_optimzer, \n",
        "        loss=tf.keras.losses.SparseCategoricalCrossentropy(from_logits=False), \n",
        "        metrics=[tf.keras.metrics.SparseCategoricalAccuracy()], \n",
        "        loss_weights=None,\n",
        "        sample_weight_mode=None, \n",
        "        weighted_metrics=None, \n",
        "    )\n",
        "\n",
        "  return model  "
      ],
      "execution_count": 0,
      "outputs": []
    },
    {
      "cell_type": "markdown",
      "metadata": {
        "id": "MjzFWQnSJFse",
        "colab_type": "text"
      },
      "source": [
        "### 2.4. Train and evaluate experiment"
      ]
    },
    {
      "cell_type": "markdown",
      "metadata": {
        "id": "H9_yXPvF2Hkd",
        "colab_type": "text"
      },
      "source": [
        "#### Experiment"
      ]
    },
    {
      "cell_type": "code",
      "metadata": {
        "id": "F9iW5NumKWWb",
        "colab_type": "code",
        "colab": {}
      },
      "source": [
        "def run_experiment(model, params):\n",
        "\n",
        "  # TensorBoard callback\n",
        "  LOG_DIR = os.path.join(TRAINING_DIR, 'logs')\n",
        "  tensorboard_callback = tf.keras.callbacks.TensorBoard(log_dir=LOG_DIR)\n",
        "\n",
        "  # Early stopping callback\n",
        "  earlystopping_callback = tf.keras.callbacks.EarlyStopping(\n",
        "      monitor='val_sparse_categorical_accuracy', \n",
        "      patience=3, \n",
        "      restore_best_weights=True\n",
        "  )\n",
        "\n",
        "  callbacks = [\n",
        "        tensorboard_callback,\n",
        "        earlystopping_callback]\n",
        "\n",
        "  # train dataset\n",
        "  train_dataset = create_dataset(\n",
        "      LOCAL_TRAIN_DATA,\n",
        "      batch_size=params.batch_size,\n",
        "      shuffle=True)\n",
        "    \n",
        "  # eval dataset\n",
        "  eval_dataset = create_dataset(\n",
        "      LOCAL_EVAL_DATA,\n",
        "      batch_size=params.batch_size)\n",
        "    \n",
        "  # Prep training directory\n",
        "  if tf.io.gfile.exists(TRAINING_DIR):\n",
        "    print(\"Removing previous training artefacts...\")\n",
        "    tf.io.gfile.rmtree(TRAINING_DIR)\n",
        "\n",
        "  print(\"Creating training directory...\")\n",
        "  tf.io.gfile.mkdir(TRAINING_DIR)\n",
        "\n",
        "  print(\"Experiment started...\")\n",
        "  print(\".......................................\")\n",
        "  \n",
        "  # Run train and evaluate.\n",
        "  history = model.fit(\n",
        "    x=train_dataset, \n",
        "    epochs=params.epochs, \n",
        "    callbacks=callbacks,\n",
        "    validation_data=eval_dataset,\n",
        "  )\n",
        "\n",
        "  print(\".......................................\")\n",
        "  print(\"Experiment finished.\")\n",
        "  print(\"\")\n",
        "\n",
        "  return history\n"
      ],
      "execution_count": 0,
      "outputs": []
    },
    {
      "cell_type": "markdown",
      "metadata": {
        "id": "PhYvbrrqJKmn",
        "colab_type": "text"
      },
      "source": [
        "#### Hyper parameters"
      ]
    },
    {
      "cell_type": "code",
      "metadata": {
        "id": "zBCwS_usHvqy",
        "colab_type": "code",
        "colab": {}
      },
      "source": [
        "class Parameters():\n",
        "    pass\n",
        "\n",
        "TRAIN_DATA_SIZE = 431010\n",
        "\n",
        "params = Parameters()\n",
        "params.learning_rate = 0.01\n",
        "params.hidden_units = [128, 128]\n",
        "params.dropout = 0.15\n",
        "params.batch_size =  265\n",
        "params.steps_per_epoch = int(math.ceil(TRAIN_DATA_SIZE / params.batch_size))\n",
        "params.epochs = 10"
      ],
      "execution_count": 0,
      "outputs": []
    },
    {
      "cell_type": "markdown",
      "metadata": {
        "id": "Sf7FGOscJZ2P",
        "colab_type": "text"
      },
      "source": [
        "#### Run experiment"
      ]
    },
    {
      "cell_type": "code",
      "metadata": {
        "id": "Ew99zH72JRjp",
        "colab_type": "code",
        "outputId": "3e06f98d-163d-495e-b688-b5a0d997dc29",
        "colab": {
          "base_uri": "https://localhost:8080/",
          "height": 425
        }
      },
      "source": [
        "model = create_model(params)\n",
        "example_batch, _ = list(\n",
        "    create_dataset(LOCAL_TRAIN_DATA, batch_size=2, shuffle=True).take(1))[0]\n",
        "model(example_batch)\n",
        "model.summary()"
      ],
      "execution_count": 15,
      "outputs": [
        {
          "output_type": "stream",
          "text": [
            "Model: \"classifier\"\n",
            "_________________________________________________________________\n",
            "Layer (type)                 Output Shape              Param #   \n",
            "=================================================================\n",
            "dense_features (DenseFeature multiple                  285       \n",
            "_________________________________________________________________\n",
            "dense (Dense)                multiple                  2688      \n",
            "_________________________________________________________________\n",
            "batch_normalization (BatchNo multiple                  512       \n",
            "_________________________________________________________________\n",
            "dropout (Dropout)            multiple                  0         \n",
            "_________________________________________________________________\n",
            "dense_1 (Dense)              multiple                  16512     \n",
            "_________________________________________________________________\n",
            "batch_normalization_1 (Batch multiple                  512       \n",
            "_________________________________________________________________\n",
            "dropout_1 (Dropout)          multiple                  0         \n",
            "_________________________________________________________________\n",
            "output (Dense)               multiple                  903       \n",
            "=================================================================\n",
            "Total params: 21,412\n",
            "Trainable params: 20,900\n",
            "Non-trainable params: 512\n",
            "_________________________________________________________________\n"
          ],
          "name": "stdout"
        }
      ]
    },
    {
      "cell_type": "code",
      "metadata": {
        "id": "E0DjaL7eI8Ro",
        "colab_type": "code",
        "outputId": "39292f26-df38-4088-a604-14dc862a50df",
        "colab": {
          "base_uri": "https://localhost:8080/",
          "height": 496
        }
      },
      "source": [
        "import logging\n",
        "logger = tf.get_logger()\n",
        "logger.setLevel(logging.ERROR)\n",
        "\n",
        "history = run_experiment(model, params)"
      ],
      "execution_count": 16,
      "outputs": [
        {
          "output_type": "stream",
          "text": [
            "Removing previous training artefacts...\n",
            "Creating training directory...\n",
            "Experiment started...\n",
            ".......................................\n",
            "Epoch 1/10\n",
            "1627/1627 [==============================] - 25s 15ms/step - loss: 0.6598 - sparse_categorical_accuracy: 0.7185 - val_loss: 0.7474 - val_sparse_categorical_accuracy: 0.6639\n",
            "Epoch 2/10\n",
            "1627/1627 [==============================] - 13s 8ms/step - loss: 0.5877 - sparse_categorical_accuracy: 0.7462 - val_loss: 0.6586 - val_sparse_categorical_accuracy: 0.7097\n",
            "Epoch 3/10\n",
            "1627/1627 [==============================] - 13s 8ms/step - loss: 0.5634 - sparse_categorical_accuracy: 0.7577 - val_loss: 0.5303 - val_sparse_categorical_accuracy: 0.7695\n",
            "Epoch 4/10\n",
            "1627/1627 [==============================] - 13s 8ms/step - loss: 0.5489 - sparse_categorical_accuracy: 0.7646 - val_loss: 0.5335 - val_sparse_categorical_accuracy: 0.7660\n",
            "Epoch 5/10\n",
            "1627/1627 [==============================] - 13s 8ms/step - loss: 0.5385 - sparse_categorical_accuracy: 0.7689 - val_loss: 0.5291 - val_sparse_categorical_accuracy: 0.7652\n",
            "Epoch 6/10\n",
            "1627/1627 [==============================] - 13s 8ms/step - loss: 0.5293 - sparse_categorical_accuracy: 0.7728 - val_loss: 0.5233 - val_sparse_categorical_accuracy: 0.7747\n",
            "Epoch 7/10\n",
            "1627/1627 [==============================] - 13s 8ms/step - loss: 0.5228 - sparse_categorical_accuracy: 0.7751 - val_loss: 0.4950 - val_sparse_categorical_accuracy: 0.7894\n",
            "Epoch 8/10\n",
            "1627/1627 [==============================] - 13s 8ms/step - loss: 0.5168 - sparse_categorical_accuracy: 0.7786 - val_loss: 0.4785 - val_sparse_categorical_accuracy: 0.7963\n",
            "Epoch 9/10\n",
            "1627/1627 [==============================] - 13s 8ms/step - loss: 0.5117 - sparse_categorical_accuracy: 0.7810 - val_loss: 0.4647 - val_sparse_categorical_accuracy: 0.8041\n",
            "Epoch 10/10\n",
            "1627/1627 [==============================] - 13s 8ms/step - loss: 0.5090 - sparse_categorical_accuracy: 0.7823 - val_loss: 0.4509 - val_sparse_categorical_accuracy: 0.8105\n",
            ".......................................\n",
            "Experiment finished.\n",
            "\n"
          ],
          "name": "stdout"
        }
      ]
    },
    {
      "cell_type": "markdown",
      "metadata": {
        "id": "UhJ5qV0aJd0J",
        "colab_type": "text"
      },
      "source": [
        "#### Visualize training history"
      ]
    },
    {
      "cell_type": "code",
      "metadata": {
        "id": "Ie7fi-q_JAhh",
        "colab_type": "code",
        "outputId": "dcda4107-ffae-4ffb-f071-16277a315af0",
        "colab": {
          "base_uri": "https://localhost:8080/",
          "height": 573
        }
      },
      "source": [
        "import matplotlib.pyplot as plt\n",
        "\n",
        "# Plot training & validation accuracy values\n",
        "plt.plot(history.history['sparse_categorical_accuracy'])\n",
        "plt.plot(history.history['val_sparse_categorical_accuracy'])\n",
        "plt.title('Model accuracy')\n",
        "plt.ylabel('Accuracy')\n",
        "plt.xlabel('Epoch')\n",
        "plt.legend(['Train', 'Eval'], loc='upper left')\n",
        "plt.show()\n",
        "\n",
        "# Plot training & validation loss values\n",
        "plt.plot(history.history['loss'])\n",
        "plt.plot(history.history['val_loss'])\n",
        "plt.title('Model loss')\n",
        "plt.ylabel('Loss')\n",
        "plt.xlabel('Epoch')\n",
        "plt.legend(['Train', 'Eval'], loc='upper left')\n",
        "plt.show()"
      ],
      "execution_count": 17,
      "outputs": [
        {
          "output_type": "display_data",
          "data": {
            "image/png": "[encoded data removed]",
            "text/plain": [
              "<Figure size 432x288 with 1 Axes>"
            ]
          },
          "metadata": {
            "tags": [],
            "needs_background": "light"
          }
        },
        {
          "output_type": "display_data",
          "data": {
            "image/png": "[encoded data removed]",
            "text/plain": [
              "<Figure size 432x288 with 1 Axes>"
            ]
          },
          "metadata": {
            "tags": [],
            "needs_background": "light"
          }
        }
      ]
    },
    {
      "cell_type": "markdown",
      "metadata": {
        "id": "t7q4uSu1KbXv",
        "colab_type": "text"
      },
      "source": [
        "## 3. Model export for serving"
      ]
    },
    {
      "cell_type": "markdown",
      "metadata": {
        "id": "vwDylJzoUTb1",
        "colab_type": "text"
      },
      "source": [
        "### 3.1. Implement serving input receiver functions"
      ]
    },
    {
      "cell_type": "markdown",
      "metadata": {
        "id": "lhYjXNxgjob1",
        "colab_type": "text"
      },
      "source": [
        "#### Feature spec"
      ]
    },
    {
      "cell_type": "code",
      "metadata": {
        "id": "_D577fVOKbcw",
        "colab_type": "code",
        "outputId": "c245eef4-d969-4b6e-ee1b-d6dc378259ef",
        "colab": {
          "base_uri": "https://localhost:8080/",
          "height": 221
        }
      },
      "source": [
        "feature_spec = {}\n",
        "for feature_name in FEATURE_NAMES:\n",
        "    if feature_name in CATEGORICAL_FEATURES_WITH_VOCABULARY:\n",
        "        feature_specs[feature_name] = tf.io.FixedLenFeature(\n",
        "            shape=(1,), dtype=tf.string)\n",
        "    else:\n",
        "        feature_spec[feature_name] = tf.io.FixedLenFeature(\n",
        "            shape=(1,), dtype=tf.float32)\n",
        "\n",
        "for key, value in feature_spec.items():\n",
        "  print(\"{}: {}\".format(key, value))"
      ],
      "execution_count": 18,
      "outputs": [
        {
          "output_type": "stream",
          "text": [
            "Soil_Type: FixedLenFeature(shape=(1,), dtype=tf.string, default_value=None)\n",
            "Wilderness_Area: FixedLenFeature(shape=(1,), dtype=tf.string, default_value=None)\n",
            "Aspect: FixedLenFeature(shape=(1,), dtype=tf.float32, default_value=None)\n",
            "Elevation: FixedLenFeature(shape=(1,), dtype=tf.float32, default_value=None)\n",
            "Hillshade_3pm: FixedLenFeature(shape=(1,), dtype=tf.float32, default_value=None)\n",
            "Hillshade_9am: FixedLenFeature(shape=(1,), dtype=tf.float32, default_value=None)\n",
            "Hillshade_Noon: FixedLenFeature(shape=(1,), dtype=tf.float32, default_value=None)\n",
            "Horizontal_Distance_To_Fire_Points: FixedLenFeature(shape=(1,), dtype=tf.float32, default_value=None)\n",
            "Horizontal_Distance_To_Hydrology: FixedLenFeature(shape=(1,), dtype=tf.float32, default_value=None)\n",
            "Horizontal_Distance_To_Roadways: FixedLenFeature(shape=(1,), dtype=tf.float32, default_value=None)\n",
            "Slope: FixedLenFeature(shape=(1,), dtype=tf.float32, default_value=None)\n",
            "Vertical_Distance_To_Hydrology: FixedLenFeature(shape=(1,), dtype=tf.float32, default_value=None)\n"
          ],
          "name": "stdout"
        }
      ]
    },
    {
      "cell_type": "markdown",
      "metadata": {
        "id": "Iijp9_mV0gNn",
        "colab_type": "text"
      },
      "source": [
        "#### Features serving function"
      ]
    },
    {
      "cell_type": "code",
      "metadata": {
        "id": "hQDJP47xnt9p",
        "colab_type": "code",
        "colab": {}
      },
      "source": [
        "MODEL_OUTPUT_KEY = 'probabilities'\n",
        "SKIP_INPUTS = ['request_timestamp']\n",
        "\n",
        "def make_features_serving_fn(model):\n",
        "\n",
        "  @tf.function\n",
        "  def serve_features_fn(features):\n",
        "\n",
        "    # implement any required preprocessing here\n",
        "\n",
        "    return {MODEL_OUTPUT_KEY: model(features)}\n",
        "\n",
        "  return serve_features_fn"
      ],
      "execution_count": 0,
      "outputs": []
    },
    {
      "cell_type": "markdown",
      "metadata": {
        "id": "2sPh4f_tUX5n",
        "colab_type": "text"
      },
      "source": [
        "### 3.2. Export the model"
      ]
    },
    {
      "cell_type": "code",
      "metadata": {
        "id": "ZlQfiluTTuW-",
        "colab_type": "code",
        "outputId": "d0e59104-314a-4235-b2ff-1914b87e57c0",
        "colab": {
          "base_uri": "https://localhost:8080/",
          "height": 34
        }
      },
      "source": [
        "SIGNATURE_NAME = 'serving_default'\n",
        "\n",
        "features_input_signature = {\n",
        "    feature: tf.TensorSpec(shape=spec.shape, dtype=spec.dtype, name=feature)\n",
        "    for feature, spec in feature_spec.items()\n",
        "    }\n",
        "\n",
        "for key in SKIP_INPUTS:\n",
        "  features_input_signature[key] = tf.TensorSpec(\n",
        "    shape=[None], dtype=tf.string, name=key)\n",
        "\n",
        "signatures = {        \n",
        "    SIGNATURE_NAME: make_features_serving_fn(model).get_concrete_function(\n",
        "        features_input_signature),\n",
        "    }\n",
        "\n",
        "model.save(MODEL_DIR, save_format='tf', signatures=signatures)\n",
        "print(\"Model is exported to: {}.\".format(MODEL_DIR))"
      ],
      "execution_count": 20,
      "outputs": [
        {
          "output_type": "stream",
          "text": [
            "Model is exported to: ./workspace/training/exported_model.\n"
          ],
          "name": "stdout"
        }
      ]
    },
    {
      "cell_type": "code",
      "metadata": {
        "id": "fyK7Yy0CCr1f",
        "colab_type": "code",
        "outputId": "26862a8f-f033-48da-c01e-365df7c277d9",
        "colab": {
          "base_uri": "https://localhost:8080/",
          "height": 1000
        }
      },
      "source": [
        "!saved_model_cli show --dir {MODEL_DIR} --tag_set serve --signature_def {SIGNATURE_NAME}"
      ],
      "execution_count": 21,
      "outputs": [
        {
          "output_type": "stream",
          "text": [
            "2020-04-14 21:19:36.051010: W tensorflow/stream_executor/platform/default/dso_loader.cc:55] Could not load dynamic library 'libnvinfer.so.6'; dlerror: libnvinfer.so.6: cannot open shared object file: No such file or directory; LD_LIBRARY_PATH: /usr/local/nvidia/lib:/usr/local/nvidia/lib64\n",
            "2020-04-14 21:19:36.051136: W tensorflow/stream_executor/platform/default/dso_loader.cc:55] Could not load dynamic library 'libnvinfer_plugin.so.6'; dlerror: libnvinfer_plugin.so.6: cannot open shared object file: No such file or directory; LD_LIBRARY_PATH: /usr/local/nvidia/lib:/usr/local/nvidia/lib64\n",
            "2020-04-14 21:19:36.051157: W tensorflow/compiler/tf2tensorrt/utils/py_utils.cc:30] Cannot dlopen some TensorRT libraries. If you would like to use Nvidia GPU with TensorRT, please make sure the missing libraries mentioned above are installed properly.\n",
            "The given SavedModel SignatureDef contains the following input(s):\n",
            "  inputs['Aspect'] tensor_info:\n",
            "      dtype: DT_FLOAT\n",
            "      shape: (1)\n",
            "      name: serving_default_Aspect:0\n",
            "  inputs['Elevation'] tensor_info:\n",
            "      dtype: DT_FLOAT\n",
            "      shape: (1)\n",
            "      name: serving_default_Elevation:0\n",
            "  inputs['Hillshade_3pm'] tensor_info:\n",
            "      dtype: DT_FLOAT\n",
            "      shape: (1)\n",
            "      name: serving_default_Hillshade_3pm:0\n",
            "  inputs['Hillshade_9am'] tensor_info:\n",
            "      dtype: DT_FLOAT\n",
            "      shape: (1)\n",
            "      name: serving_default_Hillshade_9am:0\n",
            "  inputs['Hillshade_Noon'] tensor_info:\n",
            "      dtype: DT_FLOAT\n",
            "      shape: (1)\n",
            "      name: serving_default_Hillshade_Noon:0\n",
            "  inputs['Horizontal_Distance_To_Fire_Points'] tensor_info:\n",
            "      dtype: DT_FLOAT\n",
            "      shape: (1)\n",
            "      name: serving_default_Horizontal_Distance_To_Fire_Points:0\n",
            "  inputs['Horizontal_Distance_To_Hydrology'] tensor_info:\n",
            "      dtype: DT_FLOAT\n",
            "      shape: (1)\n",
            "      name: serving_default_Horizontal_Distance_To_Hydrology:0\n",
            "  inputs['Horizontal_Distance_To_Roadways'] tensor_info:\n",
            "      dtype: DT_FLOAT\n",
            "      shape: (1)\n",
            "      name: serving_default_Horizontal_Distance_To_Roadways:0\n",
            "  inputs['Slope'] tensor_info:\n",
            "      dtype: DT_FLOAT\n",
            "      shape: (1)\n",
            "      name: serving_default_Slope:0\n",
            "  inputs['Soil_Type'] tensor_info:\n",
            "      dtype: DT_STRING\n",
            "      shape: (1)\n",
            "      name: serving_default_Soil_Type:0\n",
            "  inputs['Vertical_Distance_To_Hydrology'] tensor_info:\n",
            "      dtype: DT_FLOAT\n",
            "      shape: (1)\n",
            "      name: serving_default_Vertical_Distance_To_Hydrology:0\n",
            "  inputs['Wilderness_Area'] tensor_info:\n",
            "      dtype: DT_STRING\n",
            "      shape: (1)\n",
            "      name: serving_default_Wilderness_Area:0\n",
            "  inputs['request_timestamp'] tensor_info:\n",
            "      dtype: DT_STRING\n",
            "      shape: (-1)\n",
            "      name: serving_default_request_timestamp:0\n",
            "The given SavedModel SignatureDef contains the following output(s):\n",
            "  outputs['probabilities'] tensor_info:\n",
            "      dtype: DT_FLOAT\n",
            "      shape: (1, 7)\n",
            "      name: StatefulPartitionedCall_22:0\n",
            "Method name is: tensorflow/serving/predict\n"
          ],
          "name": "stdout"
        }
      ]
    },
    {
      "cell_type": "markdown",
      "metadata": {
        "id": "9AQdyoPZUaKH",
        "colab_type": "text"
      },
      "source": [
        "### 3.3. Test exported model"
      ]
    },
    {
      "cell_type": "code",
      "metadata": {
        "id": "_gfRf20JVgn6",
        "colab_type": "code",
        "colab": {}
      },
      "source": [
        "instances = [\n",
        "      { 'request_timestamp': '2020-01-01',\n",
        "        'Soil_Type': '7202',\n",
        "        'Wilderness_Area': 'Commanche',\n",
        "        'Aspect': 61,\n",
        "        'Elevation': 3091,\n",
        "        'Hillshade_3pm': 129,\n",
        "        'Hillshade_9am': 227,\n",
        "        'Hillshade_Noon': 223,\n",
        "        'Horizontal_Distance_To_Fire_Points': 2868,\n",
        "        'Horizontal_Distance_To_Hydrology': 134,\n",
        "        'Horizontal_Distance_To_Roadways': 0, \n",
        "        'Slope': 8, \n",
        "        'Vertical_Distance_To_Hydrology': 10,\n",
        "    }\n",
        "]"
      ],
      "execution_count": 0,
      "outputs": []
    },
    {
      "cell_type": "markdown",
      "metadata": {
        "id": "IV07vVr1uBvr",
        "colab_type": "text"
      },
      "source": [
        "#### Preidct using features_serving signature"
      ]
    },
    {
      "cell_type": "code",
      "metadata": {
        "id": "AHuRrUjvuK0R",
        "colab_type": "code",
        "colab": {}
      },
      "source": [
        "import numpy as np\n",
        "\n",
        "def create_tf_features(instance):\n",
        " \n",
        "  new_instance = {}\n",
        "  for key, value in instance.items():\n",
        "    if key in CATEGORICAL_FEATURES_WITH_VOCABULARY or key in SKIP_INPUTS:\n",
        "      new_instance[key] = tf.constant(value, dtype=tf.string)\n",
        "    else:\n",
        "      new_instance[key] = tf.constant(value, dtype=tf.float32)\n",
        "  \n",
        "  return new_instance"
      ],
      "execution_count": 0,
      "outputs": []
    },
    {
      "cell_type": "code",
      "metadata": {
        "id": "RUaWFXqgu96i",
        "colab_type": "code",
        "colab": {}
      },
      "source": [
        "features_predictor = tf.saved_model.load(MODEL_DIR).signatures[SIGNATURE_NAME]\n",
        "\n",
        "def predict_features_serving(instance):\n",
        "\n",
        "  features = create_tf_features(instance)\n",
        "  probabilities = features_predictor(**features)[MODEL_OUTPUT_KEY].numpy()\n",
        "  predictions = FEATURE_LABELS[int(np.argmax(probabilities))]\n",
        "\n",
        "  return predictions"
      ],
      "execution_count": 0,
      "outputs": []
    },
    {
      "cell_type": "code",
      "metadata": {
        "id": "N2obiJWB20BX",
        "colab_type": "code",
        "outputId": "c8772ba9-652e-4348-d661-f7463aeb95a5",
        "colab": {
          "base_uri": "https://localhost:8080/",
          "height": 34
        }
      },
      "source": [
        "predict_features_serving(instances[0])"
      ],
      "execution_count": 25,
      "outputs": [
        {
          "output_type": "execute_result",
          "data": {
            "text/plain": [
              "'1'"
            ]
          },
          "metadata": {
            "tags": []
          },
          "execution_count": 25
        }
      ]
    },
    {
      "cell_type": "markdown",
      "metadata": {
        "id": "fY-3txmZb0kf",
        "colab_type": "text"
      },
      "source": [
        "### 3.4  Upload exported model to GCS"
      ]
    },
    {
      "cell_type": "code",
      "metadata": {
        "id": "E6X0wsuJb0rB",
        "colab_type": "code",
        "outputId": "cf7c14e8-534e-4f61-dd35-e0f8bbb29f4f",
        "colab": {
          "base_uri": "https://localhost:8080/",
          "height": 340
        }
      },
      "source": [
        "!gsutil rm -r gs://{BUCKET}/models/{MODEL_NAME}\n",
        "!gsutil cp -r {MODEL_DIR} gs://{BUCKET}/models/{MODEL_NAME}"
      ],
      "execution_count": 26,
      "outputs": [
        {
          "output_type": "stream",
          "text": [
            "Removing gs://sa-data-validation/models/covertype_classifier/exported_model/saved_model.pb#1586898504351469...\n",
            "Removing gs://sa-data-validation/models/covertype_classifier/exported_model/variables/variables.data-00000-of-00001#1586898504727752...\n",
            "Removing gs://sa-data-validation/models/covertype_classifier/exported_model/variables/variables.index#1586898504498873...\n",
            "Removing gs://sa-data-validation/models/covertype_classifier/saved_model.pb#1586272413156334...\n",
            "/ [4 objects]                                                                   \n",
            "==> NOTE: You are performing a sequence of gsutil operations that may\n",
            "run significantly faster if you instead use gsutil -m rm ... Please\n",
            "see the -m section under \"gsutil help options\" for further information\n",
            "about when gsutil -m can be advantageous.\n",
            "\n",
            "Removing gs://sa-data-validation/models/covertype_classifier/variables/variables.data-00000-of-00001#1586272413415239...\n",
            "Removing gs://sa-data-validation/models/covertype_classifier/variables/variables.index#1586272413525781...\n",
            "/ [6 objects]                                                                   \n",
            "Operation completed over 6 objects.                                              \n",
            "Copying file://./workspace/training/exported_model/saved_model.pb [Content-Type=application/octet-stream]...\n",
            "Copying file://./workspace/training/exported_model/variables/variables.index [Content-Type=application/octet-stream]...\n",
            "Copying file://./workspace/training/exported_model/variables/variables.data-00000-of-00001 [Content-Type=application/octet-stream]...\n",
            "-\n",
            "Operation completed over 3 objects/1.1 MiB.                                      \n"
          ],
          "name": "stdout"
        }
      ]
    },
    {
      "cell_type": "markdown",
      "metadata": {
        "id": "gvVcRazvL_95",
        "colab_type": "text"
      },
      "source": [
        "## 4. Model deployment to AI Platform \n"
      ]
    },
    {
      "cell_type": "markdown",
      "metadata": {
        "id": "uncXaPUBdBpV",
        "colab_type": "text"
      },
      "source": [
        "### 4.1. Create model in AI Platform"
      ]
    },
    {
      "cell_type": "code",
      "metadata": {
        "id": "bO5a1fGLLrSv",
        "colab_type": "code",
        "colab": {}
      },
      "source": [
        "!gcloud ai-platform models create {MODEL_NAME} \\\n",
        "  --project {PROJECT} \\\n",
        "  --regions {REGION}"
      ],
      "execution_count": 0,
      "outputs": []
    },
    {
      "cell_type": "code",
      "metadata": {
        "id": "LhuGqxSkZs94",
        "colab_type": "code",
        "outputId": "b5a786ae-4955-4079-a23e-efbc04c399bc",
        "colab": {
          "base_uri": "https://localhost:8080/",
          "height": 51
        }
      },
      "source": [
        "!gcloud ai-platform models list --project {PROJECT}"
      ],
      "execution_count": 27,
      "outputs": [
        {
          "output_type": "stream",
          "text": [
            "NAME                  DEFAULT_VERSION_NAME\n",
            "covertype_classifier  v1\n"
          ],
          "name": "stdout"
        }
      ]
    },
    {
      "cell_type": "markdown",
      "metadata": {
        "id": "VmUPxnCZdJZ4",
        "colab_type": "text"
      },
      "source": [
        "### 4.2. Create a model version"
      ]
    },
    {
      "cell_type": "code",
      "metadata": {
        "id": "jW-zQi9bZzF5",
        "colab_type": "code",
        "outputId": "70e732ee-06a2-4050-d13a-6b65ff62ec59",
        "colab": {
          "base_uri": "https://localhost:8080/",
          "height": 68
        }
      },
      "source": [
        "!gcloud ai-platform versions create {VERSION_NAME} \\\n",
        "  --model={MODEL_NAME} \\\n",
        "  --origin=gs://{BUCKET}/models/{MODEL_NAME} \\\n",
        "  --runtime-version=2.1 \\\n",
        "  --framework=TENSORFLOW \\\n",
        "  --python-version=3.7 \\\n",
        "  --project={PROJECT}\n",
        "\n",
        "!gcloud ai-platform versions list --model={MODEL_NAME} --project={PROJECT}"
      ],
      "execution_count": 28,
      "outputs": [
        {
          "output_type": "stream",
          "text": [
            "NAME  DEPLOYMENT_URI                                       STATE\n",
            "v1    gs://sa-data-validation/models/covertype_classifier  READY\n",
            "v2    gs://sa-data-validation/models/covertype_classifier  READY\n"
          ],
          "name": "stdout"
        }
      ]
    },
    {
      "cell_type": "markdown",
      "metadata": {
        "id": "nmFimRVrc4m8",
        "colab_type": "text"
      },
      "source": [
        "### 4.3. Test deployed model"
      ]
    },
    {
      "cell_type": "code",
      "metadata": {
        "id": "YJJDQNMzc4xh",
        "colab_type": "code",
        "outputId": "55730459-87d8-4372-fbc7-68eab91d6e9f",
        "colab": {
          "base_uri": "https://localhost:8080/",
          "height": 34
        }
      },
      "source": [
        "import googleapiclient.discovery\n",
        "\n",
        "service = googleapiclient.discovery.build('ml', 'v1')\n",
        "name = 'projects/{}/models/{}/versions/{}'.format(PROJECT, MODEL_NAME, VERSION_NAME)\n",
        "print(\"Service name: {}\".format(name))\n",
        "\n",
        "def caip_predict(instances):\n",
        "  \n",
        "  serving_instances = []\n",
        "  for instance in instances:\n",
        "    serving_instances.append(\n",
        "        {key: [value] for key, value in instance.items()})\n",
        "    \n",
        "  request_body={\n",
        "      'signature_name': SIGNATURE_NAME,\n",
        "      'instances': serving_instances}\n",
        "\n",
        "  response = service.projects().predict(\n",
        "      name=name,\n",
        "      body=request_body\n",
        "\n",
        "  ).execute()\n",
        "\n",
        "  if 'error' in response:\n",
        "    raise RuntimeError(response['error'])\n",
        "\n",
        "  probability_list = [output[MODEL_OUTPUT_KEY] for output in response['predictions']]\n",
        "  classes = [FEATURE_LABELS[int(np.argmax(probabilities))] for probabilities in probability_list]\n",
        "  return classes"
      ],
      "execution_count": 40,
      "outputs": [
        {
          "output_type": "stream",
          "text": [
            "Service name: projects/sa-data-validation/models/covertype_classifier/versions/v2\n"
          ],
          "name": "stdout"
        }
      ]
    },
    {
      "cell_type": "code",
      "metadata": {
        "id": "lbgnmaks4UPC",
        "colab_type": "code",
        "outputId": "3c7b6003-f123-43c2-c6b9-484d61a25453",
        "colab": {
          "base_uri": "https://localhost:8080/",
          "height": 34
        }
      },
      "source": [
        "caip_predict(instances)"
      ],
      "execution_count": 41,
      "outputs": [
        {
          "output_type": "execute_result",
          "data": {
            "text/plain": [
              "['1']"
            ]
          },
          "metadata": {
            "tags": []
          },
          "execution_count": 41
        }
      ]
    },
    {
      "cell_type": "markdown",
      "metadata": {
        "id": "m11-MCflLjFG",
        "colab_type": "text"
      },
      "source": [
        "## 5. BigQuery logging dataset preparation"
      ]
    },
    {
      "cell_type": "markdown",
      "metadata": {
        "id": "HmWQwyAUdwIW",
        "colab_type": "text"
      },
      "source": [
        "### 5.1. Create BQ Dataset"
      ]
    },
    {
      "cell_type": "code",
      "metadata": {
        "id": "ne38zMEKL_Gk",
        "colab_type": "code",
        "colab": {}
      },
      "source": [
        "from google.cloud import bigquery\n",
        "\n",
        "client = bigquery.Client(PROJECT)\n",
        "dataset_names = [dataset.dataset_id for dataset in client.list_datasets(PROJECT)]\n",
        "\n",
        "dataset = bigquery.Dataset(\"{}.{}\".format(PROJECT, BQ_DATASET_NAME))\n",
        "dataset.location = \"US\"\n",
        "\n",
        "if BQ_DATASET_NAME not in dataset_names:\n",
        "  dataset = client.create_dataset(dataset)\n",
        "  print(\"Created dataset {}.{}\".format(client.project, dataset.dataset_id))\n",
        "\n",
        "print(\"BigQuery Dataset is ready.\")"
      ],
      "execution_count": 0,
      "outputs": []
    },
    {
      "cell_type": "markdown",
      "metadata": {
        "id": "ieIgLE94PovQ",
        "colab_type": "text"
      },
      "source": [
        "### 5.2. Create BQ Table\n"
      ]
    },
    {
      "cell_type": "markdown",
      "metadata": {
        "id": "ima0Dg1UWkRO",
        "colab_type": "text"
      },
      "source": [
        "#### Table schema"
      ]
    },
    {
      "cell_type": "code",
      "metadata": {
        "id": "TqxS6RQ0T9LG",
        "colab_type": "code",
        "colab": {}
      },
      "source": [
        "import json\n",
        "\n",
        "table_schema_json = [\n",
        "  {\n",
        "    \"name\": \"model\", \n",
        "    \"type\": \"STRING\", \n",
        "    \"mode\": \"REQUIRED\"\n",
        "   },\n",
        "   {\n",
        "     \"name\":\"model_version\", \n",
        "     \"type\": \"STRING\", \n",
        "     \"mode\":\"REQUIRED\"\n",
        "  },\n",
        "  {\n",
        "    \"name\":\"time\", \n",
        "    \"type\": \"TIMESTAMP\", \n",
        "    \"mode\": \"REQUIRED\"\n",
        "  },\n",
        "  {\n",
        "    \"name\":\"raw_data\", \n",
        "    \"type\": \"STRING\", \n",
        "    \"mode\": \"REQUIRED\"\n",
        "  },\n",
        "  {\n",
        "    \"name\":\"raw_prediction\", \n",
        "    \"type\": \"STRING\", \n",
        "    \"mode\": \"NULLABLE\"\n",
        "  },\n",
        "  {\n",
        "    \"name\":\"groundtruth\", \n",
        "    \"type\": \"STRING\", \n",
        "    \"mode\": \"NULLABLE\"\n",
        "  },\n",
        "]\n",
        "\n",
        "json.dump(table_schema_json, open('table_schema.json', 'w'))"
      ],
      "execution_count": 0,
      "outputs": []
    },
    {
      "cell_type": "markdown",
      "metadata": {
        "id": "koE5tKouWngb",
        "colab_type": "text"
      },
      "source": [
        "#### Ceating an ingestion-time partitioned tables"
      ]
    },
    {
      "cell_type": "code",
      "metadata": {
        "id": "SXkoAGEiXRvj",
        "colab_type": "code",
        "colab": {}
      },
      "source": [
        "table = bigquery.Table(\n",
        "    \"{}.{}.{}\".format(PROJECT, BQ_DATASET_NAME, BQ_TABLE_NAME))\n",
        "\n",
        "table_names = [table.table_id for table in client.list_tables(dataset)]\n",
        "\n",
        "if BQ_TABLE_NAME in table_names:\n",
        "  print(\"Deleteing BQ Table: {} ...\".format(BQ_TABLE_NAME))\n",
        "  client.delete_table(table)\n",
        "\n",
        "# table = client.create_table(table)\n",
        "# table.partition_expiration = 60 * 60 * 24 * 7\n",
        "# print(\"Created table {}.{}.{}\".format(table.project, table.dataset_id, table.table_id))\n"
      ],
      "execution_count": 0,
      "outputs": []
    },
    {
      "cell_type": "code",
      "metadata": {
        "id": "QnE9GMjbeqXR",
        "colab_type": "code",
        "colab": {}
      },
      "source": [
        "TIME_PARTITION_EXPERIATION = 60 * 60 * 24 * 7 # week\n",
        "\n",
        "!bq mk --table \\\n",
        "  --project_id={PROJECT} \\\n",
        "  --time_partitioning_type=DAY \\\n",
        "  --time_partitioning_expiration {TIME_PARTITION_EXPERIATION} \\\n",
        "  {PROJECT}:{BQ_DATASET_NAME}.{BQ_TABLE_NAME} \\\n",
        "  'table_schema.json'"
      ],
      "execution_count": 0,
      "outputs": []
    },
    {
      "cell_type": "markdown",
      "metadata": {
        "id": "RPFM4mW-R3y8",
        "colab_type": "text"
      },
      "source": [
        "### 5.3. Configre the AI Platform model version to enable request-response logging to BigQuery"
      ]
    },
    {
      "cell_type": "code",
      "metadata": {
        "id": "PBkx4i9Rc51W",
        "colab_type": "code",
        "colab": {}
      },
      "source": [
        "sampling_percentage = 1.0\n",
        "bq_full_table_name = '{}.{}.{}'.format(PROJECT, BQ_DATASET_NAME, BQ_TABLE_NAME)"
      ],
      "execution_count": 0,
      "outputs": []
    },
    {
      "cell_type": "code",
      "metadata": {
        "id": "EarF0cmcRZN4",
        "colab_type": "code",
        "outputId": "86089cc0-a64d-4f3a-f0df-89c91e49cb8e",
        "colab": {
          "base_uri": "https://localhost:8080/",
          "height": 289
        }
      },
      "source": [
        "logging_config = {\n",
        "    \"requestLoggingConfig\":{\n",
        "        \"samplingPercentage\": sampling_percentage,\n",
        "        \"bigqueryTableName\": bq_full_table_name\n",
        "        }\n",
        "    }\n",
        "\n",
        "response = service.projects().models().versions().patch(\n",
        "    name=name,\n",
        "    body=logging_config,\n",
        "    updateMask=\"requestLoggingConfig\"\n",
        "    ).execute()\n",
        "\n",
        "response"
      ],
      "execution_count": 32,
      "outputs": [
        {
          "output_type": "execute_result",
          "data": {
            "text/plain": [
              "{'metadata': {'@type': 'type.googleapis.com/google.cloud.ml.v1.OperationMetadata',\n",
              "  'createTime': '2020-04-14T21:22:19Z',\n",
              "  'modelName': 'projects/sa-data-validation/models/covertype_classifier',\n",
              "  'operationType': 'UPDATE_VERSION',\n",
              "  'version': {'createTime': '2020-04-14T21:21:09Z',\n",
              "   'deploymentUri': 'gs://sa-data-validation/models/covertype_classifier',\n",
              "   'etag': '5cgfaqUZUU4=',\n",
              "   'framework': 'TENSORFLOW',\n",
              "   'machineType': 'mls1-c1-m2',\n",
              "   'name': 'projects/sa-data-validation/models/covertype_classifier/versions/v2',\n",
              "   'pythonVersion': '3.7',\n",
              "   'requestLoggingConfig': {'bigqueryTableName': 'sa-data-validation.data_validation.covertype_classifier_logs',\n",
              "    'samplingPercentage': 1},\n",
              "   'runtimeVersion': '2.1',\n",
              "   'state': 'READY'}},\n",
              " 'name': 'projects/sa-data-validation/operations/update_covertype_classifier_v2_1586899339611'}"
            ]
          },
          "metadata": {
            "tags": []
          },
          "execution_count": 32
        }
      ]
    },
    {
      "cell_type": "markdown",
      "metadata": {
        "id": "kVpICSuq0Kp1",
        "colab_type": "text"
      },
      "source": [
        "### 5.4. Test request-response logging"
      ]
    },
    {
      "cell_type": "code",
      "metadata": {
        "colab_type": "code",
        "outputId": "73700ef7-276c-4d19-f899-8350bc71f56e",
        "id": "6YsfjkPtkx3o",
        "colab": {
          "base_uri": "https://localhost:8080/",
          "height": 34
        }
      },
      "source": [
        "import time\n",
        "\n",
        "for i in range(5):\n",
        "  caip_predict(instances)\n",
        "  print('.', end='')\n",
        "  time.sleep(0.25)"
      ],
      "execution_count": 45,
      "outputs": [
        {
          "output_type": "stream",
          "text": [
            "....."
          ],
          "name": "stdout"
        }
      ]
    },
    {
      "cell_type": "code",
      "metadata": {
        "id": "jdlrKX0d0mQC",
        "colab_type": "code",
        "outputId": "887cbb77-adcc-42b8-ca4d-8cb559e8f713",
        "colab": {
          "base_uri": "https://localhost:8080/",
          "height": 235
        }
      },
      "source": [
        "query = '''\n",
        "  SELECT * FROM \n",
        "  `{}.{}` \n",
        "  WHERE model_version = '{}'\n",
        "  ORDER BY time desc\n",
        "  LIMIT {}\n",
        "'''.format(BQ_DATASET_NAME, BQ_TABLE_NAME, VERSION_NAME, 3)\n",
        "\n",
        "pd.io.gbq.read_gbq(\n",
        "    query, project_id=PROJECT).T\n"
      ],
      "execution_count": 46,
      "outputs": [
        {
          "output_type": "execute_result",
          "data": {
            "text/html": [
              "<div>\n",
              "<style scoped>\n",
              "    .dataframe tbody tr th:only-of-type {\n",
              "        vertical-align: middle;\n",
              "    }\n",
              "\n",
              "    .dataframe tbody tr th {\n",
              "        vertical-align: top;\n",
              "    }\n",
              "\n",
              "    .dataframe thead th {\n",
              "        text-align: right;\n",
              "    }\n",
              "</style>\n",
              "<table border=\"1\" class=\"dataframe\">\n",
              "  <thead>\n",
              "    <tr style=\"text-align: right;\">\n",
              "      <th></th>\n",
              "      <th>0</th>\n",
              "    </tr>\n",
              "  </thead>\n",
              "  <tbody>\n",
              "    <tr>\n",
              "      <th>model</th>\n",
              "      <td>covertype_classifier</td>\n",
              "    </tr>\n",
              "    <tr>\n",
              "      <th>model_version</th>\n",
              "      <td>v2</td>\n",
              "    </tr>\n",
              "    <tr>\n",
              "      <th>time</th>\n",
              "      <td>2020-04-14 21:31:56+00:00</td>\n",
              "    </tr>\n",
              "    <tr>\n",
              "      <th>raw_data</th>\n",
              "      <td>{\"signature_name\": \"serving_default\", \"instanc...</td>\n",
              "    </tr>\n",
              "    <tr>\n",
              "      <th>raw_prediction</th>\n",
              "      <td>{\"predictions\": [{\"probabilities\": [0.00164078...</td>\n",
              "    </tr>\n",
              "    <tr>\n",
              "      <th>groundtruth</th>\n",
              "      <td>None</td>\n",
              "    </tr>\n",
              "  </tbody>\n",
              "</table>\n",
              "</div>"
            ],
            "text/plain": [
              "                                                                0\n",
              "model                                        covertype_classifier\n",
              "model_version                                                  v2\n",
              "time                                    2020-04-14 21:31:56+00:00\n",
              "raw_data        {\"signature_name\": \"serving_default\", \"instanc...\n",
              "raw_prediction  {\"predictions\": [{\"probabilities\": [0.00164078...\n",
              "groundtruth                                                  None"
            ]
          },
          "metadata": {
            "tags": []
          },
          "execution_count": 46
        }
      ]
    },
    {
      "cell_type": "markdown",
      "metadata": {
        "id": "vK_yvIjWkPk7",
        "colab_type": "text"
      },
      "source": [
        "## 6. BigQuery logs parsing"
      ]
    },
    {
      "cell_type": "code",
      "metadata": {
        "id": "6fTqQkXEJszV",
        "colab_type": "code",
        "colab": {}
      },
      "source": [
        "view_name = \"vw_\"+BQ_TABLE_NAME+\"_\"+VERSION_NAME\n",
        "\n",
        "colum_names = ['request_timestamp'] + FEATURE_NAMES\n",
        "input_features = ', \\r\\n  '.join(colum_names)\n",
        "\n",
        "json_features_extraction = []\n",
        "for feature_name in colum_names:\n",
        "  s = \"JSON_EXTRACT(instance, '$.{}')\".format(feature_name) \n",
        "  if feature_name in NUMERIC_FEATURE_NAMES:\n",
        "    s = \"CAST({} AS NUMERIC)\".format(s)\n",
        "  s += \" AS {}\".format(feature_name)\n",
        "  json_features_extraction.append(s)\n",
        "json_features_extraction = ', \\r\\n    '.join(json_features_extraction)\n",
        "\n",
        "class_probability_pivoting = []\n",
        "for class_index, class_label in enumerate(FEATURE_LABELS):\n",
        "  s = \"MAX(IF(class_index = {}, class_probability, NULL)) as prob_{}\".format(class_index, class_label)\n",
        "  class_probability_pivoting.append(s)\n",
        "class_probability_pivoting = ', \\r\\n  '.join(class_probability_pivoting)"
      ],
      "execution_count": 0,
      "outputs": []
    },
    {
      "cell_type": "markdown",
      "metadata": {
        "id": "7_ArYsvKqn3j",
        "colab_type": "text"
      },
      "source": [
        "### 6.1. Create a view to parse the logs"
      ]
    },
    {
      "cell_type": "code",
      "metadata": {
        "id": "69vABhIJcqbR",
        "colab_type": "code",
        "colab": {}
      },
      "source": [
        "sql_script = '''\n",
        "CREATE OR REPLACE VIEW @dataset_name.@view_name\n",
        "AS\n",
        "\n",
        "WITH step1\n",
        "AS\n",
        "(\n",
        "  SELECT \n",
        "    model, \n",
        "    model_version, \n",
        "    time, \n",
        "    SPLIT(JSON_EXTRACT(raw_data, '$.instances'), '}],[{') instance_list, \n",
        "    SPLIT(JSON_EXTRACT(raw_prediction, '$.predictions'), '}],[{') as prediction_list\n",
        "  FROM \n",
        "  `@project.@dataset_name.@table_name` \n",
        "  WHERE model_version = '@version'\n",
        "),\n",
        "\n",
        "step2\n",
        "AS\n",
        "(\n",
        "  SELECT\n",
        "    model, \n",
        "    model_version, \n",
        "    time, \n",
        "    REPLACE(REPLACE(instance, '[', ''),']', '') AS instance,\n",
        "    REPLACE(REPLACE(prediction, '[{\"@model_output_key\":[', ''),']}]', '') AS prediction,\n",
        "  FROM step1\n",
        "  JOIN UNNEST(step1.instance_list) AS instance\n",
        "  WITH OFFSET AS f1\n",
        "  JOIN UNNEST(step1.prediction_list) AS prediction\n",
        "  WITH OFFSET AS f2\n",
        "  ON f1=f2\n",
        "),\n",
        "\n",
        "step3 AS\n",
        "(\n",
        "  SELECT \n",
        "    model, \n",
        "    model_version, \n",
        "    time,\n",
        "    @json_features_extraction,\n",
        "    SPLIT(prediction, ',') AS class_probabilities, \n",
        "  FROM step2\n",
        "),\n",
        "\n",
        "step4\n",
        "AS\n",
        "(\n",
        "  SELECT * EXCEPT(class_probabilities)\n",
        "  FROM step3\n",
        "  JOIN UNNEST(step3.class_probabilities) AS class_probability\n",
        "  WITH OFFSET AS class_index\n",
        ")\n",
        "\n",
        "SELECT\n",
        "  model,\n",
        "  model_version,\n",
        "  time,\n",
        "  @input_features,\n",
        "  @class_probability_pivoting\n",
        "FROM step4\n",
        "GROUP BY\n",
        "  model,\n",
        "  model_version,\n",
        "  time,\n",
        "  @input_features\n",
        "\n",
        "'''"
      ],
      "execution_count": 0,
      "outputs": []
    },
    {
      "cell_type": "code",
      "metadata": {
        "id": "qWIlgsxRI4wV",
        "colab_type": "code",
        "colab": {}
      },
      "source": [
        "sql_script = sql_script.replace(\"@project\", PROJECT)\n",
        "sql_script = sql_script.replace(\"@dataset_name\", BQ_DATASET_NAME)\n",
        "sql_script = sql_script.replace(\"@table_name\", BQ_TABLE_NAME)\n",
        "sql_script = sql_script.replace(\"@view_name\", view_name)\n",
        "sql_script = sql_script.replace(\"@version\", VERSION_NAME)\n",
        "sql_script = sql_script.replace(\"@input_features\", input_features)\n",
        "sql_script = sql_script.replace(\"@json_features_extraction\", json_features_extraction)\n",
        "sql_script = sql_script.replace(\"@model_output_key\", MODEL_OUTPUT_KEY)\n",
        "sql_script = sql_script.replace(\"@class_probability_pivoting\", class_probability_pivoting)\n",
        "# print(sql_script)"
      ],
      "execution_count": 0,
      "outputs": []
    },
    {
      "cell_type": "code",
      "metadata": {
        "id": "-ZwFA1OGUMPz",
        "colab_type": "code",
        "colab": {}
      },
      "source": [
        "client.query(query = sql_script)\n",
        "print(\"View was created or replaced.\")"
      ],
      "execution_count": 0,
      "outputs": []
    },
    {
      "cell_type": "markdown",
      "metadata": {
        "id": "E6qXk_QjUMHq",
        "colab_type": "text"
      },
      "source": [
        "### 6.2. Query the view"
      ]
    },
    {
      "cell_type": "code",
      "metadata": {
        "id": "u9WDwhQbU0qX",
        "colab_type": "code",
        "outputId": "1d55bdbf-fd2c-4e01-add1-6ae97ca53a1d",
        "colab": {
          "base_uri": "https://localhost:8080/",
          "height": 762
        }
      },
      "source": [
        "query = '''\n",
        "  SELECT * FROM \n",
        "  `{}.{}` \n",
        "  LIMIT {}\n",
        "'''.format(BQ_DATASET_NAME, view_name, 3)\n",
        "\n",
        "pd.io.gbq.read_gbq(\n",
        "    query, project_id=PROJECT).T"
      ],
      "execution_count": 54,
      "outputs": [
        {
          "output_type": "execute_result",
          "data": {
            "text/html": [
              "<div>\n",
              "<style scoped>\n",
              "    .dataframe tbody tr th:only-of-type {\n",
              "        vertical-align: middle;\n",
              "    }\n",
              "\n",
              "    .dataframe tbody tr th {\n",
              "        vertical-align: top;\n",
              "    }\n",
              "\n",
              "    .dataframe thead th {\n",
              "        text-align: right;\n",
              "    }\n",
              "</style>\n",
              "<table border=\"1\" class=\"dataframe\">\n",
              "  <thead>\n",
              "    <tr style=\"text-align: right;\">\n",
              "      <th></th>\n",
              "      <th>0</th>\n",
              "      <th>1</th>\n",
              "      <th>2</th>\n",
              "    </tr>\n",
              "  </thead>\n",
              "  <tbody>\n",
              "    <tr>\n",
              "      <th>model</th>\n",
              "      <td>covertype_classifier</td>\n",
              "      <td>covertype_classifier</td>\n",
              "      <td>covertype_classifier</td>\n",
              "    </tr>\n",
              "    <tr>\n",
              "      <th>model_version</th>\n",
              "      <td>v2</td>\n",
              "      <td>v2</td>\n",
              "      <td>v2</td>\n",
              "    </tr>\n",
              "    <tr>\n",
              "      <th>time</th>\n",
              "      <td>2020-04-14 21:31:58+00:00</td>\n",
              "      <td>2020-04-14 21:31:57+00:00</td>\n",
              "      <td>2020-04-14 21:31:56+00:00</td>\n",
              "    </tr>\n",
              "    <tr>\n",
              "      <th>request_timestamp</th>\n",
              "      <td>\"2020-01-01\"</td>\n",
              "      <td>\"2020-01-01\"</td>\n",
              "      <td>\"2020-01-01\"</td>\n",
              "    </tr>\n",
              "    <tr>\n",
              "      <th>Soil_Type</th>\n",
              "      <td>\"7202\"</td>\n",
              "      <td>\"7202\"</td>\n",
              "      <td>\"7202\"</td>\n",
              "    </tr>\n",
              "    <tr>\n",
              "      <th>Wilderness_Area</th>\n",
              "      <td>\"Commanche\"</td>\n",
              "      <td>\"Commanche\"</td>\n",
              "      <td>\"Commanche\"</td>\n",
              "    </tr>\n",
              "    <tr>\n",
              "      <th>Aspect</th>\n",
              "      <td>61</td>\n",
              "      <td>61</td>\n",
              "      <td>61</td>\n",
              "    </tr>\n",
              "    <tr>\n",
              "      <th>Elevation</th>\n",
              "      <td>3091</td>\n",
              "      <td>3091</td>\n",
              "      <td>3091</td>\n",
              "    </tr>\n",
              "    <tr>\n",
              "      <th>Hillshade_3pm</th>\n",
              "      <td>129</td>\n",
              "      <td>129</td>\n",
              "      <td>129</td>\n",
              "    </tr>\n",
              "    <tr>\n",
              "      <th>Hillshade_9am</th>\n",
              "      <td>227</td>\n",
              "      <td>227</td>\n",
              "      <td>227</td>\n",
              "    </tr>\n",
              "    <tr>\n",
              "      <th>Hillshade_Noon</th>\n",
              "      <td>223</td>\n",
              "      <td>223</td>\n",
              "      <td>223</td>\n",
              "    </tr>\n",
              "    <tr>\n",
              "      <th>Horizontal_Distance_To_Fire_Points</th>\n",
              "      <td>2868</td>\n",
              "      <td>2868</td>\n",
              "      <td>2868</td>\n",
              "    </tr>\n",
              "    <tr>\n",
              "      <th>Horizontal_Distance_To_Hydrology</th>\n",
              "      <td>134</td>\n",
              "      <td>134</td>\n",
              "      <td>134</td>\n",
              "    </tr>\n",
              "    <tr>\n",
              "      <th>Horizontal_Distance_To_Roadways</th>\n",
              "      <td>0</td>\n",
              "      <td>0</td>\n",
              "      <td>0</td>\n",
              "    </tr>\n",
              "    <tr>\n",
              "      <th>Slope</th>\n",
              "      <td>8</td>\n",
              "      <td>8</td>\n",
              "      <td>8</td>\n",
              "    </tr>\n",
              "    <tr>\n",
              "      <th>Vertical_Distance_To_Hydrology</th>\n",
              "      <td>10</td>\n",
              "      <td>10</td>\n",
              "      <td>10</td>\n",
              "    </tr>\n",
              "    <tr>\n",
              "      <th>prob_0</th>\n",
              "      <td>0.0016407809453085065</td>\n",
              "      <td>0.0016407809453085065</td>\n",
              "      <td>0.0016407809453085065</td>\n",
              "    </tr>\n",
              "    <tr>\n",
              "      <th>prob_1</th>\n",
              "      <td>0.9983590245246887</td>\n",
              "      <td>0.9983590245246887</td>\n",
              "      <td>0.9983590245246887</td>\n",
              "    </tr>\n",
              "    <tr>\n",
              "      <th>prob_2</th>\n",
              "      <td>2.6977801503152987e-12</td>\n",
              "      <td>2.6977801503152987e-12</td>\n",
              "      <td>2.6977801503152987e-12</td>\n",
              "    </tr>\n",
              "    <tr>\n",
              "      <th>prob_3</th>\n",
              "      <td>1.2856453748821828e-11</td>\n",
              "      <td>1.2856453748821828e-11</td>\n",
              "      <td>1.2856453748821828e-11</td>\n",
              "    </tr>\n",
              "    <tr>\n",
              "      <th>prob_4</th>\n",
              "      <td>2.9124444722583576e-07</td>\n",
              "      <td>2.9124444722583576e-07</td>\n",
              "      <td>2.9124444722583576e-07</td>\n",
              "    </tr>\n",
              "    <tr>\n",
              "      <th>prob_5</th>\n",
              "      <td>1.8843979154858914e-10</td>\n",
              "      <td>1.8843979154858914e-10</td>\n",
              "      <td>1.8843979154858914e-10</td>\n",
              "    </tr>\n",
              "    <tr>\n",
              "      <th>prob_6</th>\n",
              "      <td>3.0637886672124637e-10</td>\n",
              "      <td>3.0637886672124637e-10</td>\n",
              "      <td>3.0637886672124637e-10</td>\n",
              "    </tr>\n",
              "  </tbody>\n",
              "</table>\n",
              "</div>"
            ],
            "text/plain": [
              "                                                            0  ...                          2\n",
              "model                                    covertype_classifier  ...       covertype_classifier\n",
              "model_version                                              v2  ...                         v2\n",
              "time                                2020-04-14 21:31:58+00:00  ...  2020-04-14 21:31:56+00:00\n",
              "request_timestamp                                \"2020-01-01\"  ...               \"2020-01-01\"\n",
              "Soil_Type                                              \"7202\"  ...                     \"7202\"\n",
              "Wilderness_Area                                   \"Commanche\"  ...                \"Commanche\"\n",
              "Aspect                                                     61  ...                         61\n",
              "Elevation                                                3091  ...                       3091\n",
              "Hillshade_3pm                                             129  ...                        129\n",
              "Hillshade_9am                                             227  ...                        227\n",
              "Hillshade_Noon                                            223  ...                        223\n",
              "Horizontal_Distance_To_Fire_Points                       2868  ...                       2868\n",
              "Horizontal_Distance_To_Hydrology                          134  ...                        134\n",
              "Horizontal_Distance_To_Roadways                             0  ...                          0\n",
              "Slope                                                       8  ...                          8\n",
              "Vertical_Distance_To_Hydrology                             10  ...                         10\n",
              "prob_0                                  0.0016407809453085065  ...      0.0016407809453085065\n",
              "prob_1                                     0.9983590245246887  ...         0.9983590245246887\n",
              "prob_2                                 2.6977801503152987e-12  ...     2.6977801503152987e-12\n",
              "prob_3                                 1.2856453748821828e-11  ...     1.2856453748821828e-11\n",
              "prob_4                                 2.9124444722583576e-07  ...     2.9124444722583576e-07\n",
              "prob_5                                 1.8843979154858914e-10  ...     1.8843979154858914e-10\n",
              "prob_6                                 3.0637886672124637e-10  ...     3.0637886672124637e-10\n",
              "\n",
              "[23 rows x 3 columns]"
            ]
          },
          "metadata": {
            "tags": []
          },
          "execution_count": 54
        }
      ]
    },
    {
      "cell_type": "code",
      "metadata": {
        "id": "PkanQP8yVYaL",
        "colab_type": "code",
        "colab": {}
      },
      "source": [
        ""
      ],
      "execution_count": 0,
      "outputs": []
    }
  ]
}