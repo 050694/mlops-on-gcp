{
  "nbformat": 4,
  "nbformat_minor": 0,
  "metadata": {
    "colab": {
      "name": "00-covertype-data-generation.ipynb",
      "provenance": [],
      "toc_visible": true
    },
    "kernelspec": {
      "name": "python3",
      "display_name": "Python 3"
    }
  },
  "cells": [
    {
      "cell_type": "markdown",
      "metadata": {
        "id": "sj_pbQzwpiUS",
        "colab_type": "text"
      },
      "source": [
        "# Simulating Requests to an AI Prediction Deployed Model\n",
        "\n"
      ]
    },
    {
      "cell_type": "markdown",
      "metadata": {
        "id": "NDOuIyjJpxQa",
        "colab_type": "text"
      },
      "source": [
        "## Setup"
      ]
    },
    {
      "cell_type": "code",
      "metadata": {
        "id": "hqE7KOXBDSMj",
        "colab_type": "code",
        "colab": {}
      },
      "source": [
        "try:\n",
        "  from google.colab import auth\n",
        "  auth.authenticate_user()\n",
        "  print(\"Colab user is authenticated.\")\n",
        "except: pass"
      ],
      "execution_count": 0,
      "outputs": []
    },
    {
      "cell_type": "code",
      "metadata": {
        "id": "0sGt6PC9Dbti",
        "colab_type": "code",
        "colab": {}
      },
      "source": [
        "!pip install -U -q google-api-python-client\n",
        "!pip install -U -q pandas"
      ],
      "execution_count": 0,
      "outputs": []
    },
    {
      "cell_type": "code",
      "metadata": {
        "id": "1Kgv1ijYI3bV",
        "colab_type": "code",
        "colab": {}
      },
      "source": [
        "import os\n",
        "from tensorflow import io as tf_io\n",
        "import matplotlib.pyplot as plt\n",
        "import numpy as np"
      ],
      "execution_count": 0,
      "outputs": []
    },
    {
      "cell_type": "code",
      "metadata": {
        "id": "w3SMI1H_DknU",
        "colab_type": "code",
        "colab": {}
      },
      "source": [
        "PROJECT = 'sa-data-validation'\n",
        "BUCKET =  'sa-data-validation'\n",
        "GCS_DATA_LOCATION = 'gs://workshop-datasets/covertype/data_validation'\n",
        "REGION = 'us-central1'\n",
        "BUCKET = 'sa-data-validation'\n",
        "LOCAL_WORKSPACE = './workspace'\n",
        "LOCAL_DATA_DIR = os.path.join(LOCAL_WORKSPACE, 'data')\n",
        "LOCAL_DATA_FILE = os.path.join(LOCAL_DATA_DIR, 'train.csv')\n",
        "BQ_DATASET_NAME = 'data_validation'\n",
        "BQ_TABLE_NAME = 'covertype_classifier_logs'\n",
        "MODEL_NAME = 'covertype_classifier'\n",
        "VERSION_NAME = 'v2'\n",
        "MODEL_OUTPUT_KEY = 'probabilities'\n",
        "SIGNATURE_NAME = 'serving_default'"
      ],
      "execution_count": 0,
      "outputs": []
    },
    {
      "cell_type": "code",
      "metadata": {
        "id": "AaibI_P_Dwdz",
        "colab_type": "code",
        "colab": {}
      },
      "source": [
        "!gcloud config set project {PROJECT}"
      ],
      "execution_count": 0,
      "outputs": []
    },
    {
      "cell_type": "markdown",
      "metadata": {
        "id": "8tH1C0Yjp1Rw",
        "colab_type": "text"
      },
      "source": [
        "## 1. Download Data\n",
        "\n",
        "We use the [covertype](https://archive.ics.uci.edu/ml/datasets/covertype) from UCI Machine Learning Repository. The task is to Predict forest cover type from cartographic variables only. \n",
        "\n",
        "The dataset is preprocessed, split, and uploaded to uploaded to the `gs://workshop-datasets/covertype` public GCS location. \n",
        "\n",
        "We use this version of the preprocessed dataset in this notebook. For more information, see [Cover Type Dataset](https://github.com/GoogleCloudPlatform/mlops-on-gcp/tree/master/datasets/covertype)"
      ]
    },
    {
      "cell_type": "code",
      "metadata": {
        "id": "mPyEIzdTD1p0",
        "colab_type": "code",
        "colab": {}
      },
      "source": [
        "if tf_io.gfile.exists(LOCAL_WORKSPACE):\n",
        "  print(\"Removing previous workspace artifacts...\")\n",
        "  tf_io.gfile.rmtree(LOCAL_WORKSPACE)\n",
        "\n",
        "print(\"Creating a new workspace...\")\n",
        "tf_io.gfile.makedirs(LOCAL_WORKSPACE)\n",
        "tf_io.gfile.makedirs(LOCAL_DATA_DIR)"
      ],
      "execution_count": 0,
      "outputs": []
    },
    {
      "cell_type": "code",
      "metadata": {
        "id": "YDVDp0STEKB9",
        "colab_type": "code",
        "colab": {}
      },
      "source": [
        "!gsutil cp gs://workshop-datasets/covertype/data_validation/training/dataset.csv {LOCAL_DATA_FILE}\n",
        "!wc -l {LOCAL_DATA_FILE}"
      ],
      "execution_count": 0,
      "outputs": []
    },
    {
      "cell_type": "code",
      "metadata": {
        "id": "zbDx6WekEKZP",
        "colab_type": "code",
        "colab": {}
      },
      "source": [
        "import pandas as pd\n",
        "data = pd.read_csv(LOCAL_DATA_FILE)\n",
        "print(\"Total number of records: {}\".format(len(data.index)))\n",
        "data.sample(10).T"
      ],
      "execution_count": 0,
      "outputs": []
    },
    {
      "cell_type": "markdown",
      "metadata": {
        "id": "PNPxgqVCqE7J",
        "colab_type": "text"
      },
      "source": [
        "## 2. Define Metadata"
      ]
    },
    {
      "cell_type": "code",
      "metadata": {
        "id": "rvRdZIuoETkU",
        "colab_type": "code",
        "colab": {}
      },
      "source": [
        "HEADER = ['Elevation', 'Aspect', 'Slope','Horizontal_Distance_To_Hydrology',\n",
        "          'Vertical_Distance_To_Hydrology', 'Horizontal_Distance_To_Roadways',\n",
        "          'Hillshade_9am', 'Hillshade_Noon', 'Hillshade_3pm',\n",
        "          'Horizontal_Distance_To_Fire_Points', 'Wilderness_Area', 'Soil_Type',\n",
        "          'Cover_Type']\n",
        "\n",
        "TARGET_FEATURE_NAME = 'Cover_Type'\n",
        "\n",
        "FEATURE_LABELS = ['0', '1', '2', '3', '4', '5', '6']\n",
        "\n",
        "NUMERIC_FEATURE_NAMES = ['Aspect', 'Elevation', 'Hillshade_3pm', \n",
        "                         'Hillshade_9am', 'Hillshade_Noon', \n",
        "                         'Horizontal_Distance_To_Fire_Points',\n",
        "                         'Horizontal_Distance_To_Hydrology',\n",
        "                         'Horizontal_Distance_To_Roadways','Slope',\n",
        "                         'Vertical_Distance_To_Hydrology']\n",
        "\n",
        "CATEGORICAL_FEATURE_NAMES = ['Soil_Type', 'Wilderness_Area']\n",
        "\n",
        "FEATURE_NAMES = CATEGORICAL_FEATURE_NAMES + NUMERIC_FEATURE_NAMES\n",
        "\n",
        "HEADER_DEFAULTS = [[0] if feature_name in NUMERIC_FEATURE_NAMES + [TARGET_FEATURE_NAME] else ['NA'] \n",
        "                   for feature_name in HEADER]\n",
        "\n",
        "NUM_CLASSES = len(FEATURE_LABELS)"
      ],
      "execution_count": 0,
      "outputs": []
    },
    {
      "cell_type": "markdown",
      "metadata": {
        "id": "K0tufr6ROKbC",
        "colab_type": "text"
      },
      "source": [
        "#### create a container for the serving data"
      ]
    },
    {
      "cell_type": "code",
      "metadata": {
        "id": "wPb-CbwfOKjY",
        "colab_type": "code",
        "colab": {}
      },
      "source": [
        "serving_data = {\n",
        "    '2020-04-01': None,\n",
        "    '2020-04-02': None,\n",
        "    '2020-04-03': None,\n",
        "    '2020-04-04': None,\n",
        "    '2020-04-05': None,\n",
        "    '2020-04-06': None,\n",
        "}"
      ],
      "execution_count": 0,
      "outputs": []
    },
    {
      "cell_type": "markdown",
      "metadata": {
        "id": "gejOSnS_E_lo",
        "colab_type": "text"
      },
      "source": [
        "## 3. Sampling Unskewed Data\n",
        "\n",
        "* Sample data for *three* consecutive dates: **01-04-20202**, **02-04-2020**, and **03-04-2020**\n",
        "* Each day has 1000 examples\n",
        "* No altering is applied\n",
        "\n"
      ]
    },
    {
      "cell_type": "code",
      "metadata": {
        "id": "kNMF9rkpE_tz",
        "colab_type": "code",
        "colab": {}
      },
      "source": [
        "data_normal = data.sample(3000)"
      ],
      "execution_count": 0,
      "outputs": []
    },
    {
      "cell_type": "code",
      "metadata": {
        "id": "WYlqANUdGw0I",
        "colab_type": "code",
        "colab": {}
      },
      "source": [
        "fig, axes = plt.subplots(nrows=1, ncols=3, figsize=(20, 5))\n",
        "data_normal['Aspect'].plot.hist(bins=15, ax=axes[0], title='Aspect')\n",
        "data_normal['Wilderness_Area'].value_counts(normalize=True).plot.bar(ax=axes[1], title='Wilderness Area')\n",
        "data_normal[TARGET_FEATURE_NAME].value_counts(normalize=True).plot.bar(ax=axes[2], title=TARGET_FEATURE_NAME)"
      ],
      "execution_count": 0,
      "outputs": []
    },
    {
      "cell_type": "code",
      "metadata": {
        "id": "ateUWw4dI9X2",
        "colab_type": "code",
        "colab": {}
      },
      "source": [
        "normal_days_data_list =[\n",
        "                        data_normal[:1000],\n",
        "                        data_normal[1000:2000],\n",
        "                        data_normal[2000:]\n",
        "]\n"
      ],
      "execution_count": 0,
      "outputs": []
    },
    {
      "cell_type": "code",
      "metadata": {
        "id": "z82nsYFRL08q",
        "colab_type": "code",
        "colab": {}
      },
      "source": [
        "fig, axes = plt.subplots(nrows=1, ncols=3, figsize=(20, 5))\n",
        "for i, day_data in enumerate(normal_days_data_list):\n",
        "  data_normal['Aspect'].plot.hist(bins=15, ax=axes[i])"
      ],
      "execution_count": 0,
      "outputs": []
    },
    {
      "cell_type": "code",
      "metadata": {
        "id": "rQDj-0UBL2_g",
        "colab_type": "code",
        "colab": {}
      },
      "source": [
        "fig, axes = plt.subplots(nrows=1, ncols=3, figsize=(20, 5))\n",
        "for i, day_data in enumerate(normal_days_data_list):\n",
        "  data_normal['Wilderness_Area'].value_counts(normalize=True).plot.bar(ax=axes[i])"
      ],
      "execution_count": 0,
      "outputs": []
    },
    {
      "cell_type": "code",
      "metadata": {
        "id": "1zxjU-THQtLP",
        "colab_type": "code",
        "colab": {}
      },
      "source": [
        "fig, axes = plt.subplots(nrows=1, ncols=3, figsize=(20, 5))\n",
        "for i, day_data in enumerate(normal_days_data_list):\n",
        "  data_normal[TARGET_FEATURE_NAME].value_counts(normalize=True).plot.bar(ax=axes[i])"
      ],
      "execution_count": 0,
      "outputs": []
    },
    {
      "cell_type": "code",
      "metadata": {
        "id": "TblBzO47QDrT",
        "colab_type": "code",
        "colab": {}
      },
      "source": [
        "serving_data['2020-04-01'] = normal_days_data_list[0]\n",
        "serving_data['2020-04-02'] = normal_days_data_list[1]\n",
        "serving_data['2020-04-03'] = normal_days_data_list[2]"
      ],
      "execution_count": 0,
      "outputs": []
    },
    {
      "cell_type": "markdown",
      "metadata": {
        "id": "Lrp50MOhFK2y",
        "colab_type": "text"
      },
      "source": [
        "## 4. Preparing Skewed Data\n",
        "We are going to introduce the following skews to the data:\n",
        "1. **Numerical Features**\n",
        "  1. *Elevation - Feature Skew*: Convert the unit of measure from meters to kilometers in 2020-04-05\n",
        "  2. *Aspect - Distribution Skew*: gradual decrease of the value\n",
        "\n",
        "2. **Categorical Features**\n",
        "  1. *Wilderness_Area - Feature Skew*: Adding a new category \"Others\" in 2020-04-05\n",
        "  2. *Wilderness_Area - Distribution Skew*: Gradual increase of of the frequency of \"Cache\" and \"Neota\" values\n",
        "3. **Target Features**: check the change of the distribution of predictied class labels"
      ]
    },
    {
      "cell_type": "code",
      "metadata": {
        "id": "aabdFtM-FLCT",
        "colab_type": "code",
        "colab": {}
      },
      "source": [
        "data_to_skew = data.sample(3000)\n",
        "serving_data['2020-04-04'] = data_to_skew[:1000]\n",
        "serving_data['2020-04-05'] = data_to_skew[1000:2000]\n",
        "serving_data['2020-04-06'] = data_to_skew[2000:]"
      ],
      "execution_count": 0,
      "outputs": []
    },
    {
      "cell_type": "markdown",
      "metadata": {
        "id": "_nalaB83U75N",
        "colab_type": "text"
      },
      "source": [
        "### 4.1 Skew numerical features"
      ]
    },
    {
      "cell_type": "markdown",
      "metadata": {
        "id": "YdFqotRGWtXp",
        "colab_type": "text"
      },
      "source": [
        "#### 4.1.1 Elevation Feature Skew"
      ]
    },
    {
      "cell_type": "code",
      "metadata": {
        "id": "ROUARI9MU3w4",
        "colab_type": "code",
        "colab": {}
      },
      "source": [
        "serving_data['2020-04-05']['Elevation'] = serving_data['2020-04-05']['Elevation'] / 1000"
      ],
      "execution_count": 0,
      "outputs": []
    },
    {
      "cell_type": "code",
      "metadata": {
        "id": "LdiF7ONLVuM_",
        "colab_type": "code",
        "colab": {}
      },
      "source": [
        "fig, axes = plt.subplots(nrows=1, ncols=2, figsize=(20, 5))\n",
        "serving_data['2020-04-01']['Elevation'].plot.hist(bins=15, ax=axes[0], title='Elevation Meters')\n",
        "serving_data['2020-04-05']['Elevation'].plot.hist(bins=15, ax=axes[1], title='Elevation Kilometers')"
      ],
      "execution_count": 0,
      "outputs": []
    },
    {
      "cell_type": "markdown",
      "metadata": {
        "id": "POXFPHdtWzSw",
        "colab_type": "text"
      },
      "source": [
        "#### 4.1.2 Aspect Distribution Skew"
      ]
    },
    {
      "cell_type": "code",
      "metadata": {
        "id": "euB8qRnzWzaP",
        "colab_type": "code",
        "colab": {}
      },
      "source": [
        "serving_data['2020-04-04']['Aspect'] = serving_data['2020-04-04']['Aspect'].apply(\n",
        "    lambda value: value * np.random.uniform(0.90, 1) if value > 250 else value \n",
        ")\n",
        "\n",
        "serving_data['2020-04-05']['Aspect'] = serving_data['2020-04-05']['Aspect'].apply(\n",
        "    lambda value: value * np.random.uniform(0.85, 1) if value > 250 else value \n",
        ")\n",
        "\n",
        "serving_data['2020-04-06']['Aspect'] = serving_data['2020-04-06']['Aspect'].apply(\n",
        "    lambda value: value * np.random.uniform(0.80, 1) if value > 250 else value \n",
        ")"
      ],
      "execution_count": 0,
      "outputs": []
    },
    {
      "cell_type": "code",
      "metadata": {
        "id": "1Qga7opvY5Ir",
        "colab_type": "code",
        "colab": {}
      },
      "source": [
        "fig, axes = plt.subplots(nrows=2, ncols=3, figsize=(20, 10))\n",
        "serving_data['2020-04-01']['Aspect'].plot.hist(bins=15, ax=axes[0, 0], title='Aspect - day 1')\n",
        "serving_data['2020-04-02']['Aspect'].plot.hist(bins=15, ax=axes[0, 1], title='Aspect - day 2')\n",
        "serving_data['2020-04-03']['Aspect'].plot.hist(bins=15, ax=axes[0, 2], title='Aspect - day 3')\n",
        "serving_data['2020-04-04']['Aspect'].plot.hist(bins=15, ax=axes[1, 0], title='Aspect - day 4')\n",
        "serving_data['2020-04-05']['Aspect'].plot.hist(bins=15, ax=axes[1, 1], title='Aspect - day 5')\n",
        "serving_data['2020-04-06']['Aspect'].plot.hist(bins=15, ax=axes[1, 2], title='Aspect - day 6')"
      ],
      "execution_count": 0,
      "outputs": []
    },
    {
      "cell_type": "markdown",
      "metadata": {
        "id": "RDwWYPTnfTZ1",
        "colab_type": "text"
      },
      "source": [
        "### 4.2 Skew categorical features"
      ]
    },
    {
      "cell_type": "markdown",
      "metadata": {
        "id": "MuGay843fcQY",
        "colab_type": "text"
      },
      "source": [
        "#### 4.2.1 Wilderness Area Feature Skew\n",
        "Adding a new category \"Others\"\n"
      ]
    },
    {
      "cell_type": "code",
      "metadata": {
        "id": "sIXorDZff4yS",
        "colab_type": "code",
        "colab": {}
      },
      "source": [
        "serving_data['2020-04-05']['Wilderness_Area'] = serving_data['2020-04-05']['Wilderness_Area'].apply(\n",
        "    lambda value: 'Others' if np.random.uniform() <= 0.1 else value\n",
        ")"
      ],
      "execution_count": 0,
      "outputs": []
    },
    {
      "cell_type": "code",
      "metadata": {
        "id": "A725svb-gRaR",
        "colab_type": "code",
        "colab": {}
      },
      "source": [
        "fig, axes = plt.subplots(nrows=1, ncols=3, figsize=(20, 5))\n",
        "serving_data['2020-04-04']['Wilderness_Area'].value_counts(normalize=True).plot.bar(ax=axes[0], title='Wilderness Area - Normal')\n",
        "serving_data['2020-04-05']['Wilderness_Area'].value_counts(normalize=True).plot.bar(ax=axes[1], title='Wilderness Area - New Category')\n",
        "serving_data['2020-04-06']['Wilderness_Area'].value_counts(normalize=True).plot.bar(ax=axes[2], title='Wilderness Area - Normal')"
      ],
      "execution_count": 0,
      "outputs": []
    },
    {
      "cell_type": "markdown",
      "metadata": {
        "id": "zz8hhWluhSp9",
        "colab_type": "text"
      },
      "source": [
        "#### 4.2.2 Wilderness Area Distribution Skew"
      ]
    },
    {
      "cell_type": "code",
      "metadata": {
        "id": "aISRDXvrhSzR",
        "colab_type": "code",
        "colab": {}
      },
      "source": [
        "serving_data['2020-04-04']['Wilderness_Area'] = serving_data['2020-04-04']['Wilderness_Area'].apply(\n",
        "    lambda value: 'Neota' if value in ['Rawah', 'Commanche'] and np.random.uniform() <= 0.1 else value\n",
        ")\n",
        "\n",
        "serving_data['2020-04-05']['Wilderness_Area'] = serving_data['2020-04-05']['Wilderness_Area'].apply(\n",
        "    lambda value: 'Neota' if value in ['Rawah', 'Commanche'] and np.random.uniform() <= 0.15 else value\n",
        ")\n",
        "\n",
        "serving_data['2020-04-06']['Wilderness_Area'] = serving_data['2020-04-06']['Wilderness_Area'].apply(\n",
        "    lambda value: 'Neota' if value in ['Rawah', 'Commanche'] and np.random.uniform() <= 0.2 else value\n",
        ")"
      ],
      "execution_count": 0,
      "outputs": []
    },
    {
      "cell_type": "code",
      "metadata": {
        "id": "VjnFXyERi941",
        "colab_type": "code",
        "colab": {}
      },
      "source": [
        "fig, axes = plt.subplots(nrows=2, ncols=3, figsize=(20, 10))\n",
        "serving_data['2020-04-01']['Wilderness_Area'].value_counts(normalize=True).plot.bar(ax=axes[0, 0], title='Wilderness Area - day 1')\n",
        "serving_data['2020-04-02']['Wilderness_Area'].value_counts(normalize=True).plot.bar(ax=axes[0, 1], title='Wilderness Area - day 2')\n",
        "serving_data['2020-04-03']['Wilderness_Area'].value_counts(normalize=True).plot.bar(ax=axes[0, 2], title='Wilderness Area - day 3')\n",
        "serving_data['2020-04-04']['Wilderness_Area'].value_counts(normalize=True).plot.bar(ax=axes[1, 0], title='Wilderness Area - day 4')\n",
        "serving_data['2020-04-05']['Wilderness_Area'].value_counts(normalize=True).plot.bar(ax=axes[1, 1], title='Wilderness Area - day 5')\n",
        "serving_data['2020-04-06']['Wilderness_Area'].value_counts(normalize=True).plot.bar(ax=axes[1, 2], title='Wilderness Area - day 6')\n"
      ],
      "execution_count": 0,
      "outputs": []
    },
    {
      "cell_type": "markdown",
      "metadata": {
        "id": "Y0kQHXkdFGZJ",
        "colab_type": "text"
      },
      "source": [
        "## 5. Simulating serving workload"
      ]
    },
    {
      "cell_type": "markdown",
      "metadata": {
        "id": "2TCilipgUKKf",
        "colab_type": "text"
      },
      "source": [
        "### 5.1 Implement the model API client"
      ]
    },
    {
      "cell_type": "code",
      "metadata": {
        "id": "yEyoTL5wFlu9",
        "colab_type": "code",
        "colab": {}
      },
      "source": [
        "import googleapiclient.discovery\n",
        "import numpy as np\n",
        "\n",
        "service = googleapiclient.discovery.build('ml', 'v1')\n",
        "name = 'projects/{}/models/{}/versions/{}'.format(PROJECT, MODEL_NAME, VERSION_NAME)\n",
        "print(\"Service name: {}\".format(name))\n",
        "\n",
        "def caip_predict(instances):\n",
        "  \n",
        "  serving_instances = []\n",
        "  for instance in instances:\n",
        "    serving_instances.append(\n",
        "        {key: [value] for key, value in instance.items()})\n",
        "    \n",
        "  request_body={\n",
        "      'signature_name': SIGNATURE_NAME,\n",
        "      'instances': serving_instances}\n",
        "\n",
        "  response = service.projects().predict(\n",
        "      name=name,\n",
        "      body=request_body\n",
        "\n",
        "  ).execute()\n",
        "\n",
        "  if 'error' in response:\n",
        "    raise RuntimeError(response['error'])\n",
        "\n",
        "  probability_list = [output[MODEL_OUTPUT_KEY] for output in response['predictions']]\n",
        "  classes = [FEATURE_LABELS[int(np.argmax(probabilities))] for probabilities in probability_list]\n",
        "  return classes"
      ],
      "execution_count": 0,
      "outputs": []
    },
    {
      "cell_type": "markdown",
      "metadata": {
        "id": "quF2MGwjUWk9",
        "colab_type": "text"
      },
      "source": [
        "### 5.2 Prepare the request instances"
      ]
    },
    {
      "cell_type": "code",
      "metadata": {
        "id": "gc9l_w-aQg6M",
        "colab_type": "code",
        "colab": {}
      },
      "source": [
        "def prepare_instances(serving_data):\n",
        "  instances = []\n",
        "\n",
        "  for request_timestamp, data in serving_data.items():\n",
        "    for _, row in data.iterrows():\n",
        "      instance = dict()\n",
        "      for column_name in data.columns:\n",
        "        if column_name == TARGET_FEATURE_NAME: continue\n",
        "        instance[column_name] = str(row[column_name]) if column_name in CATEGORICAL_FEATURE_NAMES else row[column_name]\n",
        "      instance['request_timestamp'] = request_timestamp\n",
        "      instances.append(instance)\n",
        "\n",
        "  return instances\n"
      ],
      "execution_count": 0,
      "outputs": []
    },
    {
      "cell_type": "code",
      "metadata": {
        "id": "4t0vQlldRkDM",
        "colab_type": "code",
        "colab": {}
      },
      "source": [
        "import time\n",
        "\n",
        "def simulate_requests():\n",
        "  instances = prepare_instances(serving_data)\n",
        "\n",
        "  print(\"Simulation started...\")\n",
        "  print(\"--------------------\")\n",
        "  print(\"Number of instances: {}\".format(len(instances)))\n",
        "\n",
        "  for i, instance in enumerate(instances):\n",
        "    predicted_class = caip_predict([instance])\n",
        "    print(\".\", end='')\n",
        "    \n",
        "    if (i + 1) % 100 == 0:\n",
        "      print()\n",
        "      print(\"Sent {} requests.\".format(i + 1))\n",
        "\n",
        "    #time.sleep(0.1)\n",
        "  print(\"\")\n",
        "  print(\"--------------------\")\n",
        "  print(\"Simulation finised.\")\n",
        "    "
      ],
      "execution_count": 0,
      "outputs": []
    },
    {
      "cell_type": "code",
      "metadata": {
        "id": "8w_CtO5xTwjS",
        "colab_type": "code",
        "colab": {}
      },
      "source": [
        "simulate_requests()"
      ],
      "execution_count": 0,
      "outputs": []
    },
    {
      "cell_type": "code",
      "metadata": {
        "id": "SaH2HYFskmu4",
        "colab_type": "code",
        "colab": {}
      },
      "source": [
        ""
      ],
      "execution_count": 0,
      "outputs": []
    }
  ]
}