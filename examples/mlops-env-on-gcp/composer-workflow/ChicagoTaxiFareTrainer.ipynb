{
 "cells": [
  {
   "cell_type": "markdown",
   "metadata": {},
   "source": [
    "## Chicago taxi fare training experience \n",
    "\n",
    "This experiment using Scikit learn's Random Forest implementation to train a ML model on Chicago taxi dataset to estimate taxi trip fare. Selected approach, feature engineering is based on https://github.com/v-loves-avocados/chicago-taxi data exploration and analysis by [Aradhana Chaturvedi](https://www.linkedin.com/in/aradhana-chaturvedi-b91b8818)."
   ]
  },
  {
   "cell_type": "code",
   "execution_count": 19,
   "metadata": {},
   "outputs": [],
   "source": [
    "import numpy as np\n",
    "import pandas as pd\n",
    "from pandas_profiling import ProfileReport\n",
    "from joblib import dump, load\n",
    "from scipy import stats\n",
    "\n",
    "from sklearn.ensemble import RandomForestRegressor\n",
    "from sklearn.compose import ColumnTransformer\n",
    "from sklearn.model_selection import train_test_split, cross_val_score, GridSearchCV\n",
    "from sklearn.pipeline import Pipeline\n",
    "from sklearn.preprocessing import OneHotEncoder, StandardScaler\n",
    "\n",
    "import mlflow\n",
    "import mlflow.sklearn\n",
    "from mlflow.models.signature import infer_signature\n",
    "\n",
    "# plotting libraries:\n",
    "import matplotlib.pyplot as plt\n",
    "import matplotlib as mpl\n",
    "import seaborn as sns\n",
    "%matplotlib inline\n",
    "\n",
    "# Google clients\n",
    "import google.auth\n",
    "from google.cloud import bigquery\n",
    "from google.cloud import bigquery_storage\n",
    "\n",
    "# Default appearance\n",
    "sns.set(color_codes=True) #overide maplot libs ugly colours.\n",
    "mpl.rcParams['figure.figsize'] = [13, 8] #default figure size"
   ]
  },
  {
   "cell_type": "code",
   "execution_count": 20,
   "metadata": {},
   "outputs": [
    {
     "name": "stderr",
     "output_type": "stream",
     "text": [
      "/opt/conda/lib/python3.7/site-packages/ipykernel/ipkernel.py:287: DeprecationWarning: `should_run_async` will not call `transform_cell` automatically in the future. Please pass the result to `transformed_cell` argument and any exception that happen during thetransform in `preprocessing_exc_tuple` in IPython 7.17 and above.\n",
      "  and should_run_async(code)\n"
     ]
    }
   ],
   "source": [
    "BQ_DATASET = \"chicago_taxi_trips\"\n",
    "BQ_TABLE = \"taxi_trips\"\n",
    "BQ_QUERY = \"\"\"\n",
    "with tmp_table as (\n",
    "SELECT trip_seconds, trip_miles, fare, tolls, \n",
    "    company, pickup_latitude, pickup_longitude, dropoff_latitude, dropoff_longitude,\n",
    "    DATETIME(trip_start_timestamp, 'America/Chicago') trip_start_timestamp,\n",
    "    DATETIME(trip_end_timestamp, 'America/Chicago') trip_end_timestamp,\n",
    "    CASE WHEN (pickup_community_area IN (56, 64, 76)) OR (dropoff_community_area IN (56, 64, 76)) THEN 1 else 0 END is_airport,\n",
    "FROM `bigquery-public-data.chicago_taxi_trips.taxi_trips`\n",
    "WHERE\n",
    "  dropoff_latitude IS NOT NULL and\n",
    "  dropoff_longitude IS NOT NULL and\n",
    "  pickup_latitude IS NOT NULL and\n",
    "  pickup_longitude IS NOT NULL and\n",
    "  fare > 0 and \n",
    "  trip_miles > 0 and\n",
    "  MOD(ABS(FARM_FINGERPRINT(unique_key)), 100) {}\n",
    "ORDER BY RAND()\n",
    "LIMIT 20000)\n",
    "SELECT *,\n",
    "    EXTRACT(YEAR FROM trip_start_timestamp) trip_start_year,\n",
    "    EXTRACT(MONTH FROM trip_start_timestamp) trip_start_month,\n",
    "    EXTRACT(DAY FROM trip_start_timestamp) trip_start_day,\n",
    "    EXTRACT(HOUR FROM trip_start_timestamp) trip_start_hour,\n",
    "    FORMAT_DATE('%a', DATE(trip_start_timestamp)) trip_start_day_of_week\n",
    "FROM tmp_table\n",
    "\"\"\"\n",
    "\n",
    "# Create BigQuery client\n",
    "credentials, your_project_id = google.auth.default(\n",
    "    scopes=[\"https://www.googleapis.com/auth/cloud-platform\"]\n",
    ")\n",
    "bqclient = bigquery.Client(credentials=credentials, project=your_project_id,)\n",
    "bqstorageclient = bigquery_storage.BigQueryReadClient(credentials=credentials)"
   ]
  },
  {
   "cell_type": "markdown",
   "metadata": {},
   "source": [
    "### Query dataset"
   ]
  },
  {
   "cell_type": "code",
   "execution_count": 21,
   "metadata": {},
   "outputs": [],
   "source": [
    "df = (\n",
    "    bqclient.query(BQ_QUERY.format(\"between 0 and 99\"))\n",
    "    .result()\n",
    "    .to_dataframe(bqstorage_client=bqstorageclient)\n",
    ")"
   ]
  },
  {
   "cell_type": "markdown",
   "metadata": {},
   "source": [
    "### Column info\n",
    "\n",
    "Watch amount of null values in 'Non-Null Count column'"
   ]
  },
  {
   "cell_type": "code",
   "execution_count": 22,
   "metadata": {},
   "outputs": [
    {
     "name": "stdout",
     "output_type": "stream",
     "text": [
      "<class 'pandas.core.frame.DataFrame'>\n",
      "RangeIndex: 20000 entries, 0 to 19999\n",
      "Data columns (total 17 columns):\n",
      " #   Column                  Non-Null Count  Dtype         \n",
      "---  ------                  --------------  -----         \n",
      " 0   trip_seconds            19999 non-null  float64       \n",
      " 1   trip_miles              20000 non-null  float64       \n",
      " 2   fare                    20000 non-null  float64       \n",
      " 3   tolls                   15898 non-null  float64       \n",
      " 4   company                 16287 non-null  object        \n",
      " 5   pickup_latitude         20000 non-null  float64       \n",
      " 6   pickup_longitude        20000 non-null  float64       \n",
      " 7   dropoff_latitude        20000 non-null  float64       \n",
      " 8   dropoff_longitude       20000 non-null  float64       \n",
      " 9   trip_start_timestamp    20000 non-null  datetime64[ns]\n",
      " 10  trip_end_timestamp      20000 non-null  datetime64[ns]\n",
      " 11  is_airport              20000 non-null  int64         \n",
      " 12  trip_start_year         20000 non-null  int64         \n",
      " 13  trip_start_month        20000 non-null  int64         \n",
      " 14  trip_start_day          20000 non-null  int64         \n",
      " 15  trip_start_hour         20000 non-null  int64         \n",
      " 16  trip_start_day_of_week  20000 non-null  object        \n",
      "dtypes: datetime64[ns](2), float64(8), int64(5), object(2)\n",
      "memory usage: 2.6+ MB\n"
     ]
    },
    {
     "data": {
      "text/plain": [
       "None"
      ]
     },
     "metadata": {},
     "output_type": "display_data"
    }
   ],
   "source": [
    "display(df.info())"
   ]
  },
  {
   "cell_type": "markdown",
   "metadata": {},
   "source": [
    "### Raw descriptive statistics"
   ]
  },
  {
   "cell_type": "code",
   "execution_count": 23,
   "metadata": {},
   "outputs": [
    {
     "data": {
      "text/html": [
       "<div>\n",
       "<style scoped>\n",
       "    .dataframe tbody tr th:only-of-type {\n",
       "        vertical-align: middle;\n",
       "    }\n",
       "\n",
       "    .dataframe tbody tr th {\n",
       "        vertical-align: top;\n",
       "    }\n",
       "\n",
       "    .dataframe thead th {\n",
       "        text-align: right;\n",
       "    }\n",
       "</style>\n",
       "<table border=\"1\" class=\"dataframe\">\n",
       "  <thead>\n",
       "    <tr style=\"text-align: right;\">\n",
       "      <th></th>\n",
       "      <th>trip_seconds</th>\n",
       "      <th>trip_miles</th>\n",
       "      <th>fare</th>\n",
       "      <th>tolls</th>\n",
       "      <th>pickup_latitude</th>\n",
       "      <th>pickup_longitude</th>\n",
       "      <th>dropoff_latitude</th>\n",
       "      <th>dropoff_longitude</th>\n",
       "      <th>is_airport</th>\n",
       "      <th>trip_start_year</th>\n",
       "      <th>trip_start_month</th>\n",
       "      <th>trip_start_day</th>\n",
       "      <th>trip_start_hour</th>\n",
       "    </tr>\n",
       "  </thead>\n",
       "  <tbody>\n",
       "    <tr>\n",
       "      <th>count</th>\n",
       "      <td>19999.000000</td>\n",
       "      <td>20000.000000</td>\n",
       "      <td>20000.000000</td>\n",
       "      <td>15898.0</td>\n",
       "      <td>20000.000000</td>\n",
       "      <td>20000.000000</td>\n",
       "      <td>20000.000000</td>\n",
       "      <td>20000.000000</td>\n",
       "      <td>20000.000000</td>\n",
       "      <td>20000.000000</td>\n",
       "      <td>20000.000000</td>\n",
       "      <td>20000.00000</td>\n",
       "      <td>20000.000000</td>\n",
       "    </tr>\n",
       "    <tr>\n",
       "      <th>mean</th>\n",
       "      <td>845.438872</td>\n",
       "      <td>3.841460</td>\n",
       "      <td>12.903325</td>\n",
       "      <td>0.0</td>\n",
       "      <td>41.900434</td>\n",
       "      <td>-87.656891</td>\n",
       "      <td>41.900987</td>\n",
       "      <td>-87.654205</td>\n",
       "      <td>0.128400</td>\n",
       "      <td>2015.919300</td>\n",
       "      <td>6.505600</td>\n",
       "      <td>15.65755</td>\n",
       "      <td>11.087050</td>\n",
       "    </tr>\n",
       "    <tr>\n",
       "      <th>std</th>\n",
       "      <td>1180.802602</td>\n",
       "      <td>11.237028</td>\n",
       "      <td>11.230263</td>\n",
       "      <td>0.0</td>\n",
       "      <td>0.037356</td>\n",
       "      <td>0.069259</td>\n",
       "      <td>0.038678</td>\n",
       "      <td>0.058950</td>\n",
       "      <td>0.334543</td>\n",
       "      <td>1.887582</td>\n",
       "      <td>3.398874</td>\n",
       "      <td>8.66668</td>\n",
       "      <td>5.608212</td>\n",
       "    </tr>\n",
       "    <tr>\n",
       "      <th>min</th>\n",
       "      <td>0.000000</td>\n",
       "      <td>0.010000</td>\n",
       "      <td>0.010000</td>\n",
       "      <td>0.0</td>\n",
       "      <td>41.673820</td>\n",
       "      <td>-87.913625</td>\n",
       "      <td>41.663671</td>\n",
       "      <td>-87.913625</td>\n",
       "      <td>0.000000</td>\n",
       "      <td>2012.000000</td>\n",
       "      <td>1.000000</td>\n",
       "      <td>1.00000</td>\n",
       "      <td>0.000000</td>\n",
       "    </tr>\n",
       "    <tr>\n",
       "      <th>25%</th>\n",
       "      <td>360.000000</td>\n",
       "      <td>0.900000</td>\n",
       "      <td>6.250000</td>\n",
       "      <td>0.0</td>\n",
       "      <td>41.880994</td>\n",
       "      <td>-87.654007</td>\n",
       "      <td>41.880994</td>\n",
       "      <td>-87.655998</td>\n",
       "      <td>0.000000</td>\n",
       "      <td>2014.000000</td>\n",
       "      <td>4.000000</td>\n",
       "      <td>8.00000</td>\n",
       "      <td>7.000000</td>\n",
       "    </tr>\n",
       "    <tr>\n",
       "      <th>50%</th>\n",
       "      <td>600.000000</td>\n",
       "      <td>1.590000</td>\n",
       "      <td>8.440000</td>\n",
       "      <td>0.0</td>\n",
       "      <td>41.892073</td>\n",
       "      <td>-87.632746</td>\n",
       "      <td>41.892508</td>\n",
       "      <td>-87.633308</td>\n",
       "      <td>0.000000</td>\n",
       "      <td>2016.000000</td>\n",
       "      <td>6.000000</td>\n",
       "      <td>16.00000</td>\n",
       "      <td>11.000000</td>\n",
       "    </tr>\n",
       "    <tr>\n",
       "      <th>75%</th>\n",
       "      <td>971.000000</td>\n",
       "      <td>3.700000</td>\n",
       "      <td>13.650000</td>\n",
       "      <td>0.0</td>\n",
       "      <td>41.907492</td>\n",
       "      <td>-87.626211</td>\n",
       "      <td>41.919225</td>\n",
       "      <td>-87.626211</td>\n",
       "      <td>0.000000</td>\n",
       "      <td>2017.000000</td>\n",
       "      <td>9.000000</td>\n",
       "      <td>23.00000</td>\n",
       "      <td>15.000000</td>\n",
       "    </tr>\n",
       "    <tr>\n",
       "      <th>max</th>\n",
       "      <td>66091.000000</td>\n",
       "      <td>1320.000000</td>\n",
       "      <td>117.500000</td>\n",
       "      <td>0.0</td>\n",
       "      <td>42.009623</td>\n",
       "      <td>-87.551428</td>\n",
       "      <td>42.009623</td>\n",
       "      <td>-87.534903</td>\n",
       "      <td>1.000000</td>\n",
       "      <td>2020.000000</td>\n",
       "      <td>12.000000</td>\n",
       "      <td>31.00000</td>\n",
       "      <td>23.000000</td>\n",
       "    </tr>\n",
       "  </tbody>\n",
       "</table>\n",
       "</div>"
      ],
      "text/plain": [
       "       trip_seconds    trip_miles          fare    tolls  pickup_latitude  \\\n",
       "count  19999.000000  20000.000000  20000.000000  15898.0     20000.000000   \n",
       "mean     845.438872      3.841460     12.903325      0.0        41.900434   \n",
       "std     1180.802602     11.237028     11.230263      0.0         0.037356   \n",
       "min        0.000000      0.010000      0.010000      0.0        41.673820   \n",
       "25%      360.000000      0.900000      6.250000      0.0        41.880994   \n",
       "50%      600.000000      1.590000      8.440000      0.0        41.892073   \n",
       "75%      971.000000      3.700000     13.650000      0.0        41.907492   \n",
       "max    66091.000000   1320.000000    117.500000      0.0        42.009623   \n",
       "\n",
       "       pickup_longitude  dropoff_latitude  dropoff_longitude    is_airport  \\\n",
       "count      20000.000000      20000.000000       20000.000000  20000.000000   \n",
       "mean         -87.656891         41.900987         -87.654205      0.128400   \n",
       "std            0.069259          0.038678           0.058950      0.334543   \n",
       "min          -87.913625         41.663671         -87.913625      0.000000   \n",
       "25%          -87.654007         41.880994         -87.655998      0.000000   \n",
       "50%          -87.632746         41.892508         -87.633308      0.000000   \n",
       "75%          -87.626211         41.919225         -87.626211      0.000000   \n",
       "max          -87.551428         42.009623         -87.534903      1.000000   \n",
       "\n",
       "       trip_start_year  trip_start_month  trip_start_day  trip_start_hour  \n",
       "count     20000.000000      20000.000000     20000.00000     20000.000000  \n",
       "mean       2015.919300          6.505600        15.65755        11.087050  \n",
       "std           1.887582          3.398874         8.66668         5.608212  \n",
       "min        2012.000000          1.000000         1.00000         0.000000  \n",
       "25%        2014.000000          4.000000         8.00000         7.000000  \n",
       "50%        2016.000000          6.000000        16.00000        11.000000  \n",
       "75%        2017.000000          9.000000        23.00000        15.000000  \n",
       "max        2020.000000         12.000000        31.00000        23.000000  "
      ]
     },
     "metadata": {},
     "output_type": "display_data"
    }
   ],
   "source": [
    "display(df.describe())"
   ]
  },
  {
   "cell_type": "markdown",
   "metadata": {},
   "source": [
    "### Feature engineering"
   ]
  },
  {
   "cell_type": "code",
   "execution_count": 24,
   "metadata": {},
   "outputs": [
    {
     "name": "stderr",
     "output_type": "stream",
     "text": [
      "/opt/conda/lib/python3.7/site-packages/ipykernel/ipkernel.py:287: DeprecationWarning: `should_run_async` will not call `transform_cell` automatically in the future. Please pass the result to `transformed_cell` argument and any exception that happen during thetransform in `preprocessing_exc_tuple` in IPython 7.17 and above.\n",
      "  and should_run_async(code)\n"
     ]
    }
   ],
   "source": [
    "def feature_engineering(data):\n",
    "    # Add 'N/A' for missing 'Company'\n",
    "    data.fillna(value={'company':'N/A','tolls':0}, inplace=True)\n",
    "    # Drop rows contains null data.\n",
    "    data.dropna(how='any', axis='rows', inplace=True)\n",
    "    # Pickup and dropoff locations distance\n",
    "    data[\"abs_distance\"] = (np.hypot(data[\"dropoff_latitude\"]-data[\"pickup_latitude\"], data[\"dropoff_longitude\"]-data[\"pickup_longitude\"]))*100\n",
    "\n",
    "    # Remove extremes, outliers\n",
    "    possible_outliers_cols = ['trip_seconds', 'trip_miles', 'fare', 'abs_distance']\n",
    "    data=data[(np.abs(stats.zscore(data[possible_outliers_cols])) < 3).all(axis=1)].copy()\n",
    "    # Reduce location accuracy\n",
    "    data=data.round({'pickup_latitude': 3, 'pickup_longitude': 3, 'dropoff_latitude':3, 'dropoff_longitude':3})\n",
    "    return data"
   ]
  },
  {
   "cell_type": "code",
   "execution_count": 25,
   "metadata": {},
   "outputs": [
    {
     "data": {
      "text/html": [
       "<div>\n",
       "<style scoped>\n",
       "    .dataframe tbody tr th:only-of-type {\n",
       "        vertical-align: middle;\n",
       "    }\n",
       "\n",
       "    .dataframe tbody tr th {\n",
       "        vertical-align: top;\n",
       "    }\n",
       "\n",
       "    .dataframe thead th {\n",
       "        text-align: right;\n",
       "    }\n",
       "</style>\n",
       "<table border=\"1\" class=\"dataframe\">\n",
       "  <thead>\n",
       "    <tr style=\"text-align: right;\">\n",
       "      <th></th>\n",
       "      <th>trip_seconds</th>\n",
       "      <th>trip_miles</th>\n",
       "      <th>fare</th>\n",
       "      <th>tolls</th>\n",
       "      <th>pickup_latitude</th>\n",
       "      <th>pickup_longitude</th>\n",
       "      <th>dropoff_latitude</th>\n",
       "      <th>dropoff_longitude</th>\n",
       "      <th>is_airport</th>\n",
       "      <th>trip_start_year</th>\n",
       "      <th>trip_start_month</th>\n",
       "      <th>trip_start_day</th>\n",
       "      <th>trip_start_hour</th>\n",
       "      <th>abs_distance</th>\n",
       "    </tr>\n",
       "  </thead>\n",
       "  <tbody>\n",
       "    <tr>\n",
       "      <th>count</th>\n",
       "      <td>19226.000000</td>\n",
       "      <td>19226.000000</td>\n",
       "      <td>19226.000000</td>\n",
       "      <td>19226.0</td>\n",
       "      <td>19226.000000</td>\n",
       "      <td>19226.000000</td>\n",
       "      <td>19226.000000</td>\n",
       "      <td>19226.000000</td>\n",
       "      <td>19226.000000</td>\n",
       "      <td>19226.000000</td>\n",
       "      <td>19226.000000</td>\n",
       "      <td>19226.000000</td>\n",
       "      <td>19226.000000</td>\n",
       "      <td>19226.000000</td>\n",
       "    </tr>\n",
       "    <tr>\n",
       "      <th>mean</th>\n",
       "      <td>752.596588</td>\n",
       "      <td>3.153647</td>\n",
       "      <td>11.616097</td>\n",
       "      <td>0.0</td>\n",
       "      <td>41.899200</td>\n",
       "      <td>-87.652258</td>\n",
       "      <td>41.900203</td>\n",
       "      <td>-87.650938</td>\n",
       "      <td>0.096952</td>\n",
       "      <td>2015.906897</td>\n",
       "      <td>6.504005</td>\n",
       "      <td>15.657547</td>\n",
       "      <td>11.146260</td>\n",
       "      <td>4.677448</td>\n",
       "    </tr>\n",
       "    <tr>\n",
       "      <th>std</th>\n",
       "      <td>603.716920</td>\n",
       "      <td>4.184648</td>\n",
       "      <td>9.083996</td>\n",
       "      <td>0.0</td>\n",
       "      <td>0.035887</td>\n",
       "      <td>0.060654</td>\n",
       "      <td>0.037686</td>\n",
       "      <td>0.051092</td>\n",
       "      <td>0.295900</td>\n",
       "      <td>1.884732</td>\n",
       "      <td>3.410381</td>\n",
       "      <td>8.669080</td>\n",
       "      <td>5.606075</td>\n",
       "      <td>6.508893</td>\n",
       "    </tr>\n",
       "    <tr>\n",
       "      <th>min</th>\n",
       "      <td>0.000000</td>\n",
       "      <td>0.010000</td>\n",
       "      <td>0.010000</td>\n",
       "      <td>0.0</td>\n",
       "      <td>41.674000</td>\n",
       "      <td>-87.914000</td>\n",
       "      <td>41.664000</td>\n",
       "      <td>-87.914000</td>\n",
       "      <td>0.000000</td>\n",
       "      <td>2012.000000</td>\n",
       "      <td>1.000000</td>\n",
       "      <td>1.000000</td>\n",
       "      <td>0.000000</td>\n",
       "      <td>0.000000</td>\n",
       "    </tr>\n",
       "    <tr>\n",
       "      <th>25%</th>\n",
       "      <td>360.000000</td>\n",
       "      <td>0.800000</td>\n",
       "      <td>6.250000</td>\n",
       "      <td>0.0</td>\n",
       "      <td>41.881000</td>\n",
       "      <td>-87.651000</td>\n",
       "      <td>41.881000</td>\n",
       "      <td>-87.656000</td>\n",
       "      <td>0.000000</td>\n",
       "      <td>2014.000000</td>\n",
       "      <td>4.000000</td>\n",
       "      <td>8.000000</td>\n",
       "      <td>7.000000</td>\n",
       "      <td>1.241323</td>\n",
       "    </tr>\n",
       "    <tr>\n",
       "      <th>50%</th>\n",
       "      <td>598.000000</td>\n",
       "      <td>1.500000</td>\n",
       "      <td>8.250000</td>\n",
       "      <td>0.0</td>\n",
       "      <td>41.892000</td>\n",
       "      <td>-87.633000</td>\n",
       "      <td>41.893000</td>\n",
       "      <td>-87.633000</td>\n",
       "      <td>0.000000</td>\n",
       "      <td>2016.000000</td>\n",
       "      <td>6.000000</td>\n",
       "      <td>16.000000</td>\n",
       "      <td>11.000000</td>\n",
       "      <td>2.264018</td>\n",
       "    </tr>\n",
       "    <tr>\n",
       "      <th>75%</th>\n",
       "      <td>900.000000</td>\n",
       "      <td>3.300000</td>\n",
       "      <td>12.650000</td>\n",
       "      <td>0.0</td>\n",
       "      <td>41.906000</td>\n",
       "      <td>-87.626000</td>\n",
       "      <td>41.915000</td>\n",
       "      <td>-87.626000</td>\n",
       "      <td>0.000000</td>\n",
       "      <td>2017.000000</td>\n",
       "      <td>9.000000</td>\n",
       "      <td>23.000000</td>\n",
       "      <td>15.000000</td>\n",
       "      <td>4.820092</td>\n",
       "    </tr>\n",
       "    <tr>\n",
       "      <th>max</th>\n",
       "      <td>4380.000000</td>\n",
       "      <td>35.000000</td>\n",
       "      <td>46.500000</td>\n",
       "      <td>0.0</td>\n",
       "      <td>42.010000</td>\n",
       "      <td>-87.551000</td>\n",
       "      <td>42.010000</td>\n",
       "      <td>-87.535000</td>\n",
       "      <td>1.000000</td>\n",
       "      <td>2020.000000</td>\n",
       "      <td>12.000000</td>\n",
       "      <td>31.000000</td>\n",
       "      <td>23.000000</td>\n",
       "      <td>29.004328</td>\n",
       "    </tr>\n",
       "  </tbody>\n",
       "</table>\n",
       "</div>"
      ],
      "text/plain": [
       "       trip_seconds    trip_miles          fare    tolls  pickup_latitude  \\\n",
       "count  19226.000000  19226.000000  19226.000000  19226.0     19226.000000   \n",
       "mean     752.596588      3.153647     11.616097      0.0        41.899200   \n",
       "std      603.716920      4.184648      9.083996      0.0         0.035887   \n",
       "min        0.000000      0.010000      0.010000      0.0        41.674000   \n",
       "25%      360.000000      0.800000      6.250000      0.0        41.881000   \n",
       "50%      598.000000      1.500000      8.250000      0.0        41.892000   \n",
       "75%      900.000000      3.300000     12.650000      0.0        41.906000   \n",
       "max     4380.000000     35.000000     46.500000      0.0        42.010000   \n",
       "\n",
       "       pickup_longitude  dropoff_latitude  dropoff_longitude    is_airport  \\\n",
       "count      19226.000000      19226.000000       19226.000000  19226.000000   \n",
       "mean         -87.652258         41.900203         -87.650938      0.096952   \n",
       "std            0.060654          0.037686           0.051092      0.295900   \n",
       "min          -87.914000         41.664000         -87.914000      0.000000   \n",
       "25%          -87.651000         41.881000         -87.656000      0.000000   \n",
       "50%          -87.633000         41.893000         -87.633000      0.000000   \n",
       "75%          -87.626000         41.915000         -87.626000      0.000000   \n",
       "max          -87.551000         42.010000         -87.535000      1.000000   \n",
       "\n",
       "       trip_start_year  trip_start_month  trip_start_day  trip_start_hour  \\\n",
       "count     19226.000000      19226.000000    19226.000000     19226.000000   \n",
       "mean       2015.906897          6.504005       15.657547        11.146260   \n",
       "std           1.884732          3.410381        8.669080         5.606075   \n",
       "min        2012.000000          1.000000        1.000000         0.000000   \n",
       "25%        2014.000000          4.000000        8.000000         7.000000   \n",
       "50%        2016.000000          6.000000       16.000000        11.000000   \n",
       "75%        2017.000000          9.000000       23.000000        15.000000   \n",
       "max        2020.000000         12.000000       31.000000        23.000000   \n",
       "\n",
       "       abs_distance  \n",
       "count  19226.000000  \n",
       "mean       4.677448  \n",
       "std        6.508893  \n",
       "min        0.000000  \n",
       "25%        1.241323  \n",
       "50%        2.264018  \n",
       "75%        4.820092  \n",
       "max       29.004328  "
      ]
     },
     "metadata": {},
     "output_type": "display_data"
    }
   ],
   "source": [
    "df=feature_engineering(df)\n",
    "display(df.describe())"
   ]
  },
  {
   "cell_type": "markdown",
   "metadata": {},
   "source": [
    "#### Remaining null values per column after feature engineering"
   ]
  },
  {
   "cell_type": "code",
   "execution_count": 26,
   "metadata": {},
   "outputs": [
    {
     "name": "stdout",
     "output_type": "stream",
     "text": [
      "abs_distance              0\n",
      "trip_start_day_of_week    0\n",
      "trip_miles                0\n",
      "fare                      0\n",
      "tolls                     0\n",
      "company                   0\n",
      "pickup_latitude           0\n",
      "pickup_longitude          0\n",
      "dropoff_latitude          0\n",
      "dropoff_longitude         0\n",
      "trip_start_timestamp      0\n",
      "trip_end_timestamp        0\n",
      "is_airport                0\n",
      "trip_start_year           0\n",
      "trip_start_month          0\n",
      "trip_start_day            0\n",
      "trip_start_hour           0\n",
      "trip_seconds              0\n",
      "dtype: int64\n"
     ]
    },
    {
     "name": "stderr",
     "output_type": "stream",
     "text": [
      "/opt/conda/lib/python3.7/site-packages/ipykernel/ipkernel.py:287: DeprecationWarning: `should_run_async` will not call `transform_cell` automatically in the future. Please pass the result to `transformed_cell` argument and any exception that happen during thetransform in `preprocessing_exc_tuple` in IPython 7.17 and above.\n",
      "  and should_run_async(code)\n"
     ]
    }
   ],
   "source": [
    "print(df.isnull().sum().sort_values(ascending=False))"
   ]
  },
  {
   "cell_type": "markdown",
   "metadata": {},
   "source": [
    "### Data profiling\n",
    "\n",
    "(executing the next cell takes long time)"
   ]
  },
  {
   "cell_type": "code",
   "execution_count": null,
   "metadata": {},
   "outputs": [
    {
     "data": {
      "application/vnd.jupyter.widget-view+json": {
       "model_id": "a0c238495c7b41ec977ccaa02de93c77",
       "version_major": 2,
       "version_minor": 0
      },
      "text/plain": [
       "HBox(children=(HTML(value='Summarize dataset'), FloatProgress(value=0.0, max=33.0), HTML(value='')))"
      ]
     },
     "metadata": {},
     "output_type": "display_data"
    }
   ],
   "source": [
    "ProfileReport(df, title='Chicago taxi dataset profiling Report').to_notebook_iframe()"
   ]
  },
  {
   "cell_type": "markdown",
   "metadata": {},
   "source": [
    "### Visual dropoff locations"
   ]
  },
  {
   "cell_type": "code",
   "execution_count": null,
   "metadata": {},
   "outputs": [],
   "source": [
    "sc = plt.scatter(df.dropoff_longitude, df.dropoff_latitude, c = df[\"fare\"], cmap = \"summer\")\n",
    "plt.colorbar(sc)"
   ]
  },
  {
   "cell_type": "markdown",
   "metadata": {},
   "source": [
    "#### Location histograms"
   ]
  },
  {
   "cell_type": "code",
   "execution_count": null,
   "metadata": {},
   "outputs": [],
   "source": [
    "fig, axs = plt.subplots(2)\n",
    "fig.suptitle('Pickup location histograms')\n",
    "df.hist('pickup_longitude', bins=100, ax=axs[0])\n",
    "df.hist('pickup_latitude', bins=100, ax=axs[1])\n",
    "plt.show()\n",
    "\n",
    "fig, axs = plt.subplots(2)\n",
    "fig.suptitle('Dropoff location histograms')\n",
    "df.hist('dropoff_longitude', bins=100, ax=axs[0])\n",
    "df.hist('dropoff_latitude', bins=100, ax=axs[1])\n",
    "plt.show()"
   ]
  },
  {
   "cell_type": "markdown",
   "metadata": {},
   "source": [
    "### Time based explorations"
   ]
  },
  {
   "cell_type": "markdown",
   "metadata": {},
   "source": [
    "#### Trip start distribution"
   ]
  },
  {
   "cell_type": "code",
   "execution_count": null,
   "metadata": {},
   "outputs": [],
   "source": [
    "fig, axs = plt.subplots(4)\n",
    "fig.suptitle('Trip start histograms')\n",
    "fig.set_size_inches(18, 12, forward=True)\n",
    "df.hist('trip_start_year', bins=8, ax=axs[0], )\n",
    "df.hist('trip_start_month', bins=12, ax=axs[1])\n",
    "df.hist('trip_start_day', bins=31, ax=axs[2])\n",
    "df.hist('trip_start_hour', bins=24, ax=axs[3])\n",
    "plt.show()"
   ]
  },
  {
   "cell_type": "markdown",
   "metadata": {},
   "source": [
    "#### Trip loginess"
   ]
  },
  {
   "cell_type": "code",
   "execution_count": null,
   "metadata": {},
   "outputs": [],
   "source": [
    "fig, axs = plt.subplots(2)\n",
    "fig.set_size_inches(18, 8, forward=True)\n",
    "df.hist('trip_miles', bins=50, ax=axs[0])\n",
    "df.hist('trip_seconds', bins=50, ax=axs[1])\n",
    "plt.show()"
   ]
  },
  {
   "cell_type": "markdown",
   "metadata": {},
   "source": [
    "#### Fare by trip start hour"
   ]
  },
  {
   "cell_type": "code",
   "execution_count": null,
   "metadata": {},
   "outputs": [],
   "source": [
    "display(df.groupby(\"trip_start_hour\")[\"fare\"].mean().plot())"
   ]
  },
  {
   "cell_type": "markdown",
   "metadata": {},
   "source": [
    "### Split dataframe to examples and output"
   ]
  },
  {
   "cell_type": "code",
   "execution_count": null,
   "metadata": {},
   "outputs": [],
   "source": [
    "# Drop complex fields and split dataframe to examples and output\n",
    "mlflow.log_param('training_shape', f'{df.shape}')\n",
    "\n",
    "X=df.drop(['trip_start_timestamp'],axis=1)\n",
    "y=df['fare']"
   ]
  },
  {
   "cell_type": "markdown",
   "metadata": {},
   "source": [
    "### Training pipeline"
   ]
  },
  {
   "cell_type": "code",
   "execution_count": null,
   "metadata": {},
   "outputs": [],
   "source": [
    "ct_pipe = ColumnTransformer(transformers=[\n",
    "    ('hourly_cat', OneHotEncoder(categories=[range(0,24)], sparse = False), [\"trip_start_hour\"]),\n",
    "    ('dow', OneHotEncoder(categories=[['Mon', 'Tue', 'Sun', 'Wed', 'Sat', 'Fri', 'Thu']], sparse = False), [\"trip_start_day_of_week\"]),\n",
    "    ('std_scaler', StandardScaler(), [\n",
    "        'trip_start_year',\n",
    "        'abs_distance',\n",
    "        'pickup_longitude',\n",
    "        'pickup_latitude',\n",
    "        'dropoff_longitude',\n",
    "        'dropoff_latitude',\n",
    "        'trip_miles',\n",
    "        'trip_seconds'])\n",
    "])\n",
    "\n",
    "X_train, X_test, y_train, y_test = train_test_split(X, y, test_size=0.25, random_state=123)\n",
    "X_train=X_train.drop('fare', axis=1)"
   ]
  },
  {
   "cell_type": "code",
   "execution_count": null,
   "metadata": {},
   "outputs": [],
   "source": [
    "# for more details: https://scikit-learn.org/stable/modules/generated/sklearn.ensemble.RandomForestRegressor.html\n",
    "rfr_pipe = Pipeline([\n",
    "    ('ct', ct_pipe),\n",
    "    ('forest_reg', RandomForestRegressor(\n",
    "        n_estimators = 20,\n",
    "        max_features = 'auto',\n",
    "        n_jobs = -1,\n",
    "        random_state = 3,\n",
    "        max_depth=None,\n",
    "        max_leaf_nodes=None,\n",
    "    ))\n",
    "])\n",
    "\n",
    "rfr_score = cross_val_score(rfr_pipe, X_train, y_train, scoring = \"neg_mean_squared_error\", cv = 5)\n",
    "rfr_rmse = np.sqrt(-rfr_score)\n",
    "rfr_rmse.mean()\n",
    "mlflow.log_metric(\"train_cross_valid_score_rmse_mean\", np.sqrt(-rfr_score).mean())\n",
    "mlflow.log_param(\"number_of_estimators\", 20)"
   ]
  },
  {
   "cell_type": "markdown",
   "metadata": {},
   "source": [
    "#### Option 1: Simple training\n",
    "(~fast)"
   ]
  },
  {
   "cell_type": "code",
   "execution_count": null,
   "metadata": {},
   "outputs": [],
   "source": [
    "# To see all RandomForestRegressor hyper parameters:\n",
    "# estimator=RandomForestRegressor()\n",
    "# display(estimator.get_params())\n",
    "\n",
    "# Train model\n",
    "mlflow.set_experiment(\"chicago-taxi-0\")\n",
    "# mlflow.sklearn.autolog()\n",
    "with mlflow.start_run(nested=True) as mlflow_run:\n",
    "    final_model=rfr_pipe.fit(X_train, y_train)\n",
    "    mlflow.sklearn.log_model(final_model, \"chicago_rnd_forest\")"
   ]
  },
  {
   "cell_type": "markdown",
   "metadata": {},
   "source": [
    "#### Option 2: Parameter search + training\n",
    "(time consuming)"
   ]
  },
  {
   "cell_type": "code",
   "execution_count": null,
   "metadata": {},
   "outputs": [],
   "source": [
    "param_grid = {'forest_reg__n_estimators': [5, 250], 'forest_reg__max_features': [6, 16, 'auto']}\n",
    "forest_gs = GridSearchCV(rfr_pipe, param_grid, cv = 5, scoring = 'neg_mean_squared_error', n_jobs = -1)\n",
    "forest_gs.fit(X_train, y_train)\n",
    "print(f'Best parameters: {forest_gs.best_params_}')\n",
    "print(f'Best score: {np.sqrt(-forest_gs.best_score_)}')\n",
    "\n",
    "print(f'(All scores: {np.sqrt(-forest_gs.cv_results_[\"mean_test_score\"])})')\n",
    "\n",
    "final_model=forest_gs.best_estimator_"
   ]
  },
  {
   "cell_type": "markdown",
   "metadata": {},
   "source": [
    "### Prediction test"
   ]
  },
  {
   "cell_type": "code",
   "execution_count": null,
   "metadata": {},
   "outputs": [],
   "source": [
    "X_pred = pd.DataFrame(X_test, columns=X_test.columns)\n",
    "X_pred['fare_pred'] = final_model.predict(X_test.drop('fare',axis=1))\n",
    "X_pred.head(5)"
   ]
  },
  {
   "cell_type": "markdown",
   "metadata": {},
   "source": [
    "### Cross validation score to test set"
   ]
  },
  {
   "cell_type": "code",
   "execution_count": null,
   "metadata": {},
   "outputs": [],
   "source": [
    "rfr_score = cross_val_score(final_model, X_test, y_test, scoring='neg_mean_squared_error', cv = 5)\n",
    "rfr_rmse = np.sqrt(-rfr_score)\n",
    "rfr_rmse.mean()\n",
    "mlflow.log_metric(\"eval_cross_valid_score_rmse_mean\", np.sqrt(-rfr_score).mean())"
   ]
  },
  {
   "cell_type": "code",
   "execution_count": 65,
   "metadata": {},
   "outputs": [
    {
     "name": "stdout",
     "output_type": "stream",
     "text": [
      "<Experiment: artifact_location='gs://mlops-50-artifacts/experiments/6', experiment_id='6', lifecycle_stage='active', name='chicago-taxi-1', tags={}>\n"
     ]
    },
    {
     "name": "stderr",
     "output_type": "stream",
     "text": [
      "/opt/conda/lib/python3.7/site-packages/ipykernel/ipkernel.py:287: DeprecationWarning: `should_run_async` will not call `transform_cell` automatically in the future. Please pass the result to `transformed_cell` argument and any exception that happen during thetransform in `preprocessing_exc_tuple` in IPython 7.17 and above.\n",
      "  and should_run_async(code)\n"
     ]
    },
    {
     "data": {
      "text/html": [
       "<div>\n",
       "<style scoped>\n",
       "    .dataframe tbody tr th:only-of-type {\n",
       "        vertical-align: middle;\n",
       "    }\n",
       "\n",
       "    .dataframe tbody tr th {\n",
       "        vertical-align: top;\n",
       "    }\n",
       "\n",
       "    .dataframe thead th {\n",
       "        text-align: right;\n",
       "    }\n",
       "</style>\n",
       "<table border=\"1\" class=\"dataframe\">\n",
       "  <thead>\n",
       "    <tr style=\"text-align: right;\">\n",
       "      <th></th>\n",
       "      <th>run_id</th>\n",
       "      <th>experiment_id</th>\n",
       "      <th>status</th>\n",
       "      <th>artifact_uri</th>\n",
       "      <th>start_time</th>\n",
       "      <th>end_time</th>\n",
       "      <th>metrics.train_cross_valid_score_rmse_mean</th>\n",
       "      <th>metrics.eval_cross_valid_score_rmse_mean</th>\n",
       "      <th>params.number_of_estimators</th>\n",
       "      <th>tags.job_name</th>\n",
       "      <th>tags.mlflow.source.name</th>\n",
       "      <th>tags.mlflow.user</th>\n",
       "      <th>tags.mlflow.source.type</th>\n",
       "      <th>tags.version</th>\n",
       "    </tr>\n",
       "  </thead>\n",
       "  <tbody>\n",
       "    <tr>\n",
       "      <th>0</th>\n",
       "      <td>627a7528afc94fba8882493434cd0ce5</td>\n",
       "      <td>6</td>\n",
       "      <td>FINISHED</td>\n",
       "      <td>gs://mlops-50-artifacts/experiments/6/627a7528...</td>\n",
       "      <td>2021-01-18 20:54:24.071000+00:00</td>\n",
       "      <td>2021-01-18 20:54:24.289000+00:00</td>\n",
       "      <td>0.628741</td>\n",
       "      <td>0.572777</td>\n",
       "      <td>99</td>\n",
       "      <td>training_job_20210118_205422_1</td>\n",
       "      <td>/usr/local/bin/airflow</td>\n",
       "      <td>airflow</td>\n",
       "      <td>LOCAL</td>\n",
       "      <td>fake</td>\n",
       "    </tr>\n",
       "  </tbody>\n",
       "</table>\n",
       "</div>"
      ],
      "text/plain": [
       "                             run_id experiment_id    status  \\\n",
       "0  627a7528afc94fba8882493434cd0ce5             6  FINISHED   \n",
       "\n",
       "                                        artifact_uri  \\\n",
       "0  gs://mlops-50-artifacts/experiments/6/627a7528...   \n",
       "\n",
       "                        start_time                         end_time  \\\n",
       "0 2021-01-18 20:54:24.071000+00:00 2021-01-18 20:54:24.289000+00:00   \n",
       "\n",
       "   metrics.train_cross_valid_score_rmse_mean  \\\n",
       "0                                   0.628741   \n",
       "\n",
       "   metrics.eval_cross_valid_score_rmse_mean params.number_of_estimators  \\\n",
       "0                                  0.572777                          99   \n",
       "\n",
       "                    tags.job_name tags.mlflow.source.name tags.mlflow.user  \\\n",
       "0  training_job_20210118_205422_1  /usr/local/bin/airflow          airflow   \n",
       "\n",
       "  tags.mlflow.source.type tags.version  \n",
       "0                   LOCAL         fake  "
      ]
     },
     "metadata": {},
     "output_type": "display_data"
    },
    {
     "data": {
      "text/plain": [
       "run_id                                                        627a7528afc94fba8882493434cd0ce5\n",
       "experiment_id                                                                                6\n",
       "status                                                                                FINISHED\n",
       "artifact_uri                                 gs://mlops-50-artifacts/experiments/6/627a7528...\n",
       "start_time                                                    2021-01-18 20:54:24.071000+00:00\n",
       "end_time                                                      2021-01-18 20:54:24.289000+00:00\n",
       "metrics.train_cross_valid_score_rmse_mean                                             0.628741\n",
       "metrics.eval_cross_valid_score_rmse_mean                                              0.572777\n",
       "params.number_of_estimators                                                                 99\n",
       "tags.job_name                                                   training_job_20210118_205422_1\n",
       "tags.mlflow.source.name                                                 /usr/local/bin/airflow\n",
       "tags.mlflow.user                                                                       airflow\n",
       "tags.mlflow.source.type                                                                  LOCAL\n",
       "tags.version                                                                              fake\n",
       "Name: 0, dtype: object"
      ]
     },
     "metadata": {},
     "output_type": "display_data"
    }
   ],
   "source": [
    "# Comparer test\n",
    "def model_comparer(job_name, **kwargs):\n",
    "    job_name_1=job_name+'_1'\n",
    "    job_name_2=job_name+'_2'\n",
    "\n",
    "    experiment = mlflow.get_experiment_by_name(\"chicago-taxi-1\")\n",
    "    print(experiment)\n",
    "    filter_string = f\"tags.job_name ILIKE '{job_name}_%'\"\n",
    "    df = mlflow.search_runs([experiment.experiment_id], filter_string=filter_string)\n",
    "    display(df)\n",
    "    maxr= df.loc[df['metrics.train_cross_valid_score_rmse_mean'].idxmax()]\n",
    "    display(maxr)\n",
    "    \n",
    "model_comparer(\"training_job_20210118_205422\")"
   ]
  },
  {
   "cell_type": "code",
   "execution_count": null,
   "metadata": {},
   "outputs": [],
   "source": []
  }
 ],
 "metadata": {
  "kernelspec": {
   "display_name": "Python 3",
   "language": "python",
   "name": "python3"
  },
  "language_info": {
   "codemirror_mode": {
    "name": "ipython",
    "version": 3
   },
   "file_extension": ".py",
   "mimetype": "text/x-python",
   "name": "python",
   "nbconvert_exporter": "python",
   "pygments_lexer": "ipython3",
   "version": "3.7.8"
  }
 },
 "nbformat": 4,
 "nbformat_minor": 4
}
