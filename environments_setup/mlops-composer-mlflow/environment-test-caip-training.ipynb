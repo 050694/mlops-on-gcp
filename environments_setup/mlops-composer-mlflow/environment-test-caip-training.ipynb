{
 "cells": [
  {
   "cell_type": "markdown",
   "metadata": {},
   "source": [
    "# Verifying the MLOps environment on GCP with Cloud AI Platfrom training\n",
    "\n",
    "This notebook verifies the MLOps environment provisioned on GCP\n",
    "1. Submit a Cloud AI Platfrom training job using custom container\n",
    "2. Test using the training result log entries in the Cloud SQL\n"
   ]
  },
  {
   "cell_type": "markdown",
   "metadata": {},
   "source": [
    "## 1. Create and submit Cloud AI Platfrom training job\n"
   ]
  },
  {
   "cell_type": "code",
   "execution_count": null,
   "metadata": {},
   "outputs": [],
   "source": [
    "import os\n",
    "import re\n",
    "import mlflow\n",
    "import mlflow.sklearn\n",
    "import numpy as np\n",
    "from sklearn.linear_model import LogisticRegression\n",
    "import pymysql\n",
    "from IPython.core.display import display, HTML\n",
    "from datetime import date"
   ]
  },
  {
   "cell_type": "code",
   "execution_count": null,
   "metadata": {},
   "outputs": [],
   "source": [
    "experiment_name = \"caip-training-test\"\n",
    "mlflow.set_experiment(experiment_name)\n",
    "\n",
    "mlflow_tracking_uri = mlflow.get_tracking_uri()\n",
    "mlflow_artifact_uri = os.environ['MLFLOW_EXPERIMENTS_URI']\n",
    "training_artifacts_uri = mlflow_artifact_uri+\"/caip-training\"\n",
    "REGION=os.environ['MLOPS_REGION']\n",
    "\n",
    "print(\"MLflow tracking server URI: {}\".format(mlflow_tracking_uri))\n",
    "print(\"MLflow articfacts store root: {}\".format(mlflow_artifact_uri))\n",
    "print(\"MLflow SQL connction name: {}\".format(os.environ['MLFLOW_SQL_CONNECTION_NAME']))\n",
    "print(\"MLflow SQL connction string: {}\".format(os.environ['MLFLOW_SQL_CONNECTION_STR']))\n",
    "\n",
    "display(HTML('<hr>You can check results of this test in MLflow and GCS folder:'))\n",
    "display(HTML('<h4><a href=\"{}\" rel=\"noopener noreferrer\" target=\"_blank\">Click to open MLflow UI</a></h4>'.format(os.environ['MLFLOW_TRACKING_EXTERNAL_URI'])))\n",
    "display(HTML('<h4><a href=\"https://console.cloud.google.com/storage/browser/{}\" rel=\"noopener noreferrer\" target=\"_blank\">Click to open GCS folder</a></h4>'.format(mlflow_artifact_uri.replace('gs://',''))))\n",
    "\n",
    "!mkdir ./scikit_learn"
   ]
  },
  {
   "cell_type": "markdown",
   "metadata": {},
   "source": [
    "### 1.0. Create model trainer file\n",
    "We implement a simple Scikit-learn model training routine"
   ]
  },
  {
   "cell_type": "code",
   "execution_count": null,
   "metadata": {},
   "outputs": [],
   "source": [
    "%%writefile ./scikit_learn/test-caip-sklearn-mlflow.py\n",
    "\n",
    "import mlflow\n",
    "import mlflow.sklearn\n",
    "import numpy as np\n",
    "from datetime import timedelta\n",
    "from sklearn.linear_model import LogisticRegression\n",
    "\n",
    "def train_model(**kwargs):\n",
    "    print(\"Regularized logistic regression model train step started...\")\n",
    "    print(\"MLflow tracking uri: {}\".format(mlflow.get_tracking_uri()))\n",
    "    mlflow.set_experiment(\"caip-training-test\")\n",
    "    with mlflow.start_run(nested=True):\n",
    "        X = np.array([-2, -1, 0, 1, 2, 1]).reshape(-1, 1)\n",
    "        y = np.array([0, 0, 1, 1, 1, 0])\n",
    "        lr = LogisticRegression(max_iter=2)\n",
    "        lr.fit(X, y)\n",
    "        score = lr.score(X, y)\n",
    "        mlflow.log_metric(\"score\", score)\n",
    "        mlflow.sklearn.log_model(lr, \"model\")\n",
    "    print(\"Train lr model step finished.\")\n",
    "\n",
    "if __name__ == '__main__':\n",
    "    kwargs = dict(x.split('=', 1) for x in sys.argv[1:])\n",
    "    train_model(**kwargs)"
   ]
  },
  {
   "cell_type": "markdown",
   "metadata": {},
   "source": [
    "Create an empty __init__ file which is needed for training package."
   ]
  },
  {
   "cell_type": "code",
   "execution_count": null,
   "metadata": {},
   "outputs": [],
   "source": [
    "%%writefile ./scikit_learn/__init__.py\n",
    "\n"
   ]
  },
  {
   "cell_type": "code",
   "execution_count": null,
   "metadata": {},
   "outputs": [],
   "source": [
    "# !gsutil cp test-caip-sklearn-mlflow.py ${training_artifacts_uri}"
   ]
  },
  {
   "cell_type": "markdown",
   "metadata": {},
   "source": [
    "### 1.2. Submit training job\n",
    "Note: Every run of this notebook cell creates a new traing job!"
   ]
  },
  {
   "cell_type": "code",
   "execution_count": null,
   "metadata": {},
   "outputs": [],
   "source": [
    "submit_time = datetime.now().strftime(\"%Y%m%d_%H%M%S\")\n",
    "JOB_NAME=\"training_job_{}\".format(submit_time)\n",
    "JOB_DIR=\"{}/training_{}\".format(training_artifacts_uri,submit_time)\n",
    "print(\"Training job name: {}\".format(JOB_NAME))\n",
    "\n",
    "!gcloud ai-platform jobs submit training {JOB_NAME} \\\n",
    "  --region {REGION} \\\n",
    "  --job-dir {JOB_DIR} \\\n",
    "  --package-path ./scikit_learn/ \\\n",
    "  --module-name test-caip-sklearn-mlflow \\\n",
    "  --runtime-version=2.1 \\\n",
    "  --python-version=3.7 \\\n",
    "  --scale-tier=BASIC \\\n",
    "  -- \\\n",
    "  --epochs=2\n",
    "# \"Command '['python3', '-m', 'test-caip-sklearn-mlflow', '--model-dir=gs://mlops29-artifacts/experiments/caip-training/training_20200823_152039', '--epochs=2', '--job-dir', 'gs://mlops29-artifacts/experiments/caip-training/training_20200823_152039']' returned non-zero exit status 1.\" \n",
    "\n",
    "#  --master-image-uri $IMAGE_URI \\"
   ]
  },
  {
   "cell_type": "markdown",
   "metadata": {},
   "source": [
    "### 1.x Wait for job done\n",
    "After you submit your job, you can monitor the job status"
   ]
  },
  {
   "cell_type": "code",
   "execution_count": null,
   "metadata": {},
   "outputs": [],
   "source": [
    "!gcloud ai-platform jobs describe {JOB_NAME}\n"
   ]
  },
  {
   "cell_type": "code",
   "execution_count": null,
   "metadata": {},
   "outputs": [],
   "source": [
    "Training logs"
   ]
  },
  {
   "cell_type": "code",
   "execution_count": null,
   "metadata": {},
   "outputs": [],
   "source": [
    "!gcloud ai-platform jobs stream-logs {JOB_NAME}"
   ]
  },
  {
   "cell_type": "markdown",
   "metadata": {},
   "source": [
    "## 2.0. Test results\n",
    "Examine the logged entries in Cloud SQL and produced articats in Cloud Storage through MLflow tracking."
   ]
  },
  {
   "cell_type": "markdown",
   "metadata": {},
   "source": [
    "### 2.1. Create a SQL connection to test training results"
   ]
  },
  {
   "cell_type": "code",
   "execution_count": null,
   "metadata": {},
   "outputs": [],
   "source": [
    "sqlauth=re.search('mysql\\\\+pymysql://(?P<user>.*):(?P<psw>.*)@127.0.0.1:3306/mlflow', os.environ['MLFLOW_SQL_CONNECTION_STR'],re.DOTALL)\n",
    "connection = pymysql.connect(\n",
    "    host='127.0.0.1',\n",
    "    port=3306,\n",
    "    database='mlflow',\n",
    "    user=sqlauth.group('user'),\n",
    "    passwd=sqlauth.group('psw')\n",
    ")"
   ]
  },
  {
   "cell_type": "markdown",
   "metadata": {},
   "source": [
    "#### List tables"
   ]
  },
  {
   "cell_type": "code",
   "execution_count": null,
   "metadata": {},
   "outputs": [],
   "source": [
    "cursor = connection.cursor()   \n",
    "cursor.execute(\"SHOW TABLES\")\n",
    "for entry in cursor:\n",
    "    print(entry[0])"
   ]
  },
  {
   "cell_type": "markdown",
   "metadata": {},
   "source": [
    "#### Retrieve experiment"
   ]
  },
  {
   "cell_type": "code",
   "execution_count": null,
   "metadata": {},
   "outputs": [],
   "source": [
    "cursor.execute(\"SELECT * FROM experiments where name='{}'\".format(experiment_name))\n",
    "for entry in cursor:\n",
    "    print(entry)\n",
    "\n",
    "experiment_id = entry[0]"
   ]
  },
  {
   "cell_type": "markdown",
   "metadata": {},
   "source": [
    "#### Query runs"
   ]
  },
  {
   "cell_type": "code",
   "execution_count": null,
   "metadata": {},
   "outputs": [],
   "source": [
    "cursor.execute(\"SELECT * FROM runs where experiment_id={}\".format(experiment_id))\n",
    "for entry in cursor:\n",
    "    print(entry)\n",
    "\n",
    "run_uuid = entry[0]"
   ]
  },
  {
   "cell_type": "markdown",
   "metadata": {},
   "source": [
    "#### Query metrics"
   ]
  },
  {
   "cell_type": "code",
   "execution_count": null,
   "metadata": {},
   "outputs": [],
   "source": [
    "cursor.execute(\"SELECT * FROM metrics where run_uuid = '{}'\".format(run_uuid))\n",
    "for entry in cursor:\n",
    "    print(entry)"
   ]
  },
  {
   "cell_type": "markdown",
   "metadata": {},
   "source": [
    "### 2.2. List the artifacts in Cloud Storage"
   ]
  },
  {
   "cell_type": "code",
   "execution_count": null,
   "metadata": {},
   "outputs": [],
   "source": [
    "!gsutil ls {mlflow_artifact_uri}/{experiment_id}/{run_uuid}/artifacts/model"
   ]
  }
 ],
 "metadata": {
  "environment": {
   "name": "r-cpu.3-6.m49",
   "type": "gcloud",
   "uri": "gcr.io/deeplearning-platform-release/r-cpu.3-6:m49"
  },
  "kernelspec": {
   "display_name": "Python 3",
   "language": "python",
   "name": "python3"
  },
  "language_info": {
   "codemirror_mode": {
    "name": "ipython",
    "version": 3
   },
   "file_extension": ".py",
   "mimetype": "text/x-python",
   "name": "python",
   "nbconvert_exporter": "python",
   "pygments_lexer": "ipython3",
   "version": "3.7.5-final"
  }
 },
 "nbformat": 4,
 "nbformat_minor": 4
}